{
 "cells": [
  {
   "cell_type": "markdown",
   "id": "68c2affa-1a18-43d2-ab34-235dc06e9fba",
   "metadata": {},
   "source": [
    "# Load Data"
   ]
  },
  {
   "cell_type": "code",
   "execution_count": 1,
   "id": "c0b28b52-27bf-44ba-af78-3a09b31b11d2",
   "metadata": {},
   "outputs": [],
   "source": [
    "from recom_system.algorithms.io import get_ratings, get_books\n",
    "\n",
    "ratings = get_ratings()\n",
    "books = get_books()"
   ]
  },
  {
   "cell_type": "code",
   "execution_count": 3,
   "id": "79ff202d-1db3-404b-8539-e36b29eb24bb",
   "metadata": {},
   "outputs": [
    {
     "name": "stdout",
     "output_type": "stream",
     "text": [
      "len(books)=8475 len(books_with_ratings)=8452\n"
     ]
    }
   ],
   "source": [
    "# mean ratings\n",
    "import numpy as np\n",
    "\n",
    "books_with_ratings = np.unique(ratings.book_id)\n",
    "print(f'{len(books)=} {len(books_with_ratings)=}')"
   ]
  },
  {
   "cell_type": "code",
   "execution_count": 7,
   "id": "a2430d88-996c-4bd0-beec-db58ecfd93b7",
   "metadata": {},
   "outputs": [],
   "source": [
    "# build data and label\n",
    "\n",
    "data = books[books.id.isin(books_with_ratings)]\n",
    "labels = []\n",
    "for book_id in books_with_ratings:\n",
    "    labels.append(ratings.loc[ratings.book_id == book_id, 'rating'].mean())\n",
    "labels = np.array(labels)"
   ]
  },
  {
   "cell_type": "code",
   "execution_count": 8,
   "id": "e0db335d-f35f-4b3c-9646-d4eb22ff9624",
   "metadata": {},
   "outputs": [
    {
     "name": "stdout",
     "output_type": "stream",
     "text": [
      "labels[:10]=array([3, 4, 4, 4, 4, 4, 4, 4, 4, 4])\n",
      "labels.max()=5\n",
      "labels.min()=0\n"
     ]
    }
   ],
   "source": [
    "labels = labels.round(0).astype(int)\n",
    "print(f'{labels[:10]=}\\n{labels.max()=}\\n{labels.min()=}')"
   ]
  },
  {
   "cell_type": "code",
   "execution_count": 9,
   "id": "be8a0111-a143-46bf-827c-089580573ff1",
   "metadata": {},
   "outputs": [],
   "source": [
    "index = labels != 0\n",
    "data = data[index]\n",
    "labels = labels[index]"
   ]
  },
  {
   "cell_type": "code",
   "execution_count": 13,
   "id": "80684029-09ae-4e9b-9265-53b1f11bedcd",
   "metadata": {},
   "outputs": [
    {
     "data": {
      "text/plain": [
       "<BarContainer object of 5 artists>"
      ]
     },
     "execution_count": 13,
     "metadata": {},
     "output_type": "execute_result"
    },
    {
     "data": {
      "image/png": "[encoded data removed]",
      "text/plain": [
       "<Figure size 640x480 with 1 Axes>"
      ]
     },
     "metadata": {},
     "output_type": "display_data"
    }
   ],
   "source": [
    "from matplotlib import pyplot as plt\n",
    "\n",
    "lab, count = np.unique(labels, return_counts=True)\n",
    "plt.bar(lab, count)"
   ]
  },
  {
   "cell_type": "code",
   "execution_count": 34,
   "id": "ad90d31c-778e-488b-a084-1577de10cee3",
   "metadata": {},
   "outputs": [
    {
     "data": {
      "text/plain": [
       "array([[-0.02236524,  0.0446007 , -0.01703515, ..., -0.03628001,\n",
       "         0.04936349,  0.01600925],\n",
       "       [-0.01925834,  0.09544671,  0.03581044, ...,  0.08353826,\n",
       "         0.05405765, -0.04220512],\n",
       "       [-0.03346099,  0.07280295, -0.07751514, ..., -0.00064888,\n",
       "         0.013666  , -0.01249366],\n",
       "       ...,\n",
       "       [ 0.02658819, -0.00770496, -0.0204349 , ..., -0.06020261,\n",
       "        -0.01054514, -0.05528771],\n",
       "       [-0.0174621 , -0.05357287,  0.0314091 , ...,  0.05260606,\n",
       "         0.05783745,  0.0404395 ],\n",
       "       [ 0.03641284,  0.10452227,  0.03549685, ...,  0.10204758,\n",
       "        -0.00515933, -0.04022478]])"
      ]
     },
     "execution_count": 34,
     "metadata": {},
     "output_type": "execute_result"
    }
   ],
   "source": [
    "import json\n",
    "\n",
    "features = data.vector.apply(json.loads)\n",
    "features = np.array(features.to_list())\n",
    "features"
   ]
  },
  {
   "cell_type": "code",
   "execution_count": 35,
   "id": "ca4ba2f5-c0ff-446b-98e6-01e73fde8d95",
   "metadata": {},
   "outputs": [],
   "source": [
    "# split into train & test set\n",
    "from sklearn.model_selection import train_test_split\n",
    "\n",
    "traindata, testdata, trainlabels, testlabels = train_test_split(features, labels, test_size=0.3, random_state=42, stratify=labels)"
   ]
  },
  {
   "cell_type": "markdown",
   "id": "f7394575-b116-460b-a299-d944999f796e",
   "metadata": {},
   "source": [
    "# Classification\n",
    "## Baseline"
   ]
  },
  {
   "cell_type": "code",
   "execution_count": 46,
   "id": "364b3ae4-47fa-421f-ac01-aa75d7232a79",
   "metadata": {},
   "outputs": [
    {
     "name": "stdout",
     "output_type": "stream",
     "text": [
      "accuracy=0.55238 f1=0.55238\n",
      "[[   0    0    0   14    0]\n",
      " [   0    0    5  134    1]\n",
      " [   0    0   28  510    6]\n",
      " [   0    0   37 1350   12]\n",
      " [   0    0    8  401   14]]\n"
     ]
    }
   ],
   "source": [
    "from sklearn.linear_model import LogisticRegression\n",
    "from sklearn.metrics import accuracy_score, f1_score, confusion_matrix\n",
    "\n",
    "\n",
    "lr = LogisticRegression().fit(traindata, trainlabels)\n",
    "pred = lr.predict(testdata)\n",
    "accuracy = accuracy_score(testlabels, pred)\n",
    "f1 = f1_score(testlabels, pred, average='micro')\n",
    "cmatrix = confusion_matrix(testlabels, pred)\n",
    "\n",
    "print(f'{accuracy=:.5f} {f1=:.5f}')\n",
    "print(cmatrix)"
   ]
  },
  {
   "cell_type": "markdown",
   "id": "03ac3b89-9e9d-42f0-8e76-65f4efdea3db",
   "metadata": {},
   "source": [
    "## With PCA"
   ]
  },
  {
   "cell_type": "code",
   "execution_count": 54,
   "id": "85acee65-9301-4d2b-9d2c-7659b96c5a5b",
   "metadata": {},
   "outputs": [
    {
     "name": "stdout",
     "output_type": "stream",
     "text": [
      "accuracy=0.53651 f1=0.53651\n",
      "[[   0    0    1   12    1]\n",
      " [   1    0    4  131    4]\n",
      " [   3    1   35  493   12]\n",
      " [   9    1   59 1292   38]\n",
      " [   2    0   12  384   25]]\n"
     ]
    }
   ],
   "source": [
    "from sklearn.preprocessing import StandardScaler\n",
    "from sklearn.decomposition import PCA\n",
    "from sklearn.pipeline import Pipeline\n",
    "\n",
    "\n",
    "clf = Pipeline([('std', StandardScaler()), ('pca', PCA(0.9)), ('lr', LogisticRegression(max_iter=500))])\n",
    "clf.fit(traindata, trainlabels)\n",
    "\n",
    "pred = clf.predict(testdata)\n",
    "accuracy = accuracy_score(testlabels, pred)\n",
    "f1 = f1_score(testlabels, pred, average='micro')\n",
    "cmatrix = confusion_matrix(testlabels, pred)\n",
    "\n",
    "print(f'{accuracy=:.5f} {f1=:.5f}')\n",
    "print(cmatrix)"
   ]
  },
  {
   "cell_type": "markdown",
   "id": "b5be7250-d6b4-4750-9cc0-9479cba4547a",
   "metadata": {},
   "source": [
    "## NN with PCA"
   ]
  },
  {
   "cell_type": "code",
   "execution_count": 55,
   "id": "de30da76-7080-4118-8884-b7f662da18aa",
   "metadata": {},
   "outputs": [
    {
     "name": "stdout",
     "output_type": "stream",
     "text": [
      "accuracy=0.44524 f1=0.44524\n",
      "[[  0   0   4   8   2]\n",
      " [  1   2  23  96  18]\n",
      " [  3  11 109 359  62]\n",
      " [  6  29 239 944 181]\n",
      " [  0   7  68 281  67]]\n"
     ]
    }
   ],
   "source": [
    "from sklearn.neural_network import MLPClassifier\n",
    "\n",
    "\n",
    "clf = Pipeline([('std', StandardScaler()), ('pca', PCA(0.9)), ('mlp', MLPClassifier([100, 50]))])\n",
    "clf.fit(traindata, trainlabels)\n",
    "\n",
    "pred = clf.predict(testdata)\n",
    "accuracy = accuracy_score(testlabels, pred)\n",
    "f1 = f1_score(testlabels, pred, average='micro')\n",
    "cmatrix = confusion_matrix(testlabels, pred)\n",
    "\n",
    "print(f'{accuracy=:.5f} {f1=:.5f}')\n",
    "print(cmatrix)"
   ]
  }
 ],
 "metadata": {
  "kernelspec": {
   "display_name": "Python 3 (ipykernel)",
   "language": "python",
   "name": "python3"
  },
  "language_info": {
   "codemirror_mode": {
    "name": "ipython",
    "version": 3
   },
   "file_extension": ".py",
   "mimetype": "text/x-python",
   "name": "python",
   "nbconvert_exporter": "python",
   "pygments_lexer": "ipython3",
   "version": "3.11.8"
  }
 },
 "nbformat": 4,
 "nbformat_minor": 5
}
