{
 "cells": [
  {
   "cell_type": "markdown",
   "id": "58375bf4-279a-41a7-a76b-60bd4df655ab",
   "metadata": {},
   "source": [
    "# Test Algorithms\n",
    "\n",
    "By Anthony"
   ]
  },
  {
   "cell_type": "markdown",
   "id": "7ac9eb2a-a3fc-445e-869b-41f8e9d3939b",
   "metadata": {},
   "source": [
    "# Load Data"
   ]
  },
  {
   "cell_type": "code",
   "execution_count": 23,
   "id": "93c172e4-2dcb-4132-b5eb-34f706379a0e",
   "metadata": {},
   "outputs": [
    {
     "name": "stdout",
     "output_type": "stream",
     "text": [
      "len(trainset.raw_ratings)=363099, len(testset)=0\n"
     ]
    }
   ],
   "source": [
    "from recom_system.algorithms.preprocessing import get_ratings_datasets\n",
    "\n",
    "\n",
    "trainset, testset = get_ratings_datasets(train_size=1, drop_zero=True)\n",
    "print(f'{len(trainset.raw_ratings)=}, {len(testset)=}')\n"
   ]
  },
  {
   "cell_type": "code",
   "execution_count": 24,
   "id": "040000c6-d3a2-4151-b043-feed30df88ea",
   "metadata": {},
   "outputs": [
    {
     "data": {
      "text/plain": [
       "surprise.dataset.DatasetAutoFolds"
      ]
     },
     "execution_count": 24,
     "metadata": {},
     "output_type": "execute_result"
    }
   ],
   "source": [
    "type(trainset)"
   ]
  },
  {
   "cell_type": "code",
   "execution_count": 25,
   "id": "0971f9b5-e3eb-474e-b7d7-efeb1764caa1",
   "metadata": {},
   "outputs": [
    {
     "data": {
      "text/plain": [
       "numpy.ndarray"
      ]
     },
     "execution_count": 25,
     "metadata": {},
     "output_type": "execute_result"
    }
   ],
   "source": [
    "type(testset)"
   ]
  },
  {
   "cell_type": "code",
   "execution_count": 26,
   "id": "fbc6b1ee-ef02-4dfb-9c73-410699baa23a",
   "metadata": {},
   "outputs": [],
   "source": [
    "def get_best_rmse(gs):\n",
    "    ind = gs.cv_results['params'].index(gs.best_params['rmse'])\n",
    "    rmse_list = [gs.cv_results[f'split{i}_test_rmse'][ind]\n",
    "                 for i in range(gs.cv)]\n",
    "    return rmse_list\n",
    "    "
   ]
  },
  {
   "cell_type": "markdown",
   "id": "5dba1ee9-a685-4e63-bbc4-27a599cfbd3d",
   "metadata": {},
   "source": [
    "# Simple Collaborative Filtering "
   ]
  },
  {
   "cell_type": "markdown",
   "id": "8f24cd0e-6985-458a-a1bf-d3daed39e1d9",
   "metadata": {},
   "source": [
    "## Baseline"
   ]
  },
  {
   "cell_type": "code",
   "execution_count": 5,
   "id": "f21bb65f-31bf-4bc7-bec3-911f87566f7c",
   "metadata": {},
   "outputs": [
    {
     "name": "stdout",
     "output_type": "stream",
     "text": [
      "Estimating biases using als...\n",
      "Estimating biases using als...\n",
      "Estimating biases using als...\n",
      "Estimating biases using als...\n",
      "Estimating biases using als...\n"
     ]
    }
   ],
   "source": [
    "from surprise import BaselineOnly\n",
    "from surprise.model_selection import cross_validate\n",
    "\n",
    "bl = BaselineOnly()\n",
    "rmse_bl = cross_validate(bl, trainset, ['rmse'], cv=5)['test_rmse']"
   ]
  },
  {
   "cell_type": "code",
   "execution_count": 6,
   "id": "e84e18d3-c353-442c-bf2c-35ec437f6cce",
   "metadata": {},
   "outputs": [
    {
     "data": {
      "text/plain": [
       "array([0.83660741, 0.84195114, 0.84396108, 0.84140521, 0.84390871])"
      ]
     },
     "execution_count": 6,
     "metadata": {},
     "output_type": "execute_result"
    }
   ],
   "source": [
    "rmse_bl"
   ]
  },
  {
   "cell_type": "markdown",
   "id": "a31384a7-0179-4306-a489-bb169c4084e1",
   "metadata": {},
   "source": [
    "## SVD++\n",
    "\n",
    "P value < 0.05, significantly better than Baseline."
   ]
  },
  {
   "cell_type": "code",
   "execution_count": 7,
   "id": "efd8c683-216b-4226-8f3a-b4929f37c0c4",
   "metadata": {},
   "outputs": [
    {
     "name": "stdout",
     "output_type": "stream",
     "text": [
      "gs_svd.best_params={'rmse': {'n_factors': 10, 'n_epochs': 20}}, gs_svd.best_score={'rmse': 0.8132215061738538}\n"
     ]
    }
   ],
   "source": [
    "from surprise import SVDpp\n",
    "from surprise.model_selection import GridSearchCV\n",
    "\n",
    "params = {\n",
    "    'n_factors': [10, 20, 50, 100],\n",
    "    'n_epochs': [20,50]\n",
    "}\n",
    "\n",
    "gs_svd = GridSearchCV(SVDpp, params, ['rmse'], cv=5)\n",
    "gs_svd.fit(trainset)\n",
    "print(f'{gs_svd.best_params=}, {gs_svd.best_score=}')"
   ]
  },
  {
   "cell_type": "code",
   "execution_count": 8,
   "id": "398fa216-470f-4c5c-9c4f-e7375f13736a",
   "metadata": {},
   "outputs": [
    {
     "data": {
      "text/plain": [
       "[0.8146200027489624,\n",
       " 0.8172127646868833,\n",
       " 0.808631607487773,\n",
       " 0.8114388992765034,\n",
       " 0.8142042566691474]"
      ]
     },
     "execution_count": 8,
     "metadata": {},
     "output_type": "execute_result"
    }
   ],
   "source": [
    "svd = gs_svd.best_estimator['rmse']\n",
    "rmse_svd = get_best_rmse(gs_svd)\n",
    "rmse_svd"
   ]
  },
  {
   "cell_type": "code",
   "execution_count": 9,
   "id": "a9904d1d-d0c3-4bde-a837-bd90db4e4a83",
   "metadata": {},
   "outputs": [
    {
     "data": {
      "text/plain": [
       "TtestResult(statistic=14.254526522254828, pvalue=5.717430717204586e-07, df=8.0)"
      ]
     },
     "execution_count": 9,
     "metadata": {},
     "output_type": "execute_result"
    }
   ],
   "source": [
    "from scipy.stats import ttest_ind\n",
    "ttest_ind(rmse_bl, rmse_svd)"
   ]
  },
  {
   "cell_type": "markdown",
   "id": "84f9a422-40de-48bc-b926-782969b8eba7",
   "metadata": {},
   "source": [
    "## Item-Based KNN\n",
    "\n",
    "P value from T-Test > 0.05, no significant improvement comparing with Baseline."
   ]
  },
  {
   "cell_type": "code",
   "execution_count": 10,
   "id": "36117126-01d8-4a6c-aee3-470084c1f982",
   "metadata": {},
   "outputs": [
    {
     "name": "stdout",
     "output_type": "stream",
     "text": [
      "gs_knn.best_params={'rmse': {'k': 50, 'min_k': 3, 'sim_options': {'user_based': False, 'name': 'msd'}, 'verbose': False}}, gs_knn.best_score={'rmse': 0.8425375086483211}\n"
     ]
    }
   ],
   "source": [
    "from surprise import KNNWithMeans\n",
    "\n",
    "\n",
    "params = {\n",
    "    \"k\": [10, 20, 50, 100],\n",
    "    \"min_k\": [1, 3, 5, 10],\n",
    "    \"sim_options\": {\n",
    "        \"user_based\": [False],\n",
    "        \"name\": [\"msd\", \"cosine\"],\n",
    "    },\n",
    "    \"verbose\": [False],\n",
    "}\n",
    "\n",
    "gs_knn = GridSearchCV(KNNWithMeans, params, ['rmse'], cv=5)\n",
    "gs_knn.fit(trainset)\n",
    "print(f'{gs_knn.best_params=}, {gs_knn.best_score=}')"
   ]
  },
  {
   "cell_type": "code",
   "execution_count": 11,
   "id": "f86e2460-c0cd-4cc2-b304-641b6dc192b2",
   "metadata": {},
   "outputs": [
    {
     "data": {
      "text/plain": [
       "[0.8396249518778547,\n",
       " 0.8430932263728895,\n",
       " 0.8435954958025824,\n",
       " 0.8460033611640593,\n",
       " 0.8403705080242191]"
      ]
     },
     "execution_count": 11,
     "metadata": {},
     "output_type": "execute_result"
    }
   ],
   "source": [
    "knn = gs_knn.best_estimator['rmse']\n",
    "rmse_knn = get_best_rmse(gs_knn)\n",
    "rmse_knn"
   ]
  },
  {
   "cell_type": "code",
   "execution_count": 12,
   "id": "b30f181f-0a7a-4476-89dc-d7829dab9fd6",
   "metadata": {},
   "outputs": [
    {
     "data": {
      "text/plain": [
       "TtestResult(statistic=-0.548702366692953, pvalue=0.5981852303434684, df=8.0)"
      ]
     },
     "execution_count": 12,
     "metadata": {},
     "output_type": "execute_result"
    }
   ],
   "source": [
    "ttest_ind(rmse_bl, rmse_knn)"
   ]
  },
  {
   "cell_type": "markdown",
   "id": "25167b7a-b691-4443-ba78-4401d93495e3",
   "metadata": {},
   "source": [
    "# Simple Content-Based"
   ]
  },
  {
   "cell_type": "code",
   "execution_count": 5,
   "id": "55461cdb-acc4-43ff-b4f6-47273ad83ed1",
   "metadata": {},
   "outputs": [],
   "source": [
    "from recom_system.algorithms.io import get_books\n",
    "\n",
    "books = get_books()"
   ]
  },
  {
   "cell_type": "code",
   "execution_count": 6,
   "id": "829b4850-fbfd-419d-8d20-a93692a3963b",
   "metadata": {},
   "outputs": [],
   "source": [
    "import numpy as np\n",
    "\n",
    "\n",
    "def summarize_n(algo, data, n=[5, 10, 15], measures=['ndcg', 'precision']):\n",
    "    results = {n: [] for n in measures}\n",
    "    for k in n:\n",
    "        ms = [f'{name}@{k}' for name in measures]\n",
    "        res = cross_validate(algo, data, measures=ms)\n",
    "        for m in ms:\n",
    "            results[m.split('@')[0]].append(np.mean(res[m]))\n",
    "    return results"
   ]
  },
  {
   "cell_type": "markdown",
   "id": "2e0b123b-3f12-4160-91f6-6518bdd50716",
   "metadata": {},
   "source": [
    "## Sentence Embeddings\n",
    "\n",
    "Sentence Vectors from book's title and description"
   ]
  },
  {
   "cell_type": "code",
   "execution_count": 7,
   "id": "8f6d7549-bdd8-4344-a921-6680f9b8c82d",
   "metadata": {},
   "outputs": [
    {
     "data": {
      "text/plain": [
       "{'ndcg': [0.9781397963008651, 0.9807475160611581, 0.9812546519713733],\n",
       " 'precision': [0.7519778949325999, 0.7513502243400039, 0.7512622764733645]}"
      ]
     },
     "execution_count": 7,
     "metadata": {},
     "output_type": "execute_result"
    }
   ],
   "source": [
    "from recom_system.algorithms.models.vector_based.sentence_embeddings import build_item_matrix\n",
    "from recom_system.algorithms.models.vector_based import VectorBasedModel\n",
    "from recom_system.algorithms.metrics import cross_validate\n",
    "\n",
    "sent_profiles = build_item_matrix(books)\n",
    "sent_model = VectorBasedModel(sent_profiles)\n",
    "sent_result = summarize_n(sent_model, trainset)\n",
    "sent_result"
   ]
  },
  {
   "cell_type": "markdown",
   "id": "d033b93a-82e4-49af-92ca-b50934a77b36",
   "metadata": {},
   "source": [
    "## TF-IDF\n",
    "\n",
    "TF-IDF from book's popular_shelves field"
   ]
  },
  {
   "cell_type": "code",
   "execution_count": 8,
   "id": "df3ee5e2-520e-40da-aff2-4d4d1a426c23",
   "metadata": {},
   "outputs": [
    {
     "data": {
      "text/plain": [
       "{'ndcg': [0.977581343037258, 0.980255055815638, 0.9808054420397168],\n",
       " 'precision': [0.7520201983227344, 0.7516508705490472, 0.7520681243194396]}"
      ]
     },
     "execution_count": 8,
     "metadata": {},
     "output_type": "execute_result"
    }
   ],
   "source": [
    "from recom_system.algorithms.models.dict_based.popular_shelves import build_item_profile\n",
    "from recom_system.algorithms.models.dict_based import DictBasedModel\n",
    "from recom_system.algorithms.metrics import cross_validate\n",
    "\n",
    "shelf_profiles = build_item_profile(books)\n",
    "shelf_model = DictBasedModel(shelf_profiles)\n",
    "shelf_result = summarize_n(shelf_model, trainset)\n",
    "shelf_result"
   ]
  },
  {
   "cell_type": "markdown",
   "id": "57d02264-b144-458d-9f2b-80823da8cdc9",
   "metadata": {},
   "source": [
    "## Comparison\n",
    "\n",
    "Sentence Embeddings is good at item ranking. And there is a great improvement of nDCG from k = 5 to k = 10. So we chose to show top 10 items to our users."
   ]
  },
  {
   "cell_type": "code",
   "execution_count": 9,
   "id": "c0d1eea9-db7e-49a7-bedd-35b7ed206a4a",
   "metadata": {},
   "outputs": [
    {
     "data": {
      "text/plain": [
       "Text(0.5, 1.0, 'Precision@K')"
      ]
     },
     "execution_count": 9,
     "metadata": {},
     "output_type": "execute_result"
    },
    {
     "data": {
      "image/png": "[encoded data removed]",
      "text/plain": [
       "<Figure size 640x480 with 2 Axes>"
      ]
     },
     "metadata": {},
     "output_type": "display_data"
    }
   ],
   "source": [
    "import numpy as np\n",
    "from matplotlib import pyplot as plt\n",
    "\n",
    "fig, (ax1, ax2) = plt.subplots(1, 2)\n",
    "\n",
    "x = [5, 10, 15]\n",
    "ax1.plot(x, sent_result['ndcg'], label='Sentence Embeddings')\n",
    "ax1.plot(x, shelf_result['ndcg'], label='TF-IDF')\n",
    "ax1.legend()\n",
    "ax1.set_xlabel('K')\n",
    "ax1.set_title(\"nDCG@K\")\n",
    "\n",
    "ax2.plot(x, sent_result['precision'], label='Sentence Embeddings')\n",
    "ax2.plot(x, shelf_result['precision'], label='TF-IDF')\n",
    "ax2.legend()\n",
    "ax2.set_xlabel('K')\n",
    "ax2.set_title(\"Precision@K\")"
   ]
  },
  {
   "cell_type": "markdown",
   "id": "fc60503f-59a0-450a-a8a6-2a45d46df69a",
   "metadata": {},
   "source": [
    "# Hybird Models"
   ]
  },
  {
   "cell_type": "markdown",
   "id": "9dbec508-a617-4725-a3bd-67be12594277",
   "metadata": {},
   "source": [
    "## User-Based KNN via Sentence Embeddings"
   ]
  },
  {
   "cell_type": "code",
   "execution_count": 7,
   "id": "4d33abe5-c331-4d5d-b58c-650e35ac5a4e",
   "metadata": {},
   "outputs": [
    {
     "data": {
      "text/plain": [
       "{'rmse': [0.9062392418936636,\n",
       "  0.9051320720251514,\n",
       "  0.9104927361718672,\n",
       "  0.9035830088797426,\n",
       "  0.9055446518434431],\n",
       " 'ndcg@10': [0.9820154988927444,\n",
       "  0.9820500268259471,\n",
       "  0.9819178024787244,\n",
       "  0.9822604938195173,\n",
       "  0.981991950424177],\n",
       " 'precision@10': [0.7528404712540343,\n",
       "  0.7535294450336152,\n",
       "  0.7489880224540012,\n",
       "  0.7513425240815347,\n",
       "  0.7497218985959924],\n",
       " 'recall@10': [0.8626349983107585,\n",
       "  0.8618209138513918,\n",
       "  0.8593780076839971,\n",
       "  0.8608993937760451,\n",
       "  0.8581943828645248]}"
      ]
     },
     "execution_count": 7,
     "metadata": {},
     "output_type": "execute_result"
    }
   ],
   "source": [
    "from recom_system.algorithms.models.knn_via_content import KNNViaContent\n",
    "from recom_system.algorithms.models.vector_based.sentence_embeddings import build_item_matrix\n",
    "from recom_system.algorithms.metrics import cross_validate\n",
    "\n",
    "\n",
    "sent_profiles = build_item_matrix(books)\n",
    "knn_sent = KNNViaContent(sent_profiles)\n",
    "results_knn_sent = cross_validate(knn_sent, trainset, ['rmse', 'ndcg@10', 'precision@10', 'recall@10'], cv=5)\n",
    "results_knn_sent"
   ]
  },
  {
   "cell_type": "code",
   "execution_count": 9,
   "id": "fb17045b-f853-48dd-9ba3-84f2f3edc980",
   "metadata": {},
   "outputs": [],
   "source": [
    "# compare with sentence embeddings content based\n",
    "from recom_system.algorithms.models.vector_based.sentence_embeddings import build_item_matrix\n",
    "from recom_system.algorithms.models.vector_based import VectorBasedModel\n",
    "from recom_system.algorithms.metrics import cross_validate\n",
    "\n",
    "sent_profiles = build_item_matrix(books)\n",
    "sent_model = VectorBasedModel(sent_profiles)\n",
    "results_sent = cross_validate(sent_model, trainset, ['rmse', 'ndcg@10', 'precision@10', 'recall@10'], cv=5)"
   ]
  },
  {
   "cell_type": "code",
   "execution_count": 10,
   "id": "6b2fce56-8330-454a-9566-35e9ae05b1ff",
   "metadata": {},
   "outputs": [
    {
     "data": {
      "text/plain": [
       "{'rmse': [272.6610581571527,\n",
       "  15390.502145556502,\n",
       "  247.5017384542953,\n",
       "  261.6702656067209,\n",
       "  695.701952164257],\n",
       " 'ndcg@10': [0.9807999441730565,\n",
       "  0.980854375032268,\n",
       "  0.9804341472509249,\n",
       "  0.9805814549490941,\n",
       "  0.9806651252493114],\n",
       " 'precision@10': [0.7510344125917456,\n",
       "  0.7512364640278495,\n",
       "  0.752114688733518,\n",
       "  0.7519463991839506,\n",
       "  0.7522640445283957],\n",
       " 'recall@10': [0.8597514186266361,\n",
       "  0.8607140424467848,\n",
       "  0.8610631240205002,\n",
       "  0.8617077271089457,\n",
       "  0.8611036608863691]}"
      ]
     },
     "execution_count": 10,
     "metadata": {},
     "output_type": "execute_result"
    }
   ],
   "source": [
    "results_sent"
   ]
  },
  {
   "cell_type": "code",
   "execution_count": 12,
   "id": "5a4affac-7ec6-402f-8bed-e16d32fce785",
   "metadata": {},
   "outputs": [
    {
     "data": {
      "text/plain": [
       "TtestResult(statistic=14.522660901112737, pvalue=4.950206757240847e-07, df=8.0)"
      ]
     },
     "execution_count": 12,
     "metadata": {},
     "output_type": "execute_result"
    }
   ],
   "source": [
    "from scipy.stats import ttest_ind\n",
    "\n",
    "ttest_ind(results_knn_sent['ndcg@10'], results_sent['ndcg@10'])"
   ]
  },
  {
   "cell_type": "code",
   "execution_count": 13,
   "id": "1b7fc7b0-48c6-475c-a3f4-07b873020b23",
   "metadata": {},
   "outputs": [
    {
     "data": {
      "text/plain": [
       "TtestResult(statistic=-0.4802750259496822, pvalue=0.6438894519377525, df=8.0)"
      ]
     },
     "execution_count": 13,
     "metadata": {},
     "output_type": "execute_result"
    }
   ],
   "source": [
    "ttest_ind(results_knn_sent['precision@10'], results_sent['precision@10'])"
   ]
  },
  {
   "cell_type": "code",
   "execution_count": 14,
   "id": "30e7f100-4b98-42fb-8bb0-c6aa5dd94941",
   "metadata": {},
   "outputs": [
    {
     "data": {
      "text/plain": [
       "TtestResult(statistic=-0.32539395038549085, pvalue=0.7532301619877556, df=8.0)"
      ]
     },
     "execution_count": 14,
     "metadata": {},
     "output_type": "execute_result"
    }
   ],
   "source": [
    "ttest_ind(results_knn_sent['recall@10'], results_sent['recall@10'])"
   ]
  },
  {
   "cell_type": "code",
   "execution_count": 16,
   "id": "b5cbc5e0-fc27-49b9-bc31-d527b3f44033",
   "metadata": {},
   "outputs": [
    {
     "data": {
      "text/plain": [
       "Text(0.5, 1.0, 'Precision@10')"
      ]
     },
     "execution_count": 16,
     "metadata": {},
     "output_type": "execute_result"
    },
    {
     "data": {
      "image/png": "[encoded data removed]",
      "text/plain": [
       "<Figure size 640x480 with 2 Axes>"
      ]
     },
     "metadata": {},
     "output_type": "display_data"
    }
   ],
   "source": [
    "from matplotlib import pyplot as plt\n",
    "\n",
    "fig, (ax1, ax2) = plt.subplots(1, 2)\n",
    "\n",
    "x = [i + 1 for i in range(5)]\n",
    "ax1.plot(x, results_knn_sent['ndcg@10'], label='CF via Content')\n",
    "ax1.plot(x, results_sent['ndcg@10'], label='Content-Based')\n",
    "ax1.legend()\n",
    "ax1.set_xlabel('test')\n",
    "ax1.set_title(\"nDCG@10\")\n",
    "\n",
    "ax2.plot(x, results_knn_sent['precision@10'], label='CF via Content')\n",
    "ax2.plot(x, results_sent['precision@10'], label='Content-Based')\n",
    "ax2.legend()\n",
    "ax2.set_xlabel('test')\n",
    "ax2.set_title(\"Precision@10\")"
   ]
  },
  {
   "cell_type": "markdown",
   "id": "41a9bff0-0b8e-4f1e-9fda-d49a0fd397b1",
   "metadata": {},
   "source": [
    "## NCF after SVD"
   ]
  },
  {
   "cell_type": "code",
   "execution_count": 27,
   "id": "d3351854-7178-4f08-a045-68ae0d0dc3ed",
   "metadata": {
    "scrolled": true
   },
   "outputs": [
    {
     "name": "stderr",
     "output_type": "stream",
     "text": [
      "1/20: 100%|████████████████████████████████| 3631/3631 [00:11<00:00, 309.03it/s]\n",
      "2/20: 100%|████████████████████████████████| 3631/3631 [00:11<00:00, 305.56it/s]\n",
      "3/20: 100%|████████████████████████████████| 3631/3631 [00:11<00:00, 308.85it/s]\n",
      "4/20: 100%|████████████████████████████████| 3631/3631 [00:11<00:00, 306.82it/s]\n",
      "5/20: 100%|████████████████████████████████| 3631/3631 [00:11<00:00, 307.82it/s]\n",
      "6/20: 100%|████████████████████████████████| 3631/3631 [00:11<00:00, 329.25it/s]\n",
      "7/20: 100%|████████████████████████████████| 3631/3631 [00:11<00:00, 322.12it/s]\n",
      "8/20: 100%|████████████████████████████████| 3631/3631 [00:10<00:00, 336.06it/s]\n",
      "9/20: 100%|████████████████████████████████| 3631/3631 [00:10<00:00, 331.35it/s]\n",
      "10/20: 100%|███████████████████████████████| 3631/3631 [00:10<00:00, 335.05it/s]\n",
      "11/20: 100%|███████████████████████████████| 3631/3631 [00:10<00:00, 332.00it/s]\n",
      "12/20: 100%|███████████████████████████████| 3631/3631 [00:11<00:00, 329.66it/s]\n",
      "13/20: 100%|███████████████████████████████| 3631/3631 [00:11<00:00, 326.42it/s]\n",
      "14/20: 100%|███████████████████████████████| 3631/3631 [00:10<00:00, 337.46it/s]\n",
      "15/20: 100%|███████████████████████████████| 3631/3631 [00:11<00:00, 328.72it/s]\n",
      "16/20: 100%|███████████████████████████████| 3631/3631 [00:10<00:00, 330.41it/s]\n",
      "17/20: 100%|███████████████████████████████| 3631/3631 [00:10<00:00, 330.56it/s]\n",
      "18/20: 100%|███████████████████████████████| 3631/3631 [00:11<00:00, 324.45it/s]\n",
      "19/20: 100%|███████████████████████████████| 3631/3631 [00:10<00:00, 335.55it/s]\n",
      "20/20: 100%|███████████████████████████████| 3631/3631 [00:10<00:00, 330.58it/s]\n",
      "1/20: 100%|████████████████████████████████| 3631/3631 [00:11<00:00, 319.50it/s]\n",
      "2/20: 100%|████████████████████████████████| 3631/3631 [00:11<00:00, 313.81it/s]\n",
      "3/20: 100%|████████████████████████████████| 3631/3631 [00:11<00:00, 322.49it/s]\n",
      "4/20: 100%|████████████████████████████████| 3631/3631 [00:11<00:00, 320.97it/s]\n",
      "5/20: 100%|████████████████████████████████| 3631/3631 [00:10<00:00, 346.28it/s]\n",
      "6/20: 100%|████████████████████████████████| 3631/3631 [00:09<00:00, 364.29it/s]\n",
      "7/20: 100%|████████████████████████████████| 3631/3631 [00:09<00:00, 367.53it/s]\n",
      "8/20: 100%|████████████████████████████████| 3631/3631 [00:10<00:00, 357.51it/s]\n",
      "9/20: 100%|████████████████████████████████| 3631/3631 [00:10<00:00, 360.23it/s]\n",
      "10/20: 100%|███████████████████████████████| 3631/3631 [00:10<00:00, 361.18it/s]\n",
      "11/20: 100%|███████████████████████████████| 3631/3631 [00:10<00:00, 349.89it/s]\n",
      "12/20: 100%|███████████████████████████████| 3631/3631 [00:10<00:00, 359.84it/s]\n",
      "13/20: 100%|███████████████████████████████| 3631/3631 [00:10<00:00, 342.91it/s]\n",
      "14/20: 100%|███████████████████████████████| 3631/3631 [00:10<00:00, 344.00it/s]\n",
      "15/20: 100%|███████████████████████████████| 3631/3631 [00:10<00:00, 334.30it/s]\n",
      "16/20: 100%|███████████████████████████████| 3631/3631 [00:10<00:00, 340.01it/s]\n",
      "17/20: 100%|███████████████████████████████| 3631/3631 [00:10<00:00, 339.43it/s]\n",
      "18/20: 100%|███████████████████████████████| 3631/3631 [00:10<00:00, 339.41it/s]\n",
      "19/20: 100%|███████████████████████████████| 3631/3631 [00:10<00:00, 339.34it/s]\n",
      "20/20: 100%|███████████████████████████████| 3631/3631 [00:10<00:00, 341.01it/s]\n",
      "1/20: 100%|████████████████████████████████| 3631/3631 [00:11<00:00, 313.18it/s]\n",
      "2/20: 100%|████████████████████████████████| 3631/3631 [00:11<00:00, 317.66it/s]\n",
      "3/20: 100%|████████████████████████████████| 3631/3631 [00:11<00:00, 315.30it/s]\n",
      "4/20: 100%|████████████████████████████████| 3631/3631 [00:11<00:00, 308.86it/s]\n",
      "5/20: 100%|████████████████████████████████| 3631/3631 [00:11<00:00, 315.26it/s]\n",
      "6/20: 100%|████████████████████████████████| 3631/3631 [00:11<00:00, 320.39it/s]\n",
      "7/20: 100%|████████████████████████████████| 3631/3631 [00:10<00:00, 331.04it/s]\n",
      "8/20: 100%|████████████████████████████████| 3631/3631 [00:10<00:00, 345.31it/s]\n",
      "9/20: 100%|████████████████████████████████| 3631/3631 [00:10<00:00, 337.27it/s]\n",
      "10/20: 100%|███████████████████████████████| 3631/3631 [00:10<00:00, 334.77it/s]\n",
      "11/20: 100%|███████████████████████████████| 3631/3631 [00:10<00:00, 334.78it/s]\n",
      "12/20: 100%|███████████████████████████████| 3631/3631 [00:10<00:00, 343.90it/s]\n",
      "13/20: 100%|███████████████████████████████| 3631/3631 [00:10<00:00, 332.59it/s]\n",
      "14/20: 100%|███████████████████████████████| 3631/3631 [00:10<00:00, 331.67it/s]\n",
      "15/20: 100%|███████████████████████████████| 3631/3631 [00:11<00:00, 313.13it/s]\n",
      "16/20: 100%|███████████████████████████████| 3631/3631 [00:11<00:00, 305.70it/s]\n",
      "17/20: 100%|███████████████████████████████| 3631/3631 [00:11<00:00, 310.64it/s]\n",
      "18/20: 100%|███████████████████████████████| 3631/3631 [00:11<00:00, 307.83it/s]\n",
      "19/20: 100%|███████████████████████████████| 3631/3631 [00:11<00:00, 315.17it/s]\n",
      "20/20: 100%|███████████████████████████████| 3631/3631 [00:11<00:00, 313.78it/s]\n",
      "1/20: 100%|████████████████████████████████| 3631/3631 [00:11<00:00, 314.66it/s]\n",
      "2/20: 100%|████████████████████████████████| 3631/3631 [00:11<00:00, 312.60it/s]\n",
      "3/20: 100%|████████████████████████████████| 3631/3631 [00:11<00:00, 324.63it/s]\n",
      "4/20: 100%|████████████████████████████████| 3631/3631 [00:10<00:00, 340.73it/s]\n",
      "5/20: 100%|████████████████████████████████| 3631/3631 [00:10<00:00, 342.13it/s]\n",
      "6/20: 100%|████████████████████████████████| 3631/3631 [00:10<00:00, 341.12it/s]\n",
      "7/20: 100%|████████████████████████████████| 3631/3631 [00:10<00:00, 344.49it/s]\n",
      "8/20: 100%|████████████████████████████████| 3631/3631 [00:10<00:00, 344.69it/s]\n",
      "9/20: 100%|████████████████████████████████| 3631/3631 [00:10<00:00, 343.68it/s]\n",
      "10/20: 100%|███████████████████████████████| 3631/3631 [00:10<00:00, 345.50it/s]\n",
      "11/20: 100%|███████████████████████████████| 3631/3631 [00:10<00:00, 346.23it/s]\n",
      "12/20: 100%|███████████████████████████████| 3631/3631 [00:10<00:00, 348.63it/s]\n",
      "13/20: 100%|███████████████████████████████| 3631/3631 [00:10<00:00, 343.27it/s]\n",
      "14/20: 100%|███████████████████████████████| 3631/3631 [00:10<00:00, 344.50it/s]\n",
      "15/20: 100%|███████████████████████████████| 3631/3631 [00:10<00:00, 336.53it/s]\n",
      "16/20: 100%|███████████████████████████████| 3631/3631 [00:11<00:00, 319.44it/s]\n",
      "17/20: 100%|███████████████████████████████| 3631/3631 [00:11<00:00, 324.56it/s]\n",
      "18/20: 100%|███████████████████████████████| 3631/3631 [00:10<00:00, 335.42it/s]\n",
      "19/20: 100%|███████████████████████████████| 3631/3631 [00:10<00:00, 346.78it/s]\n",
      "20/20: 100%|███████████████████████████████| 3631/3631 [00:10<00:00, 351.31it/s]\n",
      "1/20: 100%|████████████████████████████████| 3631/3631 [00:10<00:00, 343.46it/s]\n",
      "2/20: 100%|████████████████████████████████| 3631/3631 [00:10<00:00, 343.55it/s]\n",
      "3/20: 100%|████████████████████████████████| 3631/3631 [00:10<00:00, 353.34it/s]\n",
      "4/20: 100%|████████████████████████████████| 3631/3631 [00:10<00:00, 342.62it/s]\n",
      "5/20: 100%|████████████████████████████████| 3631/3631 [00:10<00:00, 341.92it/s]\n",
      "6/20: 100%|████████████████████████████████| 3631/3631 [00:10<00:00, 340.47it/s]\n",
      "7/20: 100%|████████████████████████████████| 3631/3631 [00:10<00:00, 345.89it/s]\n",
      "8/20: 100%|████████████████████████████████| 3631/3631 [00:10<00:00, 345.84it/s]\n",
      "9/20: 100%|████████████████████████████████| 3631/3631 [00:10<00:00, 340.17it/s]\n",
      "10/20: 100%|███████████████████████████████| 3631/3631 [00:11<00:00, 326.38it/s]\n",
      "11/20: 100%|███████████████████████████████| 3631/3631 [00:11<00:00, 327.46it/s]\n",
      "12/20: 100%|███████████████████████████████| 3631/3631 [00:11<00:00, 328.04it/s]\n",
      "13/20: 100%|███████████████████████████████| 3631/3631 [00:10<00:00, 337.94it/s]\n",
      "14/20: 100%|███████████████████████████████| 3631/3631 [00:11<00:00, 325.65it/s]\n",
      "15/20: 100%|███████████████████████████████| 3631/3631 [00:10<00:00, 344.55it/s]\n",
      "16/20: 100%|███████████████████████████████| 3631/3631 [00:10<00:00, 341.79it/s]\n",
      "17/20: 100%|███████████████████████████████| 3631/3631 [00:10<00:00, 341.99it/s]\n",
      "18/20: 100%|███████████████████████████████| 3631/3631 [00:10<00:00, 334.51it/s]\n",
      "19/20: 100%|███████████████████████████████| 3631/3631 [00:10<00:00, 335.33it/s]\n",
      "20/20: 100%|███████████████████████████████| 3631/3631 [00:10<00:00, 343.75it/s]\n"
     ]
    }
   ],
   "source": [
    "from recom_system.algorithms.models.svd_nn import SvdNCF\n",
    "\n",
    "svdncf = SvdNCF(svd_params={'n_factors': 10, 'n_epochs': 20},\n",
    "                ncf_params={'in_features': 20, 'out_features': 1}, fit_and_train=True)\n",
    "results_svdncf = cross_validate(svdncf, trainset, ['rmse', 'ndcg@10', 'precision@10', 'recall@10'], cv=5)"
   ]
  },
  {
   "cell_type": "code",
   "execution_count": 28,
   "id": "ea9252e8-4938-425c-bc57-1d95ee6d14e4",
   "metadata": {},
   "outputs": [
    {
     "data": {
      "text/plain": [
       "{'rmse': [0.8576731565627579,\n",
       "  0.8499526938138838,\n",
       "  0.8600039141116554,\n",
       "  0.858347623924481,\n",
       "  0.8557887266572121],\n",
       " 'ndcg@10': [0.9839253454826392,\n",
       "  0.9841883703080115,\n",
       "  0.9841545994046412,\n",
       "  0.9841312443941488,\n",
       "  0.9836954079014113],\n",
       " 'precision@10': [0.751068759468772,\n",
       "  0.7531138616144577,\n",
       "  0.751100272336426,\n",
       "  0.7507703804184789,\n",
       "  0.7491899808497267],\n",
       " 'recall@10': [0.8606650388360332,\n",
       "  0.8626599922101739,\n",
       "  0.8586085084875194,\n",
       "  0.8590557728468784,\n",
       "  0.8590560108710589]}"
      ]
     },
     "execution_count": 28,
     "metadata": {},
     "output_type": "execute_result"
    }
   ],
   "source": [
    "results_svdncf"
   ]
  },
  {
   "cell_type": "code",
   "execution_count": 29,
   "id": "af29516d-b3e7-47c7-867b-f79d39b6811a",
   "metadata": {},
   "outputs": [
    {
     "data": {
      "text/plain": [
       "TtestResult(statistic=18.020676870279782, pvalue=9.22556199362234e-08, df=8.0)"
      ]
     },
     "execution_count": 29,
     "metadata": {},
     "output_type": "execute_result"
    }
   ],
   "source": [
    "from scipy.stats import ttest_ind\n",
    "\n",
    "ttest_ind(results_svdncf['ndcg@10'], results_knn_sent['ndcg@10'])"
   ]
  },
  {
   "cell_type": "code",
   "execution_count": 30,
   "id": "d41d0a10-59ba-4a81-b5c0-f205c8e4bfca",
   "metadata": {},
   "outputs": [
    {
     "data": {
      "text/plain": [
       "Text(0.5, 1.0, 'Precision@10')"
      ]
     },
     "execution_count": 30,
     "metadata": {},
     "output_type": "execute_result"
    },
    {
     "data": {
      "image/png": "[encoded data removed]",
      "text/plain": [
       "<Figure size 640x480 with 2 Axes>"
      ]
     },
     "metadata": {},
     "output_type": "display_data"
    }
   ],
   "source": [
    "from matplotlib import pyplot as plt\n",
    "\n",
    "fig, (ax1, ax2) = plt.subplots(1, 2)\n",
    "\n",
    "x = [i + 1 for i in range(5)]\n",
    "ax1.plot(x, results_knn_sent['ndcg@10'], label='CF via Content')\n",
    "ax1.plot(x, results_svdncf['ndcg@10'], label='NCF after SVD')\n",
    "ax1.legend()\n",
    "ax1.set_xlabel('test')\n",
    "ax1.set_title(\"nDCG@10\")\n",
    "\n",
    "ax2.plot(x, results_knn_sent['precision@10'], label='CF via Content')\n",
    "ax2.plot(x, results_svdncf['precision@10'], label='NCF after SVD')\n",
    "ax2.legend()\n",
    "ax2.set_xlabel('test')\n",
    "ax2.set_title(\"Precision@10\")"
   ]
  },
  {
   "cell_type": "markdown",
   "id": "ac02e466-7180-4277-953b-adb41403d67c",
   "metadata": {},
   "source": [
    "## Uniform-Weighted Hybird"
   ]
  },
  {
   "cell_type": "code",
   "execution_count": 2,
   "id": "d444da4e-a605-478d-aa99-939685755d0e",
   "metadata": {},
   "outputs": [
    {
     "data": {
      "text/plain": [
       "{'rmse': [0.8119705754486285,\n",
       "  0.8136854771061794,\n",
       "  0.816071445163903,\n",
       "  0.8110131419909373,\n",
       "  0.8192690751128034],\n",
       " 'ndcg@5': [0.983772537158829,\n",
       "  0.9837749193092014,\n",
       "  0.983571045541635,\n",
       "  0.9838502732989562,\n",
       "  0.983667931011066],\n",
       " 'precision@5': [0.7546035408761096,\n",
       "  0.7517173150143116,\n",
       "  0.754564432558894,\n",
       "  0.755320568065569,\n",
       "  0.7540905480097652],\n",
       " 'recall@5': [0.846039724772004,\n",
       "  0.8425876371779866,\n",
       "  0.8437066460666679,\n",
       "  0.8448265805919627,\n",
       "  0.8447102295607204]}"
      ]
     },
     "execution_count": 2,
     "metadata": {},
     "output_type": "execute_result"
    }
   ],
   "source": [
    "from surprise import SVDpp, KNNWithMeans\n",
    "from recom_system.algorithms.models.weighted_model import WeightedModel\n",
    "from recom_system.algorithms.metrics import cross_validate\n",
    "\n",
    "\n",
    "uwm = WeightedModel([\n",
    "    KNNWithMeans(k=50, min_k=3, verbose=False, sim_options={'user_based': False, 'name': 'cosine'}),\n",
    "    SVDpp(n_factors=10, n_epochs=20),\n",
    "], auto_weight=0)\n",
    "results_uwm = cross_validate(uwm, trainset, ['rmse', 'ndcg@5', 'precision@5', 'recall@5'], cv=5)\n",
    "results_uwm\n"
   ]
  },
  {
   "cell_type": "code",
   "execution_count": 3,
   "id": "2ba0b2cd-c225-44df-89d1-e61bf204088d",
   "metadata": {},
   "outputs": [
    {
     "name": "stdout",
     "output_type": "stream",
     "text": [
      "[0.5 0.5]\n"
     ]
    }
   ],
   "source": [
    "print(uwm.weights)"
   ]
  },
  {
   "cell_type": "markdown",
   "id": "1b682787-9060-4e86-97fd-e37e0924f7a6",
   "metadata": {},
   "source": [
    "## Auto-Weighted Hybird\n",
    "\n"
   ]
  },
  {
   "cell_type": "code",
   "execution_count": 4,
   "id": "1902bc09-cc2e-4e20-b5db-3350c2ada592",
   "metadata": {},
   "outputs": [
    {
     "data": {
      "text/plain": [
       "{'rmse': [0.8118343447356886,\n",
       "  0.8169967104015143,\n",
       "  0.8132371941324894,\n",
       "  0.8139507569441877,\n",
       "  0.8099094991907149],\n",
       " 'ndcg@5': [0.9837431500725241,\n",
       "  0.9835721968202616,\n",
       "  0.9833830139237109,\n",
       "  0.9839412106374488,\n",
       "  0.9837523128232181],\n",
       " 'precision@5': [0.7556742615006378,\n",
       "  0.7507511347225748,\n",
       "  0.75224321332881,\n",
       "  0.7540382577409174,\n",
       "  0.7573610153469842],\n",
       " 'recall@5': [0.8468302395131304,\n",
       "  0.8424240344230922,\n",
       "  0.8433875805106404,\n",
       "  0.8441952065320927,\n",
       "  0.8440934586008085]}"
      ]
     },
     "execution_count": 4,
     "metadata": {},
     "output_type": "execute_result"
    }
   ],
   "source": [
    "from surprise import SVDpp, KNNWithMeans\n",
    "from recom_system.algorithms.models.weighted_model import WeightedModel\n",
    "from recom_system.algorithms.metrics import cross_validate\n",
    "\n",
    "\n",
    "awm = WeightedModel([\n",
    "    KNNWithMeans(k=50, min_k=3, verbose=False, sim_options={'user_based': False, 'name': 'cosine'}),\n",
    "    SVDpp(n_factors=10, n_epochs=20),\n",
    "], auto_weight=10000, fixed=True)\n",
    "results_awm = cross_validate(awm, trainset, ['rmse', 'ndcg@5', 'precision@5', 'recall@5'], cv=5)\n",
    "results_awm\n"
   ]
  },
  {
   "cell_type": "code",
   "execution_count": 5,
   "id": "67067094-af06-49cc-9d8d-a716f43431cb",
   "metadata": {},
   "outputs": [
    {
     "name": "stdout",
     "output_type": "stream",
     "text": [
      "[0.00173455 0.9999282 ]\n"
     ]
    }
   ],
   "source": [
    "print(awm.weights)"
   ]
  },
  {
   "cell_type": "markdown",
   "id": "b3fbaf9c-f17b-49de-8e93-3f7073b3f92c",
   "metadata": {},
   "source": [
    "## Dynamic-Weighted Hybird"
   ]
  },
  {
   "cell_type": "code",
   "execution_count": null,
   "id": "2c1b3935-b5ba-43f5-9b67-96d18cdbd8f1",
   "metadata": {},
   "outputs": [],
   "source": [
    "from surprise import SVDpp, KNNWithMeans\n",
    "from recom_system.algorithms.models.weighted_model import WeightedModel\n",
    "from recom_system.algorithms.metrics import cross_validate\n",
    "\n",
    "\n",
    "dwm = WeightedModel([\n",
    "    KNNWithMeans(k=50, min_k=3, verbose=False, sim_options={'user_based': False, 'name': 'cosine'}),\n",
    "    SVDpp(n_factors=10, n_epochs=20),\n",
    "], auto_weight=1000, fixed=False)\n",
    "results_dwm = cross_validate(dwm, trainset, ['rmse', 'ndcg', 'precision', 'recall'], cv=5)\n",
    "results_dwm\n"
   ]
  }
 ],
 "metadata": {
  "kernelspec": {
   "display_name": "Python 3 (ipykernel)",
   "language": "python",
   "name": "python3"
  },
  "language_info": {
   "codemirror_mode": {
    "name": "ipython",
    "version": 3
   },
   "file_extension": ".py",
   "mimetype": "text/x-python",
   "name": "python",
   "nbconvert_exporter": "python",
   "pygments_lexer": "ipython3",
   "version": "3.11.8"
  }
 },
 "nbformat": 4,
 "nbformat_minor": 5
}
