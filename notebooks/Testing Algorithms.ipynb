{
 "cells": [
  {
   "cell_type": "markdown",
   "id": "7ac9eb2a-a3fc-445e-869b-41f8e9d3939b",
   "metadata": {},
   "source": [
    "# Load Data"
   ]
  },
  {
   "cell_type": "code",
   "execution_count": 1,
   "id": "93c172e4-2dcb-4132-b5eb-34f706379a0e",
   "metadata": {},
   "outputs": [
    {
     "name": "stdout",
     "output_type": "stream",
     "text": [
      "len(trainset.raw_ratings)=203789, len(testset)=159296\n"
     ]
    }
   ],
   "source": [
    "from recom_system.algorithms.preprocessing import get_ratings_datasets\n",
    "\n",
    "\n",
    "trainset, testset = get_ratings_datasets(drop_zero=True)\n",
    "print(f'{len(trainset.raw_ratings)=}, {len(testset)=}')\n"
   ]
  },
  {
   "cell_type": "markdown",
   "id": "95cee956-89a4-41c0-967a-dfe4f57acb02",
   "metadata": {},
   "source": [
    "# Test Different Algorithms"
   ]
  },
  {
   "cell_type": "code",
   "execution_count": 2,
   "id": "fbc6b1ee-ef02-4dfb-9c73-410699baa23a",
   "metadata": {},
   "outputs": [],
   "source": [
    "def get_best_rmse(gs):\n",
    "    ind = gs.cv_results['params'].index(gs.best_params['rmse'])\n",
    "    rmse_list = [gs.cv_results[f'split{i}_test_rmse'][ind]\n",
    "                 for i in range(gs.cv)]\n",
    "    return rmse_list\n",
    "    "
   ]
  },
  {
   "cell_type": "markdown",
   "id": "8f24cd0e-6985-458a-a1bf-d3daed39e1d9",
   "metadata": {},
   "source": [
    "## Baseline"
   ]
  },
  {
   "cell_type": "code",
   "execution_count": 22,
   "id": "f21bb65f-31bf-4bc7-bec3-911f87566f7c",
   "metadata": {},
   "outputs": [
    {
     "name": "stdout",
     "output_type": "stream",
     "text": [
      "Estimating biases using als...\n",
      "Estimating biases using als...\n",
      "Estimating biases using als...\n",
      "Estimating biases using als...\n",
      "Estimating biases using als...\n"
     ]
    }
   ],
   "source": [
    "from surprise import BaselineOnly\n",
    "from surprise.model_selection import cross_validate\n",
    "\n",
    "bl = BaselineOnly()\n",
    "rmse_bl = cross_validate(bl, trainset, ['rmse'], cv=5)['test_rmse']"
   ]
  },
  {
   "cell_type": "code",
   "execution_count": 23,
   "id": "e84e18d3-c353-442c-bf2c-35ec437f6cce",
   "metadata": {},
   "outputs": [
    {
     "data": {
      "text/plain": [
       "array([0.86033128, 0.86676564, 0.8668429 , 0.86708573, 0.85935786])"
      ]
     },
     "execution_count": 23,
     "metadata": {},
     "output_type": "execute_result"
    }
   ],
   "source": [
    "rmse_bl"
   ]
  },
  {
   "cell_type": "markdown",
   "id": "a31384a7-0179-4306-a489-bb169c4084e1",
   "metadata": {},
   "source": [
    "## SVD++"
   ]
  },
  {
   "cell_type": "code",
   "execution_count": 2,
   "id": "efd8c683-216b-4226-8f3a-b4929f37c0c4",
   "metadata": {},
   "outputs": [
    {
     "name": "stdout",
     "output_type": "stream",
     "text": [
      "gs_svd.best_params={'rmse': {'n_factors': 10, 'n_epochs': 20}}, gs_svd.best_score={'rmse': 0.8447353864996305}\n"
     ]
    }
   ],
   "source": [
    "from surprise import SVDpp\n",
    "from surprise.model_selection import GridSearchCV\n",
    "\n",
    "params = {\n",
    "    'n_factors': [10, 20, 50, 100],\n",
    "    'n_epochs': [20,50]\n",
    "}\n",
    "\n",
    "gs_svd = GridSearchCV(SVDpp, params, ['rmse'], cv=5)\n",
    "gs_svd.fit(trainset)\n",
    "print(f'{gs_svd.best_params=}, {gs_svd.best_score=}')"
   ]
  },
  {
   "cell_type": "code",
   "execution_count": 14,
   "id": "398fa216-470f-4c5c-9c4f-e7375f13736a",
   "metadata": {},
   "outputs": [
    {
     "data": {
      "text/plain": [
       "[0.8442899720894412,\n",
       " 0.8445154797507701,\n",
       " 0.8456591974789509,\n",
       " 0.8480926083100451,\n",
       " 0.8411196748689452]"
      ]
     },
     "execution_count": 14,
     "metadata": {},
     "output_type": "execute_result"
    }
   ],
   "source": [
    "svd = gs_svd.best_estimator['rmse']\n",
    "rmse_svd = get_best_rmse(gs_svd)\n",
    "rmse_svd"
   ]
  },
  {
   "cell_type": "code",
   "execution_count": 24,
   "id": "a9904d1d-d0c3-4bde-a837-bd90db4e4a83",
   "metadata": {},
   "outputs": [
    {
     "data": {
      "text/plain": [
       "TtestResult(statistic=9.344784099032337, pvalue=1.4044851104745064e-05, df=8.0)"
      ]
     },
     "execution_count": 24,
     "metadata": {},
     "output_type": "execute_result"
    }
   ],
   "source": [
    "from scipy.stats import ttest_ind\n",
    "ttest_ind(rmse_bl, rmse_svd)"
   ]
  },
  {
   "cell_type": "markdown",
   "id": "84f9a422-40de-48bc-b926-782969b8eba7",
   "metadata": {},
   "source": [
    "## Item-Based KNN"
   ]
  },
  {
   "cell_type": "code",
   "execution_count": 26,
   "id": "36117126-01d8-4a6c-aee3-470084c1f982",
   "metadata": {},
   "outputs": [
    {
     "name": "stdout",
     "output_type": "stream",
     "text": [
      "gs_knn.best_params={'rmse': {'k': 50, 'min_k': 3, 'sim_options': {'user_based': False, 'name': 'cosine'}, 'verbose': False}}, gs_knn.best_score={'rmse': 0.8881769686063841}\n"
     ]
    }
   ],
   "source": [
    "from surprise import KNNWithMeans\n",
    "\n",
    "\n",
    "params = {\n",
    "    \"k\": [10, 20, 50, 100],\n",
    "    \"min_k\": [1, 3, 5, 10],\n",
    "    \"sim_options\": {\n",
    "        \"user_based\": [False],\n",
    "        \"name\": [\"msd\", \"cosine\"],\n",
    "    },\n",
    "    \"verbose\": [False],\n",
    "}\n",
    "\n",
    "gs_knn = GridSearchCV(KNNWithMeans, params, ['rmse'], cv=5)\n",
    "gs_knn.fit(trainset)\n",
    "print(f'{gs_knn.best_params=}, {gs_knn.best_score=}')"
   ]
  },
  {
   "cell_type": "code",
   "execution_count": 27,
   "id": "f86e2460-c0cd-4cc2-b304-641b6dc192b2",
   "metadata": {},
   "outputs": [
    {
     "data": {
      "text/plain": [
       "[0.8812840700925273,\n",
       " 0.8886634986669966,\n",
       " 0.8943996467965902,\n",
       " 0.8860823510734597,\n",
       " 0.8904552764023467]"
      ]
     },
     "execution_count": 27,
     "metadata": {},
     "output_type": "execute_result"
    }
   ],
   "source": [
    "knn = gs_knn.best_estimator['rmse']\n",
    "rmse_knn = get_best_rmse(gs_knn)\n",
    "rmse_knn"
   ]
  },
  {
   "cell_type": "code",
   "execution_count": 28,
   "id": "b30f181f-0a7a-4476-89dc-d7829dab9fd6",
   "metadata": {},
   "outputs": [
    {
     "data": {
      "text/plain": [
       "TtestResult(statistic=-8.621531274956766, pvalue=2.5385653406704257e-05, df=8.0)"
      ]
     },
     "execution_count": 28,
     "metadata": {},
     "output_type": "execute_result"
    }
   ],
   "source": [
    "ttest_ind(rmse_bl, rmse_knn)"
   ]
  },
  {
   "cell_type": "markdown",
   "id": "ac02e466-7180-4277-953b-adb41403d67c",
   "metadata": {},
   "source": [
    "## Uniform-Weighted Hybird"
   ]
  },
  {
   "cell_type": "code",
   "execution_count": 4,
   "id": "d444da4e-a605-478d-aa99-939685755d0e",
   "metadata": {},
   "outputs": [
    {
     "data": {
      "text/plain": [
       "array([0.8539115 , 0.84764434, 0.84759155, 0.85218755, 0.84825958])"
      ]
     },
     "execution_count": 4,
     "metadata": {},
     "output_type": "execute_result"
    }
   ],
   "source": [
    "from surprise import SVDpp, KNNWithMeans\n",
    "from recom_system.algorithms.models.weighted_model import WeightedModel\n",
    "from surprise.model_selection import cross_validate\n",
    "\n",
    "\n",
    "uwm = WeightedModel([\n",
    "    KNNWithMeans(k=50, min_k=3, verbose=False, sim_options={'user_based': False, 'name': 'cosine'}),\n",
    "    SVDpp(n_factors=10, n_epochs=20),\n",
    "], auto_weight=0)\n",
    "rmse_uwm = cross_validate(uwm, trainset, ['rmse'], cv=5)['test_rmse']\n",
    "rmse_uwm"
   ]
  },
  {
   "cell_type": "markdown",
   "id": "b3fbaf9c-f17b-49de-8e93-3f7073b3f92c",
   "metadata": {},
   "source": [
    "## Auto-Weighted Hybird"
   ]
  },
  {
   "cell_type": "code",
   "execution_count": null,
   "id": "2c1b3935-b5ba-43f5-9b67-96d18cdbd8f1",
   "metadata": {},
   "outputs": [],
   "source": [
    "awm = WeightedModel([\n",
    "    KNNWithMeans(k=50, min_k=3, verbose=False, sim_options={'user_based': False, 'name': 'cosine'}),\n",
    "    SVDpp(n_factors=10, n_epochs=20),\n",
    "], auto_weight=1000)\n",
    "rmse_awm = cross_validate(awm, trainset, ['rmse'], cv=5)['test_rmse']\n",
    "rmse_awm"
   ]
  },
  {
   "cell_type": "code",
   "execution_count": null,
   "id": "d2a4ecae-a4e4-47d7-b6b6-a1185c36f24e",
   "metadata": {},
   "outputs": [],
   "source": []
  }
 ],
 "metadata": {
  "kernelspec": {
   "display_name": "Python 3 (ipykernel)",
   "language": "python",
   "name": "python3"
  },
  "language_info": {
   "codemirror_mode": {
    "name": "ipython",
    "version": 3
   },
   "file_extension": ".py",
   "mimetype": "text/x-python",
   "name": "python",
   "nbconvert_exporter": "python",
   "pygments_lexer": "ipython3",
   "version": "3.11.8"
  }
 },
 "nbformat": 4,
 "nbformat_minor": 5
}
