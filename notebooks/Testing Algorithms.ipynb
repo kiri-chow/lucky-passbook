{
 "cells": [
  {
   "cell_type": "markdown",
   "id": "7ac9eb2a-a3fc-445e-869b-41f8e9d3939b",
   "metadata": {},
   "source": [
    "# Load Data"
   ]
  },
  {
   "cell_type": "code",
   "execution_count": 1,
   "id": "93c172e4-2dcb-4132-b5eb-34f706379a0e",
   "metadata": {},
   "outputs": [
    {
     "name": "stdout",
     "output_type": "stream",
     "text": [
      "len(trainset.raw_ratings)=363099, len(testset)=0\n"
     ]
    }
   ],
   "source": [
    "from recom_system.algorithms.preprocessing import get_ratings_datasets\n",
    "\n",
    "\n",
    "trainset, testset = get_ratings_datasets(train_size=1, drop_zero=True)\n",
    "print(f'{len(trainset.raw_ratings)=}, {len(testset)=}')\n"
   ]
  },
  {
   "cell_type": "code",
   "execution_count": 2,
   "id": "040000c6-d3a2-4151-b043-feed30df88ea",
   "metadata": {},
   "outputs": [
    {
     "data": {
      "text/plain": [
       "surprise.dataset.DatasetAutoFolds"
      ]
     },
     "execution_count": 2,
     "metadata": {},
     "output_type": "execute_result"
    }
   ],
   "source": [
    "type(trainset)"
   ]
  },
  {
   "cell_type": "code",
   "execution_count": 3,
   "id": "0971f9b5-e3eb-474e-b7d7-efeb1764caa1",
   "metadata": {},
   "outputs": [
    {
     "data": {
      "text/plain": [
       "numpy.ndarray"
      ]
     },
     "execution_count": 3,
     "metadata": {},
     "output_type": "execute_result"
    }
   ],
   "source": [
    "type(testset)"
   ]
  },
  {
   "cell_type": "markdown",
   "id": "95cee956-89a4-41c0-967a-dfe4f57acb02",
   "metadata": {},
   "source": [
    "# Test Collaborative Filtering"
   ]
  },
  {
   "cell_type": "code",
   "execution_count": 4,
   "id": "fbc6b1ee-ef02-4dfb-9c73-410699baa23a",
   "metadata": {},
   "outputs": [],
   "source": [
    "def get_best_rmse(gs):\n",
    "    ind = gs.cv_results['params'].index(gs.best_params['rmse'])\n",
    "    rmse_list = [gs.cv_results[f'split{i}_test_rmse'][ind]\n",
    "                 for i in range(gs.cv)]\n",
    "    return rmse_list\n",
    "    "
   ]
  },
  {
   "cell_type": "markdown",
   "id": "8f24cd0e-6985-458a-a1bf-d3daed39e1d9",
   "metadata": {},
   "source": [
    "## Baseline"
   ]
  },
  {
   "cell_type": "code",
   "execution_count": 5,
   "id": "f21bb65f-31bf-4bc7-bec3-911f87566f7c",
   "metadata": {},
   "outputs": [
    {
     "name": "stdout",
     "output_type": "stream",
     "text": [
      "Estimating biases using als...\n",
      "Estimating biases using als...\n",
      "Estimating biases using als...\n",
      "Estimating biases using als...\n",
      "Estimating biases using als...\n"
     ]
    }
   ],
   "source": [
    "from surprise import BaselineOnly\n",
    "from surprise.model_selection import cross_validate\n",
    "\n",
    "bl = BaselineOnly()\n",
    "rmse_bl = cross_validate(bl, trainset, ['rmse'], cv=5)['test_rmse']"
   ]
  },
  {
   "cell_type": "code",
   "execution_count": 6,
   "id": "e84e18d3-c353-442c-bf2c-35ec437f6cce",
   "metadata": {},
   "outputs": [
    {
     "data": {
      "text/plain": [
       "array([0.83660741, 0.84195114, 0.84396108, 0.84140521, 0.84390871])"
      ]
     },
     "execution_count": 6,
     "metadata": {},
     "output_type": "execute_result"
    }
   ],
   "source": [
    "rmse_bl"
   ]
  },
  {
   "cell_type": "markdown",
   "id": "a31384a7-0179-4306-a489-bb169c4084e1",
   "metadata": {},
   "source": [
    "## SVD++"
   ]
  },
  {
   "cell_type": "code",
   "execution_count": 7,
   "id": "efd8c683-216b-4226-8f3a-b4929f37c0c4",
   "metadata": {},
   "outputs": [
    {
     "name": "stdout",
     "output_type": "stream",
     "text": [
      "gs_svd.best_params={'rmse': {'n_factors': 10, 'n_epochs': 20}}, gs_svd.best_score={'rmse': 0.8132215061738538}\n"
     ]
    }
   ],
   "source": [
    "from surprise import SVDpp\n",
    "from surprise.model_selection import GridSearchCV\n",
    "\n",
    "params = {\n",
    "    'n_factors': [10, 20, 50, 100],\n",
    "    'n_epochs': [20,50]\n",
    "}\n",
    "\n",
    "gs_svd = GridSearchCV(SVDpp, params, ['rmse'], cv=5)\n",
    "gs_svd.fit(trainset)\n",
    "print(f'{gs_svd.best_params=}, {gs_svd.best_score=}')"
   ]
  },
  {
   "cell_type": "code",
   "execution_count": 8,
   "id": "398fa216-470f-4c5c-9c4f-e7375f13736a",
   "metadata": {},
   "outputs": [
    {
     "data": {
      "text/plain": [
       "[0.8146200027489624,\n",
       " 0.8172127646868833,\n",
       " 0.808631607487773,\n",
       " 0.8114388992765034,\n",
       " 0.8142042566691474]"
      ]
     },
     "execution_count": 8,
     "metadata": {},
     "output_type": "execute_result"
    }
   ],
   "source": [
    "svd = gs_svd.best_estimator['rmse']\n",
    "rmse_svd = get_best_rmse(gs_svd)\n",
    "rmse_svd"
   ]
  },
  {
   "cell_type": "code",
   "execution_count": 9,
   "id": "a9904d1d-d0c3-4bde-a837-bd90db4e4a83",
   "metadata": {},
   "outputs": [
    {
     "data": {
      "text/plain": [
       "TtestResult(statistic=14.254526522254828, pvalue=5.717430717204586e-07, df=8.0)"
      ]
     },
     "execution_count": 9,
     "metadata": {},
     "output_type": "execute_result"
    }
   ],
   "source": [
    "from scipy.stats import ttest_ind\n",
    "ttest_ind(rmse_bl, rmse_svd)"
   ]
  },
  {
   "cell_type": "markdown",
   "id": "84f9a422-40de-48bc-b926-782969b8eba7",
   "metadata": {},
   "source": [
    "## Item-Based KNN"
   ]
  },
  {
   "cell_type": "code",
   "execution_count": 10,
   "id": "36117126-01d8-4a6c-aee3-470084c1f982",
   "metadata": {},
   "outputs": [
    {
     "name": "stdout",
     "output_type": "stream",
     "text": [
      "gs_knn.best_params={'rmse': {'k': 50, 'min_k': 3, 'sim_options': {'user_based': False, 'name': 'msd'}, 'verbose': False}}, gs_knn.best_score={'rmse': 0.8425375086483211}\n"
     ]
    }
   ],
   "source": [
    "from surprise import KNNWithMeans\n",
    "\n",
    "\n",
    "params = {\n",
    "    \"k\": [10, 20, 50, 100],\n",
    "    \"min_k\": [1, 3, 5, 10],\n",
    "    \"sim_options\": {\n",
    "        \"user_based\": [False],\n",
    "        \"name\": [\"msd\", \"cosine\"],\n",
    "    },\n",
    "    \"verbose\": [False],\n",
    "}\n",
    "\n",
    "gs_knn = GridSearchCV(KNNWithMeans, params, ['rmse'], cv=5)\n",
    "gs_knn.fit(trainset)\n",
    "print(f'{gs_knn.best_params=}, {gs_knn.best_score=}')"
   ]
  },
  {
   "cell_type": "code",
   "execution_count": 11,
   "id": "f86e2460-c0cd-4cc2-b304-641b6dc192b2",
   "metadata": {},
   "outputs": [
    {
     "data": {
      "text/plain": [
       "[0.8396249518778547,\n",
       " 0.8430932263728895,\n",
       " 0.8435954958025824,\n",
       " 0.8460033611640593,\n",
       " 0.8403705080242191]"
      ]
     },
     "execution_count": 11,
     "metadata": {},
     "output_type": "execute_result"
    }
   ],
   "source": [
    "knn = gs_knn.best_estimator['rmse']\n",
    "rmse_knn = get_best_rmse(gs_knn)\n",
    "rmse_knn"
   ]
  },
  {
   "cell_type": "code",
   "execution_count": 12,
   "id": "b30f181f-0a7a-4476-89dc-d7829dab9fd6",
   "metadata": {},
   "outputs": [
    {
     "data": {
      "text/plain": [
       "TtestResult(statistic=-0.548702366692953, pvalue=0.5981852303434684, df=8.0)"
      ]
     },
     "execution_count": 12,
     "metadata": {},
     "output_type": "execute_result"
    }
   ],
   "source": [
    "ttest_ind(rmse_bl, rmse_knn)"
   ]
  },
  {
   "cell_type": "markdown",
   "id": "ac02e466-7180-4277-953b-adb41403d67c",
   "metadata": {},
   "source": [
    "## Uniform-Weighted Hybird"
   ]
  },
  {
   "cell_type": "code",
   "execution_count": 2,
   "id": "d444da4e-a605-478d-aa99-939685755d0e",
   "metadata": {},
   "outputs": [
    {
     "data": {
      "text/plain": [
       "{'rmse': [0.8116279355789171,\n",
       "  0.8155381790913532,\n",
       "  0.8175472324546061,\n",
       "  0.8120552477066912,\n",
       "  0.8159643986699098],\n",
       " 'ndcg': [0.9864696716016154,\n",
       "  0.9861374214588686,\n",
       "  0.986326994957316,\n",
       "  0.9863317694677463,\n",
       "  0.9862839438422476],\n",
       " 'precision': [0.7534726589972348,\n",
       "  0.7525880351110188,\n",
       "  0.7496458604635187,\n",
       "  0.7516870769788034,\n",
       "  0.7482616783513326],\n",
       " 'recall': [0.8627822120048141,\n",
       "  0.8615380704208155,\n",
       "  0.8596899890200173,\n",
       "  0.8604084109770549,\n",
       "  0.8576410455287731]}"
      ]
     },
     "execution_count": 2,
     "metadata": {},
     "output_type": "execute_result"
    }
   ],
   "source": [
    "from surprise import SVDpp, KNNWithMeans\n",
    "from recom_system.algorithms.models.weighted_model import WeightedModel\n",
    "from recom_system.algorithms.metrics import cross_validate\n",
    "\n",
    "\n",
    "uwm = WeightedModel([\n",
    "    KNNWithMeans(k=50, min_k=3, verbose=False, sim_options={'user_based': False, 'name': 'cosine'}),\n",
    "    SVDpp(n_factors=10, n_epochs=20),\n",
    "], auto_weight=0)\n",
    "results_uwm = cross_validate(uwm, trainset, ['rmse', 'ndcg', 'precision', 'recall'], cv=5)\n",
    "results_uwm\n"
   ]
  },
  {
   "cell_type": "markdown",
   "id": "1b682787-9060-4e86-97fd-e37e0924f7a6",
   "metadata": {},
   "source": [
    "## Auto-Weighted Hybird"
   ]
  },
  {
   "cell_type": "code",
   "execution_count": 3,
   "id": "1902bc09-cc2e-4e20-b5db-3350c2ada592",
   "metadata": {},
   "outputs": [
    {
     "data": {
      "text/plain": [
       "{'rmse': [0.8153002721536519,\n",
       "  0.8196694829611489,\n",
       "  0.8104597306297214,\n",
       "  0.8106200597272974,\n",
       "  0.8127296926242688],\n",
       " 'ndcg': [0.9863718048688914,\n",
       "  0.9861065180173668,\n",
       "  0.9864163466030706,\n",
       "  0.9863246726012378,\n",
       "  0.9865553639363059],\n",
       " 'precision': [0.7477900136036049,\n",
       "  0.7483615141809986,\n",
       "  0.7534534197882525,\n",
       "  0.7540491273949885,\n",
       "  0.7532174084895978],\n",
       " 'recall': [0.8562262287667164,\n",
       "  0.857213946621636,\n",
       "  0.8614071089484295,\n",
       "  0.8632261452751331,\n",
       "  0.8615843021130591]}"
      ]
     },
     "execution_count": 3,
     "metadata": {},
     "output_type": "execute_result"
    }
   ],
   "source": [
    "from surprise import SVDpp, KNNWithMeans\n",
    "from recom_system.algorithms.models.weighted_model import WeightedModel\n",
    "from recom_system.algorithms.metrics import cross_validate\n",
    "\n",
    "\n",
    "awm = WeightedModel([\n",
    "    KNNWithMeans(k=50, min_k=3, verbose=False, sim_options={'user_based': False, 'name': 'cosine'}),\n",
    "    SVDpp(n_factors=10, n_epochs=20),\n",
    "], auto_weight=10000, fixed=True)\n",
    "results_awm = cross_validate(awm, trainset, ['rmse', 'ndcg', 'precision', 'recall'], cv=5)\n",
    "results_awm\n"
   ]
  },
  {
   "cell_type": "markdown",
   "id": "b3fbaf9c-f17b-49de-8e93-3f7073b3f92c",
   "metadata": {},
   "source": [
    "## Dynamic-Weighted Hybird"
   ]
  },
  {
   "cell_type": "code",
   "execution_count": null,
   "id": "2c1b3935-b5ba-43f5-9b67-96d18cdbd8f1",
   "metadata": {},
   "outputs": [],
   "source": [
    "from surprise import SVDpp, KNNWithMeans\n",
    "from recom_system.algorithms.models.weighted_model import WeightedModel\n",
    "from recom_system.algorithms.metrics import cross_validate\n",
    "\n",
    "\n",
    "dwm = WeightedModel([\n",
    "    KNNWithMeans(k=50, min_k=3, verbose=False, sim_options={'user_based': False, 'name': 'cosine'}),\n",
    "    SVDpp(n_factors=10, n_epochs=20),\n",
    "], auto_weight=1000, fixed=False)\n",
    "results_dwm = cross_validate(dwm, trainset, ['rmse', 'ndcg', 'precision', 'recall'], cv=5)\n",
    "results_dwm\n"
   ]
  },
  {
   "cell_type": "markdown",
   "id": "486a0815-bd32-4c6a-8ff3-ad0559f6ddbc",
   "metadata": {},
   "source": [
    "# Test Content Based Algorithms"
   ]
  },
  {
   "cell_type": "markdown",
   "id": "6b187d12-e5a4-445b-b052-f3aac6829ccb",
   "metadata": {},
   "source": [
    "## Sentence Embeddings from Title and Description"
   ]
  },
  {
   "cell_type": "code",
   "execution_count": 1,
   "id": "9b6e3330-b556-488b-8235-ef3282ffb85f",
   "metadata": {},
   "outputs": [],
   "source": [
    "from recom_system.algorithms.io import get_books\n",
    "\n",
    "books = get_books()"
   ]
  },
  {
   "cell_type": "code",
   "execution_count": 11,
   "id": "ad934b91-64e5-4dd8-9fc0-2d997784e5a8",
   "metadata": {},
   "outputs": [
    {
     "name": "stdout",
     "output_type": "stream",
     "text": [
      "CPU times: user 3.32 s, sys: 257 ms, total: 3.58 s\n",
      "Wall time: 3.58 s\n"
     ]
    },
    {
     "ename": "KeyError",
     "evalue": "'UKN__197899'",
     "output_type": "error",
     "traceback": [
      "\u001b[0;31m---------------------------------------------------------------------------\u001b[0m",
      "\u001b[0;31m_RemoteTraceback\u001b[0m                          Traceback (most recent call last)",
      "\u001b[0;31m_RemoteTraceback\u001b[0m: \n\"\"\"\nTraceback (most recent call last):\n  File \"/home/anthony/anaconda3/envs/recom/lib/python3.11/site-packages/joblib/externals/loky/process_executor.py\", line 463, in _process_worker\n    r = call_item()\n        ^^^^^^^^^^^\n  File \"/home/anthony/anaconda3/envs/recom/lib/python3.11/site-packages/joblib/externals/loky/process_executor.py\", line 291, in __call__\n    return self.fn(*self.args, **self.kwargs)\n           ^^^^^^^^^^^^^^^^^^^^^^^^^^^^^^^^^^\n  File \"/home/anthony/anaconda3/envs/recom/lib/python3.11/site-packages/joblib/parallel.py\", line 598, in __call__\n    return [func(*args, **kwargs)\n           ^^^^^^^^^^^^^^^^^^^^^^\n  File \"/home/anthony/anaconda3/envs/recom/lib/python3.11/site-packages/joblib/parallel.py\", line 598, in <listcomp>\n    return [func(*args, **kwargs)\n            ^^^^^^^^^^^^^^^^^^^^^\n  File \"/home/anthony/anaconda3/envs/recom/lib/python3.11/site-packages/surprise/model_selection/validation.py\", line 176, in fit_and_score\n    predictions = algo.test(testset)\n                  ^^^^^^^^^^^^^^^^^^\n  File \"/home/anthony/anaconda3/envs/recom/lib/python3.11/site-packages/surprise/prediction_algorithms/algo_base.py\", line 160, in test\n    predictions = [\n                  ^\n  File \"/home/anthony/anaconda3/envs/recom/lib/python3.11/site-packages/surprise/prediction_algorithms/algo_base.py\", line 161, in <listcomp>\n    self.predict(uid, iid, r_ui_trans, verbose=verbose)\n  File \"/home/anthony/anaconda3/envs/recom/lib/python3.11/site-packages/surprise/prediction_algorithms/algo_base.py\", line 102, in predict\n    est = self.estimate(iuid, iiid)\n          ^^^^^^^^^^^^^^^^^^^^^^^^^\n  File \"/home/anthony/code/lucky-passbook/recom_system/algorithms/models/content_based/__init__.py\", line 50, in estimate\n    user_profile = self.user_profiles[user_id]\n                   ~~~~~~~~~~~~~~~~~~^^^^^^^^^\nKeyError: 'UKN__197899'\n\"\"\"",
      "\nThe above exception was the direct cause of the following exception:\n",
      "\u001b[0;31mKeyError\u001b[0m                                  Traceback (most recent call last)",
      "Cell \u001b[0;32mIn[11], line 5\u001b[0m\n\u001b[1;32m      2\u001b[0m \u001b[38;5;28;01mfrom\u001b[39;00m \u001b[38;5;21;01mrecom_system\u001b[39;00m\u001b[38;5;21;01m.\u001b[39;00m\u001b[38;5;21;01malgorithms\u001b[39;00m\u001b[38;5;21;01m.\u001b[39;00m\u001b[38;5;21;01mmodels\u001b[39;00m\u001b[38;5;21;01m.\u001b[39;00m\u001b[38;5;21;01mcontent_based\u001b[39;00m \u001b[38;5;28;01mimport\u001b[39;00m ContentBasedModel\n\u001b[1;32m      4\u001b[0m get_ipython()\u001b[38;5;241m.\u001b[39mrun_line_magic(\u001b[38;5;124m'\u001b[39m\u001b[38;5;124mtime\u001b[39m\u001b[38;5;124m'\u001b[39m, \u001b[38;5;124m'\u001b[39m\u001b[38;5;124mcbms = ContentBasedModel(build_shelves(books), fit_and_build=True)\u001b[39m\u001b[38;5;124m'\u001b[39m)\n\u001b[0;32m----> 5\u001b[0m rmse_cbms \u001b[38;5;241m=\u001b[39m cross_validate(cbms, trainset, [\u001b[38;5;124m'\u001b[39m\u001b[38;5;124mrmse\u001b[39m\u001b[38;5;124m'\u001b[39m], cv\u001b[38;5;241m=\u001b[39m\u001b[38;5;241m5\u001b[39m, n_jobs\u001b[38;5;241m=\u001b[39m\u001b[38;5;241m8\u001b[39m)[\u001b[38;5;124m'\u001b[39m\u001b[38;5;124mtest_rmse\u001b[39m\u001b[38;5;124m'\u001b[39m]\n\u001b[1;32m      6\u001b[0m rmse_cbms\n",
      "File \u001b[0;32m~/anaconda3/envs/recom/lib/python3.11/site-packages/surprise/model_selection/validation.py:108\u001b[0m, in \u001b[0;36mcross_validate\u001b[0;34m(algo, data, measures, cv, return_train_measures, n_jobs, pre_dispatch, verbose)\u001b[0m\n\u001b[1;32m    102\u001b[0m cv \u001b[38;5;241m=\u001b[39m get_cv(cv)\n\u001b[1;32m    104\u001b[0m delayed_list \u001b[38;5;241m=\u001b[39m (\n\u001b[1;32m    105\u001b[0m     delayed(fit_and_score)(algo, trainset, testset, measures, return_train_measures)\n\u001b[1;32m    106\u001b[0m     \u001b[38;5;28;01mfor\u001b[39;00m (trainset, testset) \u001b[38;5;129;01min\u001b[39;00m cv\u001b[38;5;241m.\u001b[39msplit(data)\n\u001b[1;32m    107\u001b[0m )\n\u001b[0;32m--> 108\u001b[0m out \u001b[38;5;241m=\u001b[39m Parallel(n_jobs\u001b[38;5;241m=\u001b[39mn_jobs, pre_dispatch\u001b[38;5;241m=\u001b[39mpre_dispatch)(delayed_list)\n\u001b[1;32m    110\u001b[0m (test_measures_dicts, train_measures_dicts, fit_times, test_times) \u001b[38;5;241m=\u001b[39m \u001b[38;5;28mzip\u001b[39m(\u001b[38;5;241m*\u001b[39mout)\n\u001b[1;32m    112\u001b[0m test_measures \u001b[38;5;241m=\u001b[39m \u001b[38;5;28mdict\u001b[39m()\n",
      "File \u001b[0;32m~/anaconda3/envs/recom/lib/python3.11/site-packages/joblib/parallel.py:2007\u001b[0m, in \u001b[0;36mParallel.__call__\u001b[0;34m(self, iterable)\u001b[0m\n\u001b[1;32m   2001\u001b[0m \u001b[38;5;66;03m# The first item from the output is blank, but it makes the interpreter\u001b[39;00m\n\u001b[1;32m   2002\u001b[0m \u001b[38;5;66;03m# progress until it enters the Try/Except block of the generator and\u001b[39;00m\n\u001b[1;32m   2003\u001b[0m \u001b[38;5;66;03m# reach the first `yield` statement. This starts the aynchronous\u001b[39;00m\n\u001b[1;32m   2004\u001b[0m \u001b[38;5;66;03m# dispatch of the tasks to the workers.\u001b[39;00m\n\u001b[1;32m   2005\u001b[0m \u001b[38;5;28mnext\u001b[39m(output)\n\u001b[0;32m-> 2007\u001b[0m \u001b[38;5;28;01mreturn\u001b[39;00m output \u001b[38;5;28;01mif\u001b[39;00m \u001b[38;5;28mself\u001b[39m\u001b[38;5;241m.\u001b[39mreturn_generator \u001b[38;5;28;01melse\u001b[39;00m \u001b[38;5;28mlist\u001b[39m(output)\n",
      "File \u001b[0;32m~/anaconda3/envs/recom/lib/python3.11/site-packages/joblib/parallel.py:1650\u001b[0m, in \u001b[0;36mParallel._get_outputs\u001b[0;34m(self, iterator, pre_dispatch)\u001b[0m\n\u001b[1;32m   1647\u001b[0m     \u001b[38;5;28;01myield\u001b[39;00m\n\u001b[1;32m   1649\u001b[0m     \u001b[38;5;28;01mwith\u001b[39;00m \u001b[38;5;28mself\u001b[39m\u001b[38;5;241m.\u001b[39m_backend\u001b[38;5;241m.\u001b[39mretrieval_context():\n\u001b[0;32m-> 1650\u001b[0m         \u001b[38;5;28;01myield from\u001b[39;00m \u001b[38;5;28mself\u001b[39m\u001b[38;5;241m.\u001b[39m_retrieve()\n\u001b[1;32m   1652\u001b[0m \u001b[38;5;28;01mexcept\u001b[39;00m \u001b[38;5;167;01mGeneratorExit\u001b[39;00m:\n\u001b[1;32m   1653\u001b[0m     \u001b[38;5;66;03m# The generator has been garbage collected before being fully\u001b[39;00m\n\u001b[1;32m   1654\u001b[0m     \u001b[38;5;66;03m# consumed. This aborts the remaining tasks if possible and warn\u001b[39;00m\n\u001b[1;32m   1655\u001b[0m     \u001b[38;5;66;03m# the user if necessary.\u001b[39;00m\n\u001b[1;32m   1656\u001b[0m     \u001b[38;5;28mself\u001b[39m\u001b[38;5;241m.\u001b[39m_exception \u001b[38;5;241m=\u001b[39m \u001b[38;5;28;01mTrue\u001b[39;00m\n",
      "File \u001b[0;32m~/anaconda3/envs/recom/lib/python3.11/site-packages/joblib/parallel.py:1754\u001b[0m, in \u001b[0;36mParallel._retrieve\u001b[0;34m(self)\u001b[0m\n\u001b[1;32m   1747\u001b[0m \u001b[38;5;28;01mwhile\u001b[39;00m \u001b[38;5;28mself\u001b[39m\u001b[38;5;241m.\u001b[39m_wait_retrieval():\n\u001b[1;32m   1748\u001b[0m \n\u001b[1;32m   1749\u001b[0m     \u001b[38;5;66;03m# If the callback thread of a worker has signaled that its task\u001b[39;00m\n\u001b[1;32m   1750\u001b[0m     \u001b[38;5;66;03m# triggered an exception, or if the retrieval loop has raised an\u001b[39;00m\n\u001b[1;32m   1751\u001b[0m     \u001b[38;5;66;03m# exception (e.g. `GeneratorExit`), exit the loop and surface the\u001b[39;00m\n\u001b[1;32m   1752\u001b[0m     \u001b[38;5;66;03m# worker traceback.\u001b[39;00m\n\u001b[1;32m   1753\u001b[0m     \u001b[38;5;28;01mif\u001b[39;00m \u001b[38;5;28mself\u001b[39m\u001b[38;5;241m.\u001b[39m_aborting:\n\u001b[0;32m-> 1754\u001b[0m         \u001b[38;5;28mself\u001b[39m\u001b[38;5;241m.\u001b[39m_raise_error_fast()\n\u001b[1;32m   1755\u001b[0m         \u001b[38;5;28;01mbreak\u001b[39;00m\n\u001b[1;32m   1757\u001b[0m     \u001b[38;5;66;03m# If the next job is not ready for retrieval yet, we just wait for\u001b[39;00m\n\u001b[1;32m   1758\u001b[0m     \u001b[38;5;66;03m# async callbacks to progress.\u001b[39;00m\n",
      "File \u001b[0;32m~/anaconda3/envs/recom/lib/python3.11/site-packages/joblib/parallel.py:1789\u001b[0m, in \u001b[0;36mParallel._raise_error_fast\u001b[0;34m(self)\u001b[0m\n\u001b[1;32m   1785\u001b[0m \u001b[38;5;66;03m# If this error job exists, immediatly raise the error by\u001b[39;00m\n\u001b[1;32m   1786\u001b[0m \u001b[38;5;66;03m# calling get_result. This job might not exists if abort has been\u001b[39;00m\n\u001b[1;32m   1787\u001b[0m \u001b[38;5;66;03m# called directly or if the generator is gc'ed.\u001b[39;00m\n\u001b[1;32m   1788\u001b[0m \u001b[38;5;28;01mif\u001b[39;00m error_job \u001b[38;5;129;01mis\u001b[39;00m \u001b[38;5;129;01mnot\u001b[39;00m \u001b[38;5;28;01mNone\u001b[39;00m:\n\u001b[0;32m-> 1789\u001b[0m     error_job\u001b[38;5;241m.\u001b[39mget_result(\u001b[38;5;28mself\u001b[39m\u001b[38;5;241m.\u001b[39mtimeout)\n",
      "File \u001b[0;32m~/anaconda3/envs/recom/lib/python3.11/site-packages/joblib/parallel.py:745\u001b[0m, in \u001b[0;36mBatchCompletionCallBack.get_result\u001b[0;34m(self, timeout)\u001b[0m\n\u001b[1;32m    739\u001b[0m backend \u001b[38;5;241m=\u001b[39m \u001b[38;5;28mself\u001b[39m\u001b[38;5;241m.\u001b[39mparallel\u001b[38;5;241m.\u001b[39m_backend\n\u001b[1;32m    741\u001b[0m \u001b[38;5;28;01mif\u001b[39;00m backend\u001b[38;5;241m.\u001b[39msupports_retrieve_callback:\n\u001b[1;32m    742\u001b[0m     \u001b[38;5;66;03m# We assume that the result has already been retrieved by the\u001b[39;00m\n\u001b[1;32m    743\u001b[0m     \u001b[38;5;66;03m# callback thread, and is stored internally. It's just waiting to\u001b[39;00m\n\u001b[1;32m    744\u001b[0m     \u001b[38;5;66;03m# be returned.\u001b[39;00m\n\u001b[0;32m--> 745\u001b[0m     \u001b[38;5;28;01mreturn\u001b[39;00m \u001b[38;5;28mself\u001b[39m\u001b[38;5;241m.\u001b[39m_return_or_raise()\n\u001b[1;32m    747\u001b[0m \u001b[38;5;66;03m# For other backends, the main thread needs to run the retrieval step.\u001b[39;00m\n\u001b[1;32m    748\u001b[0m \u001b[38;5;28;01mtry\u001b[39;00m:\n",
      "File \u001b[0;32m~/anaconda3/envs/recom/lib/python3.11/site-packages/joblib/parallel.py:763\u001b[0m, in \u001b[0;36mBatchCompletionCallBack._return_or_raise\u001b[0;34m(self)\u001b[0m\n\u001b[1;32m    761\u001b[0m \u001b[38;5;28;01mtry\u001b[39;00m:\n\u001b[1;32m    762\u001b[0m     \u001b[38;5;28;01mif\u001b[39;00m \u001b[38;5;28mself\u001b[39m\u001b[38;5;241m.\u001b[39mstatus \u001b[38;5;241m==\u001b[39m TASK_ERROR:\n\u001b[0;32m--> 763\u001b[0m         \u001b[38;5;28;01mraise\u001b[39;00m \u001b[38;5;28mself\u001b[39m\u001b[38;5;241m.\u001b[39m_result\n\u001b[1;32m    764\u001b[0m     \u001b[38;5;28;01mreturn\u001b[39;00m \u001b[38;5;28mself\u001b[39m\u001b[38;5;241m.\u001b[39m_result\n\u001b[1;32m    765\u001b[0m \u001b[38;5;28;01mfinally\u001b[39;00m:\n",
      "\u001b[0;31mKeyError\u001b[0m: 'UKN__197899'"
     ]
    }
   ],
   "source": [
    "from recom_system.algorithms.models.vector_based.sentence_embeddings import build_item_matrix\n",
    "from recom_system.algorithms.models.vector_based import VectorBasedModel\n",
    "from recom_system.algorithms.metrics import precision_recall, ndcg\n",
    "\n",
    "%time vbm = VectorBasedModel(build_item_matrix(books))"
   ]
  },
  {
   "cell_type": "code",
   "execution_count": null,
   "id": "eb446ca7-dd53-48ee-a97c-ec4a5a2e2986",
   "metadata": {},
   "outputs": [],
   "source": []
  }
 ],
 "metadata": {
  "kernelspec": {
   "display_name": "Python 3 (ipykernel)",
   "language": "python",
   "name": "python3"
  },
  "language_info": {
   "codemirror_mode": {
    "name": "ipython",
    "version": 3
   },
   "file_extension": ".py",
   "mimetype": "text/x-python",
   "name": "python",
   "nbconvert_exporter": "python",
   "pygments_lexer": "ipython3",
   "version": "3.11.8"
  }
 },
 "nbformat": 4,
 "nbformat_minor": 5
}
