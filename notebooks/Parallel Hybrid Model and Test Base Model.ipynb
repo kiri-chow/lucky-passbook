{
 "cells": [
  {
   "cell_type": "markdown",
   "metadata": {
    "id": "-6INFpwPwgKi"
   },
   "source": [
    "# Parallel Hybrid Model\n",
    "\n",
    "Weighted Estimater By Leo Lee"
   ]
  },
  {
   "cell_type": "code",
   "execution_count": null,
   "metadata": {
    "id": "OBU7zbjqwieR"
   },
   "outputs": [],
   "source": [
    "from surprise import AlgoBase\n",
    "\n",
    "class HybridModel(AlgoBase):\n",
    "\n",
    "    def __init__(self, models, weights, sim_options={}):\n",
    "        AlgoBase.__init__(self)\n",
    "        self.models = models\n",
    "        self.weights = weights\n",
    "\n",
    "    def fit(self, trainset):\n",
    "        AlgoBase.fit(self, trainset)\n",
    "\n",
    "        for model in self.models:\n",
    "            model.fit(trainset)\n",
    "\n",
    "        return self\n",
    "\n",
    "    def estimate(self, user_id, item_id):\n",
    "\n",
    "        scores_sum = 0\n",
    "        weights_sum = 0\n",
    "\n",
    "        for i in range(len(self.models)):\n",
    "            scores_sum += self.models[i].estimate(user_id, item_id) * self.weights[i] # 3*1/4+4*3/4 laga ra\n",
    "            weights_sum += self.weights[i] # always becomes one\n",
    "\n",
    "        return scores_sum / weights_sum"
   ]
  },
  {
   "cell_type": "markdown",
   "metadata": {
    "id": "yGZRvhs9V9hQ"
   },
   "source": [
    "## Setup"
   ]
  },
  {
   "cell_type": "code",
   "execution_count": 1,
   "metadata": {
    "colab": {
     "base_uri": "https://localhost:8080/"
    },
    "id": "2lT3yZahVkDc",
    "outputId": "2b426fc3-1bfa-4ea1-d8c2-8c36b4d95197"
   },
   "outputs": [
    {
     "name": "stdout",
     "output_type": "stream",
     "text": [
      "Collecting surprise\n",
      "  Downloading surprise-0.1-py2.py3-none-any.whl (1.8 kB)\n",
      "Collecting scikit-surprise (from surprise)\n",
      "  Downloading scikit-surprise-1.1.3.tar.gz (771 kB)\n",
      "\u001b[2K     \u001b[90m━━━━━━━━━━━━━━━━━━━━━━━━━━━━━━━━━━━━━━━━\u001b[0m \u001b[32m772.0/772.0 kB\u001b[0m \u001b[31m7.9 MB/s\u001b[0m eta \u001b[36m0:00:00\u001b[0m\n",
      "\u001b[?25h  Preparing metadata (setup.py) ... \u001b[?25l\u001b[?25hdone\n",
      "Requirement already satisfied: joblib>=1.0.0 in /usr/local/lib/python3.10/dist-packages (from scikit-surprise->surprise) (1.4.0)\n",
      "Requirement already satisfied: numpy>=1.17.3 in /usr/local/lib/python3.10/dist-packages (from scikit-surprise->surprise) (1.25.2)\n",
      "Requirement already satisfied: scipy>=1.3.2 in /usr/local/lib/python3.10/dist-packages (from scikit-surprise->surprise) (1.11.4)\n",
      "Building wheels for collected packages: scikit-surprise\n",
      "  Building wheel for scikit-surprise (setup.py) ... \u001b[?25l\u001b[?25hdone\n",
      "  Created wheel for scikit-surprise: filename=scikit_surprise-1.1.3-cp310-cp310-linux_x86_64.whl size=3162998 sha256=92082704985c0b142ef48f778b497576f0f5828bf461963726b07a13e5723193\n",
      "  Stored in directory: /root/.cache/pip/wheels/a5/ca/a8/4e28def53797fdc4363ca4af740db15a9c2f1595ebc51fb445\n",
      "Successfully built scikit-surprise\n",
      "Installing collected packages: scikit-surprise, surprise\n",
      "Successfully installed scikit-surprise-1.1.3 surprise-0.1\n"
     ]
    }
   ],
   "source": [
    "!pip install surprise"
   ]
  },
  {
   "cell_type": "code",
   "execution_count": 2,
   "metadata": {
    "colab": {
     "base_uri": "https://localhost:8080/"
    },
    "id": "xLnc3A3_X3bq",
    "outputId": "1355af72-cc5d-432c-85b9-b0d33a2e9cf2"
   },
   "outputs": [
    {
     "name": "stdout",
     "output_type": "stream",
     "text": [
      "Name: scikit-surprise\n",
      "Version: 1.1.3\n",
      "Summary: An easy-to-use library for recommender systems.\n",
      "Home-page: https://surpriselib.com\n",
      "Author: Nicolas Hug\n",
      "Author-email: contact@nicolas-hug.com\n",
      "License: GPLv3+\n",
      "Location: /usr/local/lib/python3.10/dist-packages\n",
      "Requires: joblib, numpy, scipy\n",
      "Required-by: surprise\n"
     ]
    }
   ],
   "source": [
    "!pip show scikit-surprise"
   ]
  },
  {
   "cell_type": "code",
   "execution_count": null,
   "metadata": {
    "colab": {
     "base_uri": "https://localhost:8080/"
    },
    "id": "-CgX30g8AEwi",
    "outputId": "ef0701a4-cfd2-4984-b06e-815212542c2f"
   },
   "outputs": [
    {
     "name": "stdout",
     "output_type": "stream",
     "text": [
      "Requirement already satisfied: torch in /usr/local/lib/python3.10/dist-packages (2.2.1+cu121)\n",
      "Requirement already satisfied: filelock in /usr/local/lib/python3.10/dist-packages (from torch) (3.13.4)\n",
      "Requirement already satisfied: typing-extensions>=4.8.0 in /usr/local/lib/python3.10/dist-packages (from torch) (4.11.0)\n",
      "Requirement already satisfied: sympy in /usr/local/lib/python3.10/dist-packages (from torch) (1.12)\n",
      "Requirement already satisfied: networkx in /usr/local/lib/python3.10/dist-packages (from torch) (3.3)\n",
      "Requirement already satisfied: jinja2 in /usr/local/lib/python3.10/dist-packages (from torch) (3.1.3)\n",
      "Requirement already satisfied: fsspec in /usr/local/lib/python3.10/dist-packages (from torch) (2023.6.0)\n",
      "Collecting nvidia-cuda-nvrtc-cu12==12.1.105 (from torch)\n",
      "  Using cached nvidia_cuda_nvrtc_cu12-12.1.105-py3-none-manylinux1_x86_64.whl (23.7 MB)\n",
      "Collecting nvidia-cuda-runtime-cu12==12.1.105 (from torch)\n",
      "  Using cached nvidia_cuda_runtime_cu12-12.1.105-py3-none-manylinux1_x86_64.whl (823 kB)\n",
      "Collecting nvidia-cuda-cupti-cu12==12.1.105 (from torch)\n",
      "  Using cached nvidia_cuda_cupti_cu12-12.1.105-py3-none-manylinux1_x86_64.whl (14.1 MB)\n",
      "Collecting nvidia-cudnn-cu12==8.9.2.26 (from torch)\n",
      "  Using cached nvidia_cudnn_cu12-8.9.2.26-py3-none-manylinux1_x86_64.whl (731.7 MB)\n",
      "Collecting nvidia-cublas-cu12==12.1.3.1 (from torch)\n",
      "  Using cached nvidia_cublas_cu12-12.1.3.1-py3-none-manylinux1_x86_64.whl (410.6 MB)\n",
      "Collecting nvidia-cufft-cu12==11.0.2.54 (from torch)\n",
      "  Using cached nvidia_cufft_cu12-11.0.2.54-py3-none-manylinux1_x86_64.whl (121.6 MB)\n",
      "Collecting nvidia-curand-cu12==10.3.2.106 (from torch)\n",
      "  Using cached nvidia_curand_cu12-10.3.2.106-py3-none-manylinux1_x86_64.whl (56.5 MB)\n",
      "Collecting nvidia-cusolver-cu12==11.4.5.107 (from torch)\n",
      "  Using cached nvidia_cusolver_cu12-11.4.5.107-py3-none-manylinux1_x86_64.whl (124.2 MB)\n",
      "Collecting nvidia-cusparse-cu12==12.1.0.106 (from torch)\n",
      "  Using cached nvidia_cusparse_cu12-12.1.0.106-py3-none-manylinux1_x86_64.whl (196.0 MB)\n",
      "Collecting nvidia-nccl-cu12==2.19.3 (from torch)\n",
      "  Using cached nvidia_nccl_cu12-2.19.3-py3-none-manylinux1_x86_64.whl (166.0 MB)\n",
      "Collecting nvidia-nvtx-cu12==12.1.105 (from torch)\n",
      "  Using cached nvidia_nvtx_cu12-12.1.105-py3-none-manylinux1_x86_64.whl (99 kB)\n",
      "Requirement already satisfied: triton==2.2.0 in /usr/local/lib/python3.10/dist-packages (from torch) (2.2.0)\n",
      "Collecting nvidia-nvjitlink-cu12 (from nvidia-cusolver-cu12==11.4.5.107->torch)\n",
      "  Using cached nvidia_nvjitlink_cu12-12.4.127-py3-none-manylinux2014_x86_64.whl (21.1 MB)\n",
      "Requirement already satisfied: MarkupSafe>=2.0 in /usr/local/lib/python3.10/dist-packages (from jinja2->torch) (2.1.5)\n",
      "Requirement already satisfied: mpmath>=0.19 in /usr/local/lib/python3.10/dist-packages (from sympy->torch) (1.3.0)\n",
      "Installing collected packages: nvidia-nvtx-cu12, nvidia-nvjitlink-cu12, nvidia-nccl-cu12, nvidia-curand-cu12, nvidia-cufft-cu12, nvidia-cuda-runtime-cu12, nvidia-cuda-nvrtc-cu12, nvidia-cuda-cupti-cu12, nvidia-cublas-cu12, nvidia-cusparse-cu12, nvidia-cudnn-cu12, nvidia-cusolver-cu12\n",
      "Successfully installed nvidia-cublas-cu12-12.1.3.1 nvidia-cuda-cupti-cu12-12.1.105 nvidia-cuda-nvrtc-cu12-12.1.105 nvidia-cuda-runtime-cu12-12.1.105 nvidia-cudnn-cu12-8.9.2.26 nvidia-cufft-cu12-11.0.2.54 nvidia-curand-cu12-10.3.2.106 nvidia-cusolver-cu12-11.4.5.107 nvidia-cusparse-cu12-12.1.0.106 nvidia-nccl-cu12-2.19.3 nvidia-nvjitlink-cu12-12.4.127 nvidia-nvtx-cu12-12.1.105\n"
     ]
    }
   ],
   "source": [
    "!pip install torch"
   ]
  },
  {
   "cell_type": "code",
   "execution_count": null,
   "metadata": {
    "colab": {
     "base_uri": "https://localhost:8080/"
    },
    "id": "Vb6NCoU-BZ2U",
    "outputId": "f1b2263b-66ea-4ab9-916d-ec84ffaffdcf"
   },
   "outputs": [
    {
     "name": "stdout",
     "output_type": "stream",
     "text": [
      "\u001b[33mWARNING: Skipping sentence-transformers as it is not installed.\u001b[0m\u001b[33m\n",
      "\u001b[0mFound existing installation: transformers 4.38.2\n",
      "Uninstalling transformers-4.38.2:\n",
      "  Successfully uninstalled transformers-4.38.2\n",
      "Collecting sentence-transformers\n",
      "  Downloading sentence_transformers-2.7.0-py3-none-any.whl (171 kB)\n",
      "\u001b[2K     \u001b[90m━━━━━━━━━━━━━━━━━━━━━━━━━━━━━━━━━━━━━━━━\u001b[0m \u001b[32m171.5/171.5 kB\u001b[0m \u001b[31m1.7 MB/s\u001b[0m eta \u001b[36m0:00:00\u001b[0m\n",
      "\u001b[?25hCollecting transformers<5.0.0,>=4.34.0 (from sentence-transformers)\n",
      "  Downloading transformers-4.40.0-py3-none-any.whl (9.0 MB)\n",
      "\u001b[2K     \u001b[90m━━━━━━━━━━━━━━━━━━━━━━━━━━━━━━━━━━━━━━━━\u001b[0m \u001b[32m9.0/9.0 MB\u001b[0m \u001b[31m28.9 MB/s\u001b[0m eta \u001b[36m0:00:00\u001b[0m\n",
      "\u001b[?25hRequirement already satisfied: tqdm in /usr/local/lib/python3.10/dist-packages (from sentence-transformers) (4.66.2)\n",
      "Requirement already satisfied: torch>=1.11.0 in /usr/local/lib/python3.10/dist-packages (from sentence-transformers) (2.2.1+cu121)\n",
      "Requirement already satisfied: numpy in /usr/local/lib/python3.10/dist-packages (from sentence-transformers) (1.25.2)\n",
      "Requirement already satisfied: scikit-learn in /usr/local/lib/python3.10/dist-packages (from sentence-transformers) (1.2.2)\n",
      "Requirement already satisfied: scipy in /usr/local/lib/python3.10/dist-packages (from sentence-transformers) (1.11.4)\n",
      "Requirement already satisfied: huggingface-hub>=0.15.1 in /usr/local/lib/python3.10/dist-packages (from sentence-transformers) (0.20.3)\n",
      "Requirement already satisfied: Pillow in /usr/local/lib/python3.10/dist-packages (from sentence-transformers) (9.4.0)\n",
      "Requirement already satisfied: filelock in /usr/local/lib/python3.10/dist-packages (from huggingface-hub>=0.15.1->sentence-transformers) (3.13.4)\n",
      "Requirement already satisfied: fsspec>=2023.5.0 in /usr/local/lib/python3.10/dist-packages (from huggingface-hub>=0.15.1->sentence-transformers) (2023.6.0)\n",
      "Requirement already satisfied: requests in /usr/local/lib/python3.10/dist-packages (from huggingface-hub>=0.15.1->sentence-transformers) (2.31.0)\n",
      "Requirement already satisfied: pyyaml>=5.1 in /usr/local/lib/python3.10/dist-packages (from huggingface-hub>=0.15.1->sentence-transformers) (6.0.1)\n",
      "Requirement already satisfied: typing-extensions>=3.7.4.3 in /usr/local/lib/python3.10/dist-packages (from huggingface-hub>=0.15.1->sentence-transformers) (4.11.0)\n",
      "Requirement already satisfied: packaging>=20.9 in /usr/local/lib/python3.10/dist-packages (from huggingface-hub>=0.15.1->sentence-transformers) (24.0)\n",
      "Requirement already satisfied: sympy in /usr/local/lib/python3.10/dist-packages (from torch>=1.11.0->sentence-transformers) (1.12)\n",
      "Requirement already satisfied: networkx in /usr/local/lib/python3.10/dist-packages (from torch>=1.11.0->sentence-transformers) (3.3)\n",
      "Requirement already satisfied: jinja2 in /usr/local/lib/python3.10/dist-packages (from torch>=1.11.0->sentence-transformers) (3.1.3)\n",
      "Requirement already satisfied: nvidia-cuda-nvrtc-cu12==12.1.105 in /usr/local/lib/python3.10/dist-packages (from torch>=1.11.0->sentence-transformers) (12.1.105)\n",
      "Requirement already satisfied: nvidia-cuda-runtime-cu12==12.1.105 in /usr/local/lib/python3.10/dist-packages (from torch>=1.11.0->sentence-transformers) (12.1.105)\n",
      "Requirement already satisfied: nvidia-cuda-cupti-cu12==12.1.105 in /usr/local/lib/python3.10/dist-packages (from torch>=1.11.0->sentence-transformers) (12.1.105)\n",
      "Requirement already satisfied: nvidia-cudnn-cu12==8.9.2.26 in /usr/local/lib/python3.10/dist-packages (from torch>=1.11.0->sentence-transformers) (8.9.2.26)\n",
      "Requirement already satisfied: nvidia-cublas-cu12==12.1.3.1 in /usr/local/lib/python3.10/dist-packages (from torch>=1.11.0->sentence-transformers) (12.1.3.1)\n",
      "Requirement already satisfied: nvidia-cufft-cu12==11.0.2.54 in /usr/local/lib/python3.10/dist-packages (from torch>=1.11.0->sentence-transformers) (11.0.2.54)\n",
      "Requirement already satisfied: nvidia-curand-cu12==10.3.2.106 in /usr/local/lib/python3.10/dist-packages (from torch>=1.11.0->sentence-transformers) (10.3.2.106)\n",
      "Requirement already satisfied: nvidia-cusolver-cu12==11.4.5.107 in /usr/local/lib/python3.10/dist-packages (from torch>=1.11.0->sentence-transformers) (11.4.5.107)\n",
      "Requirement already satisfied: nvidia-cusparse-cu12==12.1.0.106 in /usr/local/lib/python3.10/dist-packages (from torch>=1.11.0->sentence-transformers) (12.1.0.106)\n",
      "Requirement already satisfied: nvidia-nccl-cu12==2.19.3 in /usr/local/lib/python3.10/dist-packages (from torch>=1.11.0->sentence-transformers) (2.19.3)\n",
      "Requirement already satisfied: nvidia-nvtx-cu12==12.1.105 in /usr/local/lib/python3.10/dist-packages (from torch>=1.11.0->sentence-transformers) (12.1.105)\n",
      "Requirement already satisfied: triton==2.2.0 in /usr/local/lib/python3.10/dist-packages (from torch>=1.11.0->sentence-transformers) (2.2.0)\n",
      "Requirement already satisfied: nvidia-nvjitlink-cu12 in /usr/local/lib/python3.10/dist-packages (from nvidia-cusolver-cu12==11.4.5.107->torch>=1.11.0->sentence-transformers) (12.4.127)\n",
      "Requirement already satisfied: regex!=2019.12.17 in /usr/local/lib/python3.10/dist-packages (from transformers<5.0.0,>=4.34.0->sentence-transformers) (2023.12.25)\n",
      "Collecting tokenizers<0.20,>=0.19 (from transformers<5.0.0,>=4.34.0->sentence-transformers)\n",
      "  Downloading tokenizers-0.19.1-cp310-cp310-manylinux_2_17_x86_64.manylinux2014_x86_64.whl (3.6 MB)\n",
      "\u001b[2K     \u001b[90m━━━━━━━━━━━━━━━━━━━━━━━━━━━━━━━━━━━━━━━━\u001b[0m \u001b[32m3.6/3.6 MB\u001b[0m \u001b[31m50.2 MB/s\u001b[0m eta \u001b[36m0:00:00\u001b[0m\n",
      "\u001b[?25hRequirement already satisfied: safetensors>=0.4.1 in /usr/local/lib/python3.10/dist-packages (from transformers<5.0.0,>=4.34.0->sentence-transformers) (0.4.3)\n",
      "Requirement already satisfied: joblib>=1.1.1 in /usr/local/lib/python3.10/dist-packages (from scikit-learn->sentence-transformers) (1.4.0)\n",
      "Requirement already satisfied: threadpoolctl>=2.0.0 in /usr/local/lib/python3.10/dist-packages (from scikit-learn->sentence-transformers) (3.4.0)\n",
      "Requirement already satisfied: MarkupSafe>=2.0 in /usr/local/lib/python3.10/dist-packages (from jinja2->torch>=1.11.0->sentence-transformers) (2.1.5)\n",
      "Requirement already satisfied: charset-normalizer<4,>=2 in /usr/local/lib/python3.10/dist-packages (from requests->huggingface-hub>=0.15.1->sentence-transformers) (3.3.2)\n",
      "Requirement already satisfied: idna<4,>=2.5 in /usr/local/lib/python3.10/dist-packages (from requests->huggingface-hub>=0.15.1->sentence-transformers) (3.7)\n",
      "Requirement already satisfied: urllib3<3,>=1.21.1 in /usr/local/lib/python3.10/dist-packages (from requests->huggingface-hub>=0.15.1->sentence-transformers) (2.0.7)\n",
      "Requirement already satisfied: certifi>=2017.4.17 in /usr/local/lib/python3.10/dist-packages (from requests->huggingface-hub>=0.15.1->sentence-transformers) (2024.2.2)\n",
      "Requirement already satisfied: mpmath>=0.19 in /usr/local/lib/python3.10/dist-packages (from sympy->torch>=1.11.0->sentence-transformers) (1.3.0)\n",
      "Installing collected packages: tokenizers, transformers, sentence-transformers\n",
      "  Attempting uninstall: tokenizers\n",
      "    Found existing installation: tokenizers 0.15.2\n",
      "    Uninstalling tokenizers-0.15.2:\n",
      "      Successfully uninstalled tokenizers-0.15.2\n",
      "Successfully installed sentence-transformers-2.7.0 tokenizers-0.19.1 transformers-4.40.0\n"
     ]
    }
   ],
   "source": [
    "!python -m pip uninstall sentence-transformers --yes\n",
    "!python -m pip uninstall transformers --yes\n",
    "!python -m pip install -U sentence-transformers"
   ]
  },
  {
   "cell_type": "markdown",
   "metadata": {
    "id": "G0Qt__WsovtG"
   },
   "source": [
    "Import Library"
   ]
  },
  {
   "cell_type": "code",
   "execution_count": 3,
   "metadata": {
    "id": "7NrUGCuBovSH"
   },
   "outputs": [],
   "source": [
    "import pandas as pd\n",
    "from surprise import Reader, Dataset, KNNBasic, accuracy\n",
    "from surprise.model_selection import train_test_split, GridSearchCV\n",
    "import matplotlib.pyplot as plt"
   ]
  },
  {
   "cell_type": "markdown",
   "metadata": {
    "id": "uBmGk5yyX8jz"
   },
   "source": [
    "## Data Preprocessing"
   ]
  },
  {
   "cell_type": "code",
   "execution_count": 4,
   "metadata": {
    "id": "B4yhhlSOYWor"
   },
   "outputs": [],
   "source": [
    "import numpy as np # linear algebra\n",
    "import pandas as pd # data processing, CSV file I/O (e.g. pd.read_csv)"
   ]
  },
  {
   "cell_type": "code",
   "execution_count": 5,
   "metadata": {
    "colab": {
     "base_uri": "https://localhost:8080/"
    },
    "id": "GPwLD_wvX-8-",
    "outputId": "8a6b8fa1-1693-4802-e156-d56a82e7e61c"
   },
   "outputs": [
    {
     "name": "stdout",
     "output_type": "stream",
     "text": [
      "       userId    bookId  rating\n",
      "0           1      1384     4.0\n",
      "1           1      1376     4.0\n",
      "2           1     30119     3.0\n",
      "3           1  24769928     5.0\n",
      "4           1     30119     4.0\n",
      "...       ...       ...     ...\n",
      "60136     610      1420     3.5\n",
      "60137     610     15997     5.0\n",
      "60138     610      1420     4.0\n",
      "60139     610    250048     4.0\n",
      "60140     610    138372     3.0\n",
      "\n",
      "[60141 rows x 3 columns]\n"
     ]
    }
   ],
   "source": [
    "from surprise import Dataset\n",
    "\n",
    "# Load the movielens-100k dataset\n",
    "data_rate = pd.read_csv('/content/ratings.csv', delimiter=\",\", names=[\"userId\", \"bookId\", \"rating\", \"timestamp\"])\n",
    "data_rate = data_rate.drop(columns='timestamp')\n",
    "data_rate = data_rate[['userId', 'bookId', 'rating']]\n",
    "print(data_rate)"
   ]
  },
  {
   "cell_type": "markdown",
   "metadata": {
    "id": "fl_l8e3zj1K7"
   },
   "source": [
    "modify the ID from 1 to n"
   ]
  },
  {
   "cell_type": "code",
   "execution_count": null,
   "metadata": {
    "colab": {
     "base_uri": "https://localhost:8080/",
     "height": 218
    },
    "id": "46G2dGZjdq3f",
    "outputId": "e10463f5-d2ef-4a11-ca8f-c112d6e56fe8"
   },
   "outputs": [
    {
     "ename": "TypeError",
     "evalue": "object of type 'DatasetAutoFolds' has no len()",
     "output_type": "error",
     "traceback": [
      "\u001b[0;31m---------------------------------------------------------------------------\u001b[0m",
      "\u001b[0;31mTypeError\u001b[0m                                 Traceback (most recent call last)",
      "\u001b[0;32m<ipython-input-67-1fa055041c6e>\u001b[0m in \u001b[0;36m<cell line: 4>\u001b[0;34m()\u001b[0m\n\u001b[1;32m      2\u001b[0m \u001b[0;34m\u001b[0m\u001b[0m\n\u001b[1;32m      3\u001b[0m \u001b[0;31m# Create a new column 'sequential_id' and assign sequential numeric IDs\u001b[0m\u001b[0;34m\u001b[0m\u001b[0;34m\u001b[0m\u001b[0m\n\u001b[0;32m----> 4\u001b[0;31m \u001b[0mdata\u001b[0m\u001b[0;34m[\u001b[0m\u001b[0;34m'user_id'\u001b[0m\u001b[0;34m]\u001b[0m \u001b[0;34m=\u001b[0m \u001b[0mrange\u001b[0m\u001b[0;34m(\u001b[0m\u001b[0;36m1\u001b[0m\u001b[0;34m,\u001b[0m \u001b[0mlen\u001b[0m\u001b[0;34m(\u001b[0m\u001b[0mdata\u001b[0m\u001b[0;34m)\u001b[0m \u001b[0;34m+\u001b[0m \u001b[0;36m1\u001b[0m\u001b[0;34m)\u001b[0m\u001b[0;34m\u001b[0m\u001b[0;34m\u001b[0m\u001b[0m\n\u001b[0m\u001b[1;32m      5\u001b[0m \u001b[0;34m\u001b[0m\u001b[0m\n\u001b[1;32m      6\u001b[0m \u001b[0;31m# Save the modified DataFrame back to a new CSV file\u001b[0m\u001b[0;34m\u001b[0m\u001b[0;34m\u001b[0m\u001b[0m\n",
      "\u001b[0;31mTypeError\u001b[0m: object of type 'DatasetAutoFolds' has no len()"
     ]
    }
   ],
   "source": [
    "import pandas as pd\n",
    "\n",
    "# Create a new column 'sequential_id' and assign sequential numeric IDs\n",
    "data['user_id'] = range(1, len(data) + 1)\n",
    "\n",
    "# Save the modified DataFrame back to a new CSV file\n",
    "data.to_csv('/content/sample_data/interactions_small_modify.csv', index=False)"
   ]
  },
  {
   "cell_type": "markdown",
   "metadata": {
    "id": "gmCag_sjr2Hm"
   },
   "source": [
    "Data Wrangling"
   ]
  },
  {
   "cell_type": "code",
   "execution_count": 6,
   "metadata": {
    "id": "yPNydgdLr23w"
   },
   "outputs": [],
   "source": [
    "# Filter ratings that are out of range\n",
    "data_rate = data_rate[data_rate['rating']!=0]"
   ]
  },
  {
   "cell_type": "code",
   "execution_count": 7,
   "metadata": {
    "id": "LjUyvUAir5Iy"
   },
   "outputs": [],
   "source": [
    "# Prepare data for surprise: build a Suprise reader object\n",
    "reader = Reader(rating_scale=(1, 5))"
   ]
  },
  {
   "cell_type": "markdown",
   "metadata": {
    "id": "3JK4wgamnYIW"
   },
   "source": [
    "Load the data to surprise"
   ]
  },
  {
   "cell_type": "code",
   "execution_count": 8,
   "metadata": {
    "id": "XhUsVCFzna0f"
   },
   "outputs": [],
   "source": [
    "from surprise import Dataset\n",
    "from surprise import Reader\n",
    "\n",
    "import os\n",
    "\n",
    "\n",
    "# Load `data_rate` into a Surprise Dataset\n",
    "data = Dataset.load_from_df(data_rate, reader)"
   ]
  },
  {
   "cell_type": "code",
   "execution_count": 9,
   "metadata": {
    "colab": {
     "base_uri": "https://localhost:8080/"
    },
    "id": "U_cvhfoUtEWD",
    "outputId": "8aa4b2c1-12cf-4b10-a057-21b6a1afd2fc"
   },
   "outputs": [
    {
     "name": "stdout",
     "output_type": "stream",
     "text": [
      "number of users: 485\n",
      "number of items: 12293\n",
      "number of ratings: 60141\n"
     ]
    }
   ],
   "source": [
    "# Retrieve the trainset (whole dataset)\n",
    "#train_set, test_set = train_test_split(data, test_size=.90)\n",
    "\n",
    "trainset = data.build_full_trainset()\n",
    "print('number of users: %d' % trainset.n_users)\n",
    "print('number of items: %d' % trainset.n_items)\n",
    "print('number of ratings: %d' % trainset.n_ratings)"
   ]
  },
  {
   "cell_type": "markdown",
   "metadata": {},
   "source": [
    "# Test Base Models"
   ]
  },
  {
   "cell_type": "markdown",
   "metadata": {
    "id": "l3d0axIIwxF2"
   },
   "source": [
    "## user-based"
   ]
  },
  {
   "cell_type": "code",
   "execution_count": 10,
   "metadata": {
    "colab": {
     "base_uri": "https://localhost:8080/"
    },
    "id": "z1SpNeYIxepB",
    "outputId": "17b771e2-b406-4780-ea18-7cc7d55bf7cc"
   },
   "outputs": [
    {
     "name": "stdout",
     "output_type": "stream",
     "text": [
      "Computing the cosine similarity matrix...\n",
      "Done computing similarity matrix.\n",
      "Computing the cosine similarity matrix...\n",
      "Done computing similarity matrix.\n",
      "Computing the cosine similarity matrix...\n",
      "Done computing similarity matrix.\n",
      "Computing the cosine similarity matrix...\n",
      "Done computing similarity matrix.\n",
      "Computing the cosine similarity matrix...\n",
      "Done computing similarity matrix.\n",
      "Evaluating RMSE of algorithm KNNWithMeans on 5 split(s).\n",
      "\n",
      "                  Fold 1  Fold 2  Fold 3  Fold 4  Fold 5  Mean    Std     \n",
      "RMSE (testset)    1.0445  1.0238  1.0336  1.0408  1.0212  1.0328  0.0091  \n",
      "Fit time          0.27    0.33    0.30    0.46    0.35    0.34    0.07    \n",
      "Test time         1.54    1.72    1.69    2.89    1.74    1.92    0.49    \n"
     ]
    }
   ],
   "source": [
    "from surprise import Dataset\n",
    "from surprise import KNNWithMeans\n",
    "from surprise.model_selection import cross_validate\n",
    "\n",
    "eval_cv = 5\n",
    "user_based_algo = KNNWithMeans(k=20, sim_options={\n",
    "  \"name\": \"cosine\",\n",
    "  \"user_based\": True,  # Compute  similarities between users\n",
    "})\n",
    "\n",
    "user_based_r = cross_validate(user_based_algo, data, measures=['rmse'], cv=eval_cv,verbose=True)\n",
    "user_based_r_1 = user_based_r['test_rmse'].mean()"
   ]
  },
  {
   "cell_type": "markdown",
   "metadata": {
    "id": "VOWecJap1npn"
   },
   "source": [
    "## item-based"
   ]
  },
  {
   "cell_type": "code",
   "execution_count": 11,
   "metadata": {
    "colab": {
     "base_uri": "https://localhost:8080/"
    },
    "id": "h8c4dOO31vJ0",
    "outputId": "45f4bed1-d67c-42a2-ab9e-ee3ca9588f91"
   },
   "outputs": [
    {
     "name": "stdout",
     "output_type": "stream",
     "text": [
      "Computing the cosine similarity matrix...\n",
      "Done computing similarity matrix.\n",
      "Computing the cosine similarity matrix...\n",
      "Done computing similarity matrix.\n",
      "Computing the cosine similarity matrix...\n",
      "Done computing similarity matrix.\n",
      "Computing the cosine similarity matrix...\n",
      "Done computing similarity matrix.\n",
      "Computing the cosine similarity matrix...\n",
      "Done computing similarity matrix.\n",
      "Evaluating RMSE of algorithm KNNWithMeans on 5 split(s).\n",
      "\n",
      "                  Fold 1  Fold 2  Fold 3  Fold 4  Fold 5  Mean    Std     \n",
      "RMSE (testset)    1.0395  1.0213  1.0285  1.0428  1.0219  1.0308  0.0089  \n",
      "Fit time          0.30    0.27    0.31    0.32    0.45    0.33    0.06    \n",
      "Test time         1.76    1.66    1.75    2.12    2.40    1.94    0.28    \n"
     ]
    }
   ],
   "source": [
    "from surprise import Dataset\n",
    "from surprise import KNNWithMeans\n",
    "from surprise.model_selection import cross_validate\n",
    "\n",
    "eval_cv = 5\n",
    "item_based_algo = KNNWithMeans(k=20, sim_options={\n",
    "  \"name\": \"cosine\",\n",
    "  \"user_based\": False,  # Compute  similarities between users\n",
    "})\n",
    "\n",
    "item_based_r = cross_validate(user_based_algo, data, measures=['rmse'], cv=eval_cv,verbose=True)\n",
    "item_based_r_1 = user_based_r['test_rmse'].mean()"
   ]
  },
  {
   "cell_type": "markdown",
   "metadata": {
    "id": "tXnDaGWoNHmf"
   },
   "source": [
    "## SVD"
   ]
  },
  {
   "cell_type": "code",
   "execution_count": 12,
   "metadata": {
    "id": "mcskGIZVNIxX"
   },
   "outputs": [],
   "source": [
    "import timeit\n",
    "from surprise import SVD\n",
    "from surprise import SVDpp\n",
    "from surprise import BaselineOnly\n",
    "from surprise import Dataset\n",
    "from surprise.model_selection import cross_validate\n",
    "import os\n",
    "from surprise import Reader\n",
    "\n",
    "n_factors = 10\n",
    "n_epochs = 30"
   ]
  },
  {
   "cell_type": "code",
   "execution_count": 17,
   "metadata": {
    "colab": {
     "base_uri": "https://localhost:8080/"
    },
    "id": "hh_8QVW1OhRO",
    "outputId": "30c1d896-7c00-46e8-c616-bb27b01abf8b"
   },
   "outputs": [
    {
     "name": "stdout",
     "output_type": "stream",
     "text": [
      "Evaluating RMSE of algorithm SVD on 5 split(s).\n",
      "\n",
      "                  Fold 1  Fold 2  Fold 3  Fold 4  Fold 5  Mean    Std     \n",
      "RMSE (testset)    0.9717  0.9537  0.9558  0.9696  0.9590  0.9620  0.0073  \n",
      "Fit time          0.98    0.90    0.91    0.90    0.91    0.92    0.03    \n",
      "Test time         0.08    0.08    0.07    0.07    0.07    0.07    0.00    \n",
      "Run Time:  6.180738651999945\n"
     ]
    }
   ],
   "source": [
    "method = 'SVD'\n",
    "\n",
    "start = timeit.default_timer()\n",
    "algo = SVD(n_factors=n_factors, n_epochs=n_epochs, biased=True)\n",
    "results= cross_validate(algo, data, measures=['RMSE'], cv=5, verbose=True)\n",
    "stop = timeit.default_timer()\n",
    "run_time = stop - start\n",
    "print('Run Time: ', run_time)\n",
    "SVD_result = results['test_rmse'].mean()\n",
    "SVD_result_1 = results['test_rmse']"
   ]
  },
  {
   "cell_type": "markdown",
   "metadata": {
    "id": "FxeJEr11OxDb"
   },
   "source": [
    "## NCF"
   ]
  },
  {
   "cell_type": "code",
   "execution_count": 20,
   "metadata": {
    "colab": {
     "base_uri": "https://localhost:8080/"
    },
    "id": "8SSJ0b1gPQSu",
    "outputId": "4009848d-b415-4746-8c8a-ffa2663bebef"
   },
   "outputs": [
    {
     "name": "stdout",
     "output_type": "stream",
     "text": [
      "Pretraining GMF...\n",
      "Epoch 1/5\n",
      "3007/3007 [==============================] - 10s 3ms/step - loss: 1.1914\n",
      "Epoch 2/5\n",
      "3007/3007 [==============================] - 10s 3ms/step - loss: 1.0910\n",
      "Epoch 3/5\n",
      "3007/3007 [==============================] - 8s 3ms/step - loss: 1.0913\n",
      "Epoch 4/5\n",
      "3007/3007 [==============================] - 11s 4ms/step - loss: 1.0912\n",
      "Epoch 5/5\n",
      "3007/3007 [==============================] - 9s 3ms/step - loss: 1.0910\n",
      "Pretraining MLP...\n",
      "Epoch 1/20\n",
      "3007/3007 [==============================] - 10s 3ms/step - loss: 1.0685\n",
      "Epoch 2/20\n",
      "3007/3007 [==============================] - 10s 3ms/step - loss: 0.9128\n",
      "Epoch 3/20\n",
      "3007/3007 [==============================] - 9s 3ms/step - loss: 0.8946\n",
      "Epoch 4/20\n",
      "3007/3007 [==============================] - 10s 3ms/step - loss: 0.8887\n",
      "Epoch 5/20\n",
      "3007/3007 [==============================] - 10s 3ms/step - loss: 0.8849\n",
      "Epoch 6/20\n",
      "3007/3007 [==============================] - 8s 3ms/step - loss: 0.8805\n",
      "Epoch 7/20\n",
      "3007/3007 [==============================] - 10s 3ms/step - loss: 0.8767\n",
      "Epoch 8/20\n",
      "3007/3007 [==============================] - 10s 3ms/step - loss: 0.8718\n",
      "Epoch 9/20\n",
      "3007/3007 [==============================] - 8s 3ms/step - loss: 0.8664\n",
      "Epoch 10/20\n",
      "3007/3007 [==============================] - 10s 3ms/step - loss: 0.8589\n",
      "Epoch 11/20\n",
      "3007/3007 [==============================] - 8s 3ms/step - loss: 0.8494\n",
      "Epoch 12/20\n",
      "3007/3007 [==============================] - 9s 3ms/step - loss: 0.8403\n",
      "Epoch 13/20\n",
      "3007/3007 [==============================] - 10s 3ms/step - loss: 0.8300\n",
      "Epoch 14/20\n",
      "3007/3007 [==============================] - 9s 3ms/step - loss: 0.8178\n",
      "Epoch 15/20\n",
      "3007/3007 [==============================] - 10s 3ms/step - loss: 0.8059\n",
      "Epoch 16/20\n",
      "3007/3007 [==============================] - 11s 4ms/step - loss: 0.7954\n",
      "Epoch 17/20\n",
      "3007/3007 [==============================] - 8s 3ms/step - loss: 0.7828\n",
      "Epoch 18/20\n",
      "3007/3007 [==============================] - 10s 3ms/step - loss: 0.7736\n",
      "Epoch 19/20\n",
      "3007/3007 [==============================] - 10s 3ms/step - loss: 0.7651\n",
      "Epoch 20/20\n",
      "3007/3007 [==============================] - 8s 3ms/step - loss: 0.7559\n",
      "Training NCF...\n",
      "Epoch 1/20\n",
      "3007/3007 [==============================] - 12s 4ms/step - loss: 0.9233\n",
      "Epoch 2/20\n",
      "3007/3007 [==============================] - 12s 4ms/step - loss: 0.7627\n",
      "Epoch 3/20\n",
      "3007/3007 [==============================] - 12s 4ms/step - loss: 0.7509\n",
      "Epoch 4/20\n",
      "3007/3007 [==============================] - 12s 4ms/step - loss: 0.7462\n",
      "Epoch 5/20\n",
      "3007/3007 [==============================] - 10s 3ms/step - loss: 0.7415\n",
      "Epoch 6/20\n",
      "3007/3007 [==============================] - 12s 4ms/step - loss: 0.7381\n",
      "Epoch 7/20\n",
      "3007/3007 [==============================] - 12s 4ms/step - loss: 0.7347\n",
      "Epoch 8/20\n",
      "3007/3007 [==============================] - 12s 4ms/step - loss: 0.7321\n",
      "Epoch 9/20\n",
      "3007/3007 [==============================] - 14s 5ms/step - loss: 0.7288\n",
      "Epoch 10/20\n",
      "3007/3007 [==============================] - 11s 4ms/step - loss: 0.7253\n",
      "Epoch 11/20\n",
      "3007/3007 [==============================] - 14s 5ms/step - loss: 0.7231\n",
      "Epoch 12/20\n",
      "3007/3007 [==============================] - 12s 4ms/step - loss: 0.7208\n",
      "Epoch 13/20\n",
      "3007/3007 [==============================] - 12s 4ms/step - loss: 0.7176\n",
      "Epoch 14/20\n",
      "3007/3007 [==============================] - 12s 4ms/step - loss: 0.7152\n",
      "Epoch 15/20\n",
      "3007/3007 [==============================] - 12s 4ms/step - loss: 0.7128\n",
      "Epoch 16/20\n",
      "3007/3007 [==============================] - 11s 4ms/step - loss: 0.7103\n",
      "Epoch 17/20\n",
      "3007/3007 [==============================] - 12s 4ms/step - loss: 0.7073\n",
      "Epoch 18/20\n",
      "3007/3007 [==============================] - 12s 4ms/step - loss: 0.7057\n",
      "Epoch 19/20\n",
      "3007/3007 [==============================] - 11s 4ms/step - loss: 0.7034\n",
      "Epoch 20/20\n",
      "3007/3007 [==============================] - 11s 4ms/step - loss: 0.7004\n",
      "332/332 [==============================] - 1s 1ms/step\n",
      "Pretraining GMF...\n",
      "Epoch 1/5\n",
      "3008/3008 [==============================] - 11s 4ms/step - loss: 1.1913\n",
      "Epoch 2/5\n",
      "3008/3008 [==============================] - 8s 3ms/step - loss: 1.0916\n",
      "Epoch 3/5\n",
      "3008/3008 [==============================] - 12s 4ms/step - loss: 1.0916\n",
      "Epoch 4/5\n",
      "3008/3008 [==============================] - 8s 3ms/step - loss: 1.0915\n",
      "Epoch 5/5\n",
      "3008/3008 [==============================] - 10s 3ms/step - loss: 1.0916\n",
      "Pretraining MLP...\n",
      "Epoch 1/20\n",
      "3008/3008 [==============================] - 10s 3ms/step - loss: 1.1064\n",
      "Epoch 2/20\n",
      "3008/3008 [==============================] - 9s 3ms/step - loss: 0.9063\n",
      "Epoch 3/20\n",
      "3008/3008 [==============================] - 10s 3ms/step - loss: 0.8861\n",
      "Epoch 4/20\n",
      "3008/3008 [==============================] - 10s 3ms/step - loss: 0.8804\n",
      "Epoch 5/20\n",
      "3008/3008 [==============================] - 8s 3ms/step - loss: 0.8755\n",
      "Epoch 6/20\n",
      "3008/3008 [==============================] - 10s 3ms/step - loss: 0.8722\n",
      "Epoch 7/20\n",
      "3008/3008 [==============================] - 10s 3ms/step - loss: 0.8681\n",
      "Epoch 8/20\n",
      "3008/3008 [==============================] - 8s 3ms/step - loss: 0.8638\n",
      "Epoch 9/20\n",
      "3008/3008 [==============================] - 9s 3ms/step - loss: 0.8586\n",
      "Epoch 10/20\n",
      "3008/3008 [==============================] - 9s 3ms/step - loss: 0.8523\n",
      "Epoch 11/20\n",
      "3008/3008 [==============================] - 8s 3ms/step - loss: 0.8443\n",
      "Epoch 12/20\n",
      "3008/3008 [==============================] - 9s 3ms/step - loss: 0.8355\n",
      "Epoch 13/20\n",
      "3008/3008 [==============================] - 9s 3ms/step - loss: 0.8256\n",
      "Epoch 14/20\n",
      "3008/3008 [==============================] - 11s 3ms/step - loss: 0.8137\n",
      "Epoch 15/20\n",
      "3008/3008 [==============================] - 11s 4ms/step - loss: 0.8026\n",
      "Epoch 16/20\n",
      "3008/3008 [==============================] - 9s 3ms/step - loss: 0.7919\n",
      "Epoch 17/20\n",
      "3008/3008 [==============================] - 10s 3ms/step - loss: 0.7789\n",
      "Epoch 18/20\n",
      "3008/3008 [==============================] - 10s 3ms/step - loss: 0.7686\n",
      "Epoch 19/20\n",
      "3008/3008 [==============================] - 8s 3ms/step - loss: 0.7586\n",
      "Epoch 20/20\n",
      "3008/3008 [==============================] - 10s 3ms/step - loss: 0.7486\n",
      "Training NCF...\n",
      "Epoch 1/20\n",
      "3008/3008 [==============================] - 13s 4ms/step - loss: 0.8956\n",
      "Epoch 2/20\n",
      "3008/3008 [==============================] - 12s 4ms/step - loss: 0.7566\n",
      "Epoch 3/20\n",
      "3008/3008 [==============================] - 12s 4ms/step - loss: 0.7480\n",
      "Epoch 4/20\n",
      "3008/3008 [==============================] - 11s 4ms/step - loss: 0.7425\n",
      "Epoch 5/20\n",
      "3008/3008 [==============================] - 11s 4ms/step - loss: 0.7363\n",
      "Epoch 6/20\n",
      "3008/3008 [==============================] - 12s 4ms/step - loss: 0.7300\n",
      "Epoch 7/20\n",
      "3008/3008 [==============================] - 13s 4ms/step - loss: 0.7243\n",
      "Epoch 8/20\n",
      "3008/3008 [==============================] - 13s 4ms/step - loss: 0.7215\n",
      "Epoch 9/20\n",
      "3008/3008 [==============================] - 15s 5ms/step - loss: 0.7171\n",
      "Epoch 10/20\n",
      "3008/3008 [==============================] - 12s 4ms/step - loss: 0.7129\n",
      "Epoch 11/20\n",
      "3008/3008 [==============================] - 11s 4ms/step - loss: 0.7092\n",
      "Epoch 12/20\n",
      "3008/3008 [==============================] - 12s 4ms/step - loss: 0.7065\n",
      "Epoch 13/20\n",
      "3008/3008 [==============================] - 12s 4ms/step - loss: 0.7053\n",
      "Epoch 14/20\n",
      "3008/3008 [==============================] - 12s 4ms/step - loss: 0.7004\n",
      "Epoch 15/20\n",
      "3008/3008 [==============================] - 12s 4ms/step - loss: 0.6959\n",
      "Epoch 16/20\n",
      "3008/3008 [==============================] - 11s 4ms/step - loss: 0.6939\n",
      "Epoch 17/20\n",
      "3008/3008 [==============================] - 10s 3ms/step - loss: 0.6900\n",
      "Epoch 18/20\n",
      "3008/3008 [==============================] - 12s 4ms/step - loss: 0.6868\n",
      "Epoch 19/20\n",
      "3008/3008 [==============================] - 12s 4ms/step - loss: 0.6849\n",
      "Epoch 20/20\n",
      "3008/3008 [==============================] - 12s 4ms/step - loss: 0.6810\n",
      "332/332 [==============================] - 1s 2ms/step\n",
      "Pretraining GMF...\n",
      "Epoch 1/5\n",
      "3008/3008 [==============================] - 10s 3ms/step - loss: 1.1933\n",
      "Epoch 2/5\n",
      "3008/3008 [==============================] - 10s 3ms/step - loss: 1.0912\n",
      "Epoch 3/5\n",
      "3008/3008 [==============================] - 10s 3ms/step - loss: 1.0910\n",
      "Epoch 4/5\n",
      "3008/3008 [==============================] - 10s 3ms/step - loss: 1.0910\n",
      "Epoch 5/5\n",
      "3008/3008 [==============================] - 9s 3ms/step - loss: 1.0907\n",
      "Pretraining MLP...\n",
      "Epoch 1/20\n",
      "3008/3008 [==============================] - 11s 3ms/step - loss: 1.0112\n",
      "Epoch 2/20\n",
      "3008/3008 [==============================] - 9s 3ms/step - loss: 0.9011\n",
      "Epoch 3/20\n",
      "3008/3008 [==============================] - 11s 4ms/step - loss: 0.8900\n",
      "Epoch 4/20\n",
      "3008/3008 [==============================] - 10s 3ms/step - loss: 0.8855\n",
      "Epoch 5/20\n",
      "3008/3008 [==============================] - 8s 3ms/step - loss: 0.8818\n",
      "Epoch 6/20\n",
      "3008/3008 [==============================] - 10s 3ms/step - loss: 0.8771\n",
      "Epoch 7/20\n",
      "3008/3008 [==============================] - 10s 3ms/step - loss: 0.8735\n",
      "Epoch 8/20\n",
      "3008/3008 [==============================] - 8s 3ms/step - loss: 0.8676\n",
      "Epoch 9/20\n",
      "3008/3008 [==============================] - 10s 3ms/step - loss: 0.8611\n",
      "Epoch 10/20\n",
      "3008/3008 [==============================] - 12s 4ms/step - loss: 0.8533\n",
      "Epoch 11/20\n",
      "3008/3008 [==============================] - 8s 3ms/step - loss: 0.8444\n",
      "Epoch 12/20\n",
      "3008/3008 [==============================] - 12s 4ms/step - loss: 0.8344\n",
      "Epoch 13/20\n",
      "3008/3008 [==============================] - 10s 3ms/step - loss: 0.8244\n",
      "Epoch 14/20\n",
      "3008/3008 [==============================] - 9s 3ms/step - loss: 0.8135\n",
      "Epoch 15/20\n",
      "3008/3008 [==============================] - 10s 3ms/step - loss: 0.8013\n",
      "Epoch 16/20\n",
      "3008/3008 [==============================] - 10s 3ms/step - loss: 0.7911\n",
      "Epoch 17/20\n",
      "3008/3008 [==============================] - 9s 3ms/step - loss: 0.7810\n",
      "Epoch 18/20\n",
      "3008/3008 [==============================] - 9s 3ms/step - loss: 0.7730\n",
      "Epoch 19/20\n",
      "3008/3008 [==============================] - 10s 3ms/step - loss: 0.7635\n",
      "Epoch 20/20\n",
      "3008/3008 [==============================] - 8s 3ms/step - loss: 0.7563\n",
      "Training NCF...\n",
      "Epoch 1/20\n",
      "3008/3008 [==============================] - 12s 4ms/step - loss: 0.9030\n",
      "Epoch 2/20\n",
      "3008/3008 [==============================] - 12s 4ms/step - loss: 0.7574\n",
      "Epoch 3/20\n",
      "3008/3008 [==============================] - 11s 4ms/step - loss: 0.7465\n",
      "Epoch 4/20\n",
      "3008/3008 [==============================] - 11s 4ms/step - loss: 0.7429\n",
      "Epoch 5/20\n",
      "3008/3008 [==============================] - 10s 3ms/step - loss: 0.7376\n",
      "Epoch 6/20\n",
      "3008/3008 [==============================] - 14s 5ms/step - loss: 0.7337\n",
      "Epoch 7/20\n",
      "3008/3008 [==============================] - 11s 4ms/step - loss: 0.7316\n",
      "Epoch 8/20\n",
      "3008/3008 [==============================] - 15s 5ms/step - loss: 0.7286\n",
      "Epoch 9/20\n",
      "3008/3008 [==============================] - 12s 4ms/step - loss: 0.7257\n",
      "Epoch 10/20\n",
      "3008/3008 [==============================] - 11s 4ms/step - loss: 0.7226\n",
      "Epoch 11/20\n",
      "3008/3008 [==============================] - 12s 4ms/step - loss: 0.7209\n",
      "Epoch 12/20\n",
      "3008/3008 [==============================] - 12s 4ms/step - loss: 0.7170\n",
      "Epoch 13/20\n",
      "3008/3008 [==============================] - 12s 4ms/step - loss: 0.7157\n",
      "Epoch 14/20\n",
      "3008/3008 [==============================] - 12s 4ms/step - loss: 0.7140\n",
      "Epoch 15/20\n",
      "3008/3008 [==============================] - 11s 4ms/step - loss: 0.7108\n",
      "Epoch 16/20\n",
      "3008/3008 [==============================] - 11s 4ms/step - loss: 0.7101\n",
      "Epoch 17/20\n",
      "3008/3008 [==============================] - 12s 4ms/step - loss: 0.7071\n",
      "Epoch 18/20\n",
      "3008/3008 [==============================] - 12s 4ms/step - loss: 0.7048\n",
      "Epoch 19/20\n",
      "3008/3008 [==============================] - 12s 4ms/step - loss: 0.7025\n",
      "Epoch 20/20\n",
      "3008/3008 [==============================] - 11s 4ms/step - loss: 0.6996\n",
      "330/330 [==============================] - 1s 1ms/step\n",
      "Pretraining GMF...\n",
      "Epoch 1/5\n",
      "3008/3008 [==============================] - 9s 3ms/step - loss: 1.1861\n",
      "Epoch 2/5\n",
      "3008/3008 [==============================] - 9s 3ms/step - loss: 1.0860\n",
      "Epoch 3/5\n",
      "3008/3008 [==============================] - 9s 3ms/step - loss: 1.0859\n",
      "Epoch 4/5\n",
      "3008/3008 [==============================] - 7s 2ms/step - loss: 1.0860\n",
      "Epoch 5/5\n",
      "3008/3008 [==============================] - 10s 3ms/step - loss: 1.0858\n",
      "Pretraining MLP...\n",
      "Epoch 1/20\n",
      "3008/3008 [==============================] - 10s 3ms/step - loss: 1.0248\n",
      "Epoch 2/20\n",
      "3008/3008 [==============================] - 8s 3ms/step - loss: 0.9000\n",
      "Epoch 3/20\n",
      "3008/3008 [==============================] - 10s 3ms/step - loss: 0.8867\n",
      "Epoch 4/20\n",
      "3008/3008 [==============================] - 10s 3ms/step - loss: 0.8827\n",
      "Epoch 5/20\n",
      "3008/3008 [==============================] - 8s 3ms/step - loss: 0.8797\n",
      "Epoch 6/20\n",
      "3008/3008 [==============================] - 10s 3ms/step - loss: 0.8763\n",
      "Epoch 7/20\n",
      "3008/3008 [==============================] - 10s 3ms/step - loss: 0.8724\n",
      "Epoch 8/20\n",
      "3008/3008 [==============================] - 11s 4ms/step - loss: 0.8685\n",
      "Epoch 9/20\n",
      "3008/3008 [==============================] - 13s 4ms/step - loss: 0.8631\n",
      "Epoch 10/20\n",
      "3008/3008 [==============================] - 9s 3ms/step - loss: 0.8566\n",
      "Epoch 11/20\n",
      "3008/3008 [==============================] - 10s 3ms/step - loss: 0.8493\n",
      "Epoch 12/20\n",
      "3008/3008 [==============================] - 10s 3ms/step - loss: 0.8409\n",
      "Epoch 13/20\n",
      "3008/3008 [==============================] - 9s 3ms/step - loss: 0.8303\n",
      "Epoch 14/20\n",
      "3008/3008 [==============================] - 9s 3ms/step - loss: 0.8199\n",
      "Epoch 15/20\n",
      "3008/3008 [==============================] - 10s 3ms/step - loss: 0.8085\n",
      "Epoch 16/20\n",
      "3008/3008 [==============================] - 8s 3ms/step - loss: 0.7970\n",
      "Epoch 17/20\n",
      "3008/3008 [==============================] - 10s 3ms/step - loss: 0.7858\n",
      "Epoch 18/20\n",
      "3008/3008 [==============================] - 10s 3ms/step - loss: 0.7752\n",
      "Epoch 19/20\n",
      "3008/3008 [==============================] - 8s 3ms/step - loss: 0.7653\n",
      "Epoch 20/20\n",
      "3008/3008 [==============================] - 10s 3ms/step - loss: 0.7557\n",
      "Training NCF...\n",
      "Epoch 1/20\n",
      "3008/3008 [==============================] - 13s 4ms/step - loss: 0.9187\n",
      "Epoch 2/20\n",
      "3008/3008 [==============================] - 12s 4ms/step - loss: 0.7595\n",
      "Epoch 3/20\n",
      "3008/3008 [==============================] - 11s 4ms/step - loss: 0.7468\n",
      "Epoch 4/20\n",
      "3008/3008 [==============================] - 13s 4ms/step - loss: 0.7414\n",
      "Epoch 5/20\n",
      "3008/3008 [==============================] - 13s 4ms/step - loss: 0.7355\n",
      "Epoch 6/20\n",
      "3008/3008 [==============================] - 12s 4ms/step - loss: 0.7304\n",
      "Epoch 7/20\n",
      "3008/3008 [==============================] - 12s 4ms/step - loss: 0.7273\n",
      "Epoch 8/20\n",
      "3008/3008 [==============================] - 13s 4ms/step - loss: 0.7230\n",
      "Epoch 9/20\n",
      "3008/3008 [==============================] - 11s 4ms/step - loss: 0.7197\n",
      "Epoch 10/20\n",
      "3008/3008 [==============================] - 11s 4ms/step - loss: 0.7169\n",
      "Epoch 11/20\n",
      "3008/3008 [==============================] - 12s 4ms/step - loss: 0.7135\n",
      "Epoch 12/20\n",
      "3008/3008 [==============================] - 12s 4ms/step - loss: 0.7113\n",
      "Epoch 13/20\n",
      "3008/3008 [==============================] - 12s 4ms/step - loss: 0.7086\n",
      "Epoch 14/20\n",
      "3008/3008 [==============================] - 12s 4ms/step - loss: 0.7064\n",
      "Epoch 15/20\n",
      "3008/3008 [==============================] - 10s 3ms/step - loss: 0.7034\n",
      "Epoch 16/20\n",
      "3008/3008 [==============================] - 12s 4ms/step - loss: 0.7015\n",
      "Epoch 17/20\n",
      "3008/3008 [==============================] - 12s 4ms/step - loss: 0.6985\n",
      "Epoch 18/20\n",
      "3008/3008 [==============================] - 15s 5ms/step - loss: 0.6965\n",
      "Epoch 19/20\n",
      "3008/3008 [==============================] - 12s 4ms/step - loss: 0.6937\n",
      "Epoch 20/20\n",
      "3008/3008 [==============================] - 14s 5ms/step - loss: 0.6913\n",
      "330/330 [==============================] - 1s 2ms/step\n",
      "Pretraining GMF...\n",
      "Epoch 1/5\n",
      "3008/3008 [==============================] - 9s 3ms/step - loss: 1.1834\n",
      "Epoch 2/5\n",
      "3008/3008 [==============================] - 8s 3ms/step - loss: 1.0838\n",
      "Epoch 3/5\n",
      "3008/3008 [==============================] - 9s 3ms/step - loss: 1.0835\n",
      "Epoch 4/5\n",
      "3008/3008 [==============================] - 7s 2ms/step - loss: 1.0839\n",
      "Epoch 5/5\n",
      "3008/3008 [==============================] - 9s 3ms/step - loss: 1.0837\n",
      "Pretraining MLP...\n",
      "Epoch 1/20\n",
      "3008/3008 [==============================] - 10s 3ms/step - loss: 1.0678\n",
      "Epoch 2/20\n",
      "3008/3008 [==============================] - 8s 3ms/step - loss: 0.9016\n",
      "Epoch 3/20\n",
      "3008/3008 [==============================] - 10s 3ms/step - loss: 0.8856\n",
      "Epoch 4/20\n",
      "3008/3008 [==============================] - 10s 3ms/step - loss: 0.8806\n",
      "Epoch 5/20\n",
      "3008/3008 [==============================] - 8s 3ms/step - loss: 0.8761\n",
      "Epoch 6/20\n",
      "3008/3008 [==============================] - 10s 3ms/step - loss: 0.8724\n",
      "Epoch 7/20\n",
      "3008/3008 [==============================] - 9s 3ms/step - loss: 0.8683\n",
      "Epoch 8/20\n",
      "3008/3008 [==============================] - 10s 3ms/step - loss: 0.8644\n",
      "Epoch 9/20\n",
      "3008/3008 [==============================] - 10s 3ms/step - loss: 0.8589\n",
      "Epoch 10/20\n",
      "3008/3008 [==============================] - 8s 3ms/step - loss: 0.8525\n",
      "Epoch 11/20\n",
      "3008/3008 [==============================] - 11s 4ms/step - loss: 0.8444\n",
      "Epoch 12/20\n",
      "3008/3008 [==============================] - 10s 3ms/step - loss: 0.8346\n",
      "Epoch 13/20\n",
      "3008/3008 [==============================] - 10s 3ms/step - loss: 0.8244\n",
      "Epoch 14/20\n",
      "3008/3008 [==============================] - 10s 3ms/step - loss: 0.8132\n",
      "Epoch 15/20\n",
      "3008/3008 [==============================] - 10s 3ms/step - loss: 0.8022\n",
      "Epoch 16/20\n",
      "3008/3008 [==============================] - 8s 3ms/step - loss: 0.7912\n",
      "Epoch 17/20\n",
      "3008/3008 [==============================] - 10s 3ms/step - loss: 0.7795\n",
      "Epoch 18/20\n",
      "3008/3008 [==============================] - 10s 3ms/step - loss: 0.7698\n",
      "Epoch 19/20\n",
      "3008/3008 [==============================] - 8s 3ms/step - loss: 0.7588\n",
      "Epoch 20/20\n",
      "3008/3008 [==============================] - 10s 3ms/step - loss: 0.7501\n",
      "Training NCF...\n",
      "Epoch 1/20\n",
      "3008/3008 [==============================] - 13s 4ms/step - loss: 0.8945\n",
      "Epoch 2/20\n",
      "3008/3008 [==============================] - 12s 4ms/step - loss: 0.7581\n",
      "Epoch 3/20\n",
      "3008/3008 [==============================] - 11s 4ms/step - loss: 0.7462\n",
      "Epoch 4/20\n",
      "3008/3008 [==============================] - 11s 4ms/step - loss: 0.7394\n",
      "Epoch 5/20\n",
      "3008/3008 [==============================] - 12s 4ms/step - loss: 0.7330\n",
      "Epoch 6/20\n",
      "3008/3008 [==============================] - 13s 4ms/step - loss: 0.7315\n",
      "Epoch 7/20\n",
      "3008/3008 [==============================] - 13s 4ms/step - loss: 0.7227\n",
      "Epoch 8/20\n",
      "3008/3008 [==============================] - 12s 4ms/step - loss: 0.7194\n",
      "Epoch 9/20\n",
      "3008/3008 [==============================] - 14s 4ms/step - loss: 0.7146\n",
      "Epoch 10/20\n",
      "3008/3008 [==============================] - 12s 4ms/step - loss: 0.7105\n",
      "Epoch 11/20\n",
      "3008/3008 [==============================] - 12s 4ms/step - loss: 0.7069\n",
      "Epoch 12/20\n",
      "3008/3008 [==============================] - 13s 4ms/step - loss: 0.7032\n",
      "Epoch 13/20\n",
      "3008/3008 [==============================] - 13s 4ms/step - loss: 0.6988\n",
      "Epoch 14/20\n",
      "3008/3008 [==============================] - 13s 4ms/step - loss: 0.6968\n",
      "Epoch 15/20\n",
      "3008/3008 [==============================] - 12s 4ms/step - loss: 0.6922\n",
      "Epoch 16/20\n",
      "3008/3008 [==============================] - 11s 4ms/step - loss: 0.6891\n",
      "Epoch 17/20\n",
      "3008/3008 [==============================] - 13s 4ms/step - loss: 0.6849\n",
      "Epoch 18/20\n",
      "3008/3008 [==============================] - 13s 4ms/step - loss: 0.6824\n",
      "Epoch 19/20\n",
      "3008/3008 [==============================] - 13s 4ms/step - loss: 0.6798\n",
      "Epoch 20/20\n",
      "3008/3008 [==============================] - 13s 4ms/step - loss: 0.6749\n",
      "331/331 [==============================] - 1s 1ms/step\n",
      "Evaluating RMSE of algorithm NCF on 5 split(s).\n",
      "\n",
      "                  Fold 1  Fold 2  Fold 3  Fold 4  Fold 5  Mean    Std     \n",
      "RMSE (testset)    1.0080  1.0393  1.0101  1.0377  1.0390  1.0268  0.0145  \n",
      "Fit time          530.67  495.40  541.72  519.95  496.84  516.91  18.33   \n",
      "Test time         1.48    0.92    0.84    0.89    0.83    0.99    0.25    \n"
     ]
    }
   ],
   "source": [
    "from models import NCF\n",
    "\n",
    "hyperparameters = {\n",
    "    'MLP_layers': [20, 10],\n",
    "    'learning_rate': 0.01\n",
    "}\n",
    "\n",
    "eval_cv = 5\n",
    "\n",
    "# use the NCF algorithm\n",
    "algo_NCF = NCF(**hyperparameters)\n",
    "\n",
    "results = cross_validate(algo_NCF, data, measures=['rmse'], cv=eval_cv,verbose=True)\n",
    "\n",
    "\n",
    "NCF_result = results['test_rmse'].mean()\n",
    "NCF_result_1 = results['test_rmse']"
   ]
  },
  {
   "cell_type": "markdown",
   "metadata": {
    "id": "dZ38YtBZQc20"
   },
   "source": [
    "Plot to the Graph"
   ]
  },
  {
   "cell_type": "code",
   "execution_count": 21,
   "metadata": {
    "colab": {
     "base_uri": "https://localhost:8080/",
     "height": 174
    },
    "id": "8ELBhGdWQgIe",
    "outputId": "cb0c78d3-bb93-4a6b-fd2d-1fbc8e79a015"
   },
   "outputs": [
    {
     "data": {
      "application/vnd.google.colaboratory.intrinsic+json": {
       "summary": "{\n  \"name\": \"result_df_Q3\",\n  \"rows\": 4,\n  \"fields\": [\n    {\n      \"column\": \"method\",\n      \"properties\": {\n        \"dtype\": \"string\",\n        \"num_unique_values\": 4,\n        \"samples\": [\n          \"userb_kNN\",\n          \"NCF\",\n          \"SVD\"\n        ],\n        \"semantic_type\": \"\",\n        \"description\": \"\"\n      }\n    },\n    {\n      \"column\": \"rmse\",\n      \"properties\": {\n        \"dtype\": \"number\",\n        \"std\": 0.03452805002634486,\n        \"min\": 0.961957361944582,\n        \"max\": 1.0327698766102258,\n        \"num_unique_values\": 3,\n        \"samples\": [\n          0.961957361944582,\n          1.0327698766102258,\n          1.0268147740396087\n        ],\n        \"semantic_type\": \"\",\n        \"description\": \"\"\n      }\n    }\n  ]\n}",
       "type": "dataframe",
       "variable_name": "result_df_Q3"
      },
      "text/html": [
       "\n",
       "  <div id=\"df-7b945eb5-0df4-48eb-9275-ab3402ba8df1\" class=\"colab-df-container\">\n",
       "    <div>\n",
       "<style scoped>\n",
       "    .dataframe tbody tr th:only-of-type {\n",
       "        vertical-align: middle;\n",
       "    }\n",
       "\n",
       "    .dataframe tbody tr th {\n",
       "        vertical-align: top;\n",
       "    }\n",
       "\n",
       "    .dataframe thead th {\n",
       "        text-align: right;\n",
       "    }\n",
       "</style>\n",
       "<table border=\"1\" class=\"dataframe\">\n",
       "  <thead>\n",
       "    <tr style=\"text-align: right;\">\n",
       "      <th></th>\n",
       "      <th>method</th>\n",
       "      <th>rmse</th>\n",
       "    </tr>\n",
       "  </thead>\n",
       "  <tbody>\n",
       "    <tr>\n",
       "      <th>0</th>\n",
       "      <td>SVD</td>\n",
       "      <td>0.961957</td>\n",
       "    </tr>\n",
       "    <tr>\n",
       "      <th>1</th>\n",
       "      <td>userb_kNN</td>\n",
       "      <td>1.032770</td>\n",
       "    </tr>\n",
       "    <tr>\n",
       "      <th>2</th>\n",
       "      <td>itemb_kNN</td>\n",
       "      <td>1.032770</td>\n",
       "    </tr>\n",
       "    <tr>\n",
       "      <th>3</th>\n",
       "      <td>NCF</td>\n",
       "      <td>1.026815</td>\n",
       "    </tr>\n",
       "  </tbody>\n",
       "</table>\n",
       "</div>\n",
       "    <div class=\"colab-df-buttons\">\n",
       "\n",
       "  <div class=\"colab-df-container\">\n",
       "    <button class=\"colab-df-convert\" onclick=\"convertToInteractive('df-7b945eb5-0df4-48eb-9275-ab3402ba8df1')\"\n",
       "            title=\"Convert this dataframe to an interactive table.\"\n",
       "            style=\"display:none;\">\n",
       "\n",
       "  <svg xmlns=\"http://www.w3.org/2000/svg\" height=\"24px\" viewBox=\"0 -960 960 960\">\n",
       "    <path d=\"M120-120v-720h720v720H120Zm60-500h600v-160H180v160Zm220 220h160v-160H400v160Zm0 220h160v-160H400v160ZM180-400h160v-160H180v160Zm440 0h160v-160H620v160ZM180-180h160v-160H180v160Zm440 0h160v-160H620v160Z\"/>\n",
       "  </svg>\n",
       "    </button>\n",
       "\n",
       "  <style>\n",
       "    .colab-df-container {\n",
       "      display:flex;\n",
       "      gap: 12px;\n",
       "    }\n",
       "\n",
       "    .colab-df-convert {\n",
       "      background-color: #E8F0FE;\n",
       "      border: none;\n",
       "      border-radius: 50%;\n",
       "      cursor: pointer;\n",
       "      display: none;\n",
       "      fill: #1967D2;\n",
       "      height: 32px;\n",
       "      padding: 0 0 0 0;\n",
       "      width: 32px;\n",
       "    }\n",
       "\n",
       "    .colab-df-convert:hover {\n",
       "      background-color: #E2EBFA;\n",
       "      box-shadow: 0px 1px 2px rgba(60, 64, 67, 0.3), 0px 1px 3px 1px rgba(60, 64, 67, 0.15);\n",
       "      fill: #174EA6;\n",
       "    }\n",
       "\n",
       "    .colab-df-buttons div {\n",
       "      margin-bottom: 4px;\n",
       "    }\n",
       "\n",
       "    [theme=dark] .colab-df-convert {\n",
       "      background-color: #3B4455;\n",
       "      fill: #D2E3FC;\n",
       "    }\n",
       "\n",
       "    [theme=dark] .colab-df-convert:hover {\n",
       "      background-color: #434B5C;\n",
       "      box-shadow: 0px 1px 3px 1px rgba(0, 0, 0, 0.15);\n",
       "      filter: drop-shadow(0px 1px 2px rgba(0, 0, 0, 0.3));\n",
       "      fill: #FFFFFF;\n",
       "    }\n",
       "  </style>\n",
       "\n",
       "    <script>\n",
       "      const buttonEl =\n",
       "        document.querySelector('#df-7b945eb5-0df4-48eb-9275-ab3402ba8df1 button.colab-df-convert');\n",
       "      buttonEl.style.display =\n",
       "        google.colab.kernel.accessAllowed ? 'block' : 'none';\n",
       "\n",
       "      async function convertToInteractive(key) {\n",
       "        const element = document.querySelector('#df-7b945eb5-0df4-48eb-9275-ab3402ba8df1');\n",
       "        const dataTable =\n",
       "          await google.colab.kernel.invokeFunction('convertToInteractive',\n",
       "                                                    [key], {});\n",
       "        if (!dataTable) return;\n",
       "\n",
       "        const docLinkHtml = 'Like what you see? Visit the ' +\n",
       "          '<a target=\"_blank\" href=https://colab.research.google.com/notebooks/data_table.ipynb>data table notebook</a>'\n",
       "          + ' to learn more about interactive tables.';\n",
       "        element.innerHTML = '';\n",
       "        dataTable['output_type'] = 'display_data';\n",
       "        await google.colab.output.renderOutput(dataTable, element);\n",
       "        const docLink = document.createElement('div');\n",
       "        docLink.innerHTML = docLinkHtml;\n",
       "        element.appendChild(docLink);\n",
       "      }\n",
       "    </script>\n",
       "  </div>\n",
       "\n",
       "\n",
       "<div id=\"df-96f1aaf7-fe51-4315-aae8-ae5038442fde\">\n",
       "  <button class=\"colab-df-quickchart\" onclick=\"quickchart('df-96f1aaf7-fe51-4315-aae8-ae5038442fde')\"\n",
       "            title=\"Suggest charts\"\n",
       "            style=\"display:none;\">\n",
       "\n",
       "<svg xmlns=\"http://www.w3.org/2000/svg\" height=\"24px\"viewBox=\"0 0 24 24\"\n",
       "     width=\"24px\">\n",
       "    <g>\n",
       "        <path d=\"M19 3H5c-1.1 0-2 .9-2 2v14c0 1.1.9 2 2 2h14c1.1 0 2-.9 2-2V5c0-1.1-.9-2-2-2zM9 17H7v-7h2v7zm4 0h-2V7h2v10zm4 0h-2v-4h2v4z\"/>\n",
       "    </g>\n",
       "</svg>\n",
       "  </button>\n",
       "\n",
       "<style>\n",
       "  .colab-df-quickchart {\n",
       "      --bg-color: #E8F0FE;\n",
       "      --fill-color: #1967D2;\n",
       "      --hover-bg-color: #E2EBFA;\n",
       "      --hover-fill-color: #174EA6;\n",
       "      --disabled-fill-color: #AAA;\n",
       "      --disabled-bg-color: #DDD;\n",
       "  }\n",
       "\n",
       "  [theme=dark] .colab-df-quickchart {\n",
       "      --bg-color: #3B4455;\n",
       "      --fill-color: #D2E3FC;\n",
       "      --hover-bg-color: #434B5C;\n",
       "      --hover-fill-color: #FFFFFF;\n",
       "      --disabled-bg-color: #3B4455;\n",
       "      --disabled-fill-color: #666;\n",
       "  }\n",
       "\n",
       "  .colab-df-quickchart {\n",
       "    background-color: var(--bg-color);\n",
       "    border: none;\n",
       "    border-radius: 50%;\n",
       "    cursor: pointer;\n",
       "    display: none;\n",
       "    fill: var(--fill-color);\n",
       "    height: 32px;\n",
       "    padding: 0;\n",
       "    width: 32px;\n",
       "  }\n",
       "\n",
       "  .colab-df-quickchart:hover {\n",
       "    background-color: var(--hover-bg-color);\n",
       "    box-shadow: 0 1px 2px rgba(60, 64, 67, 0.3), 0 1px 3px 1px rgba(60, 64, 67, 0.15);\n",
       "    fill: var(--button-hover-fill-color);\n",
       "  }\n",
       "\n",
       "  .colab-df-quickchart-complete:disabled,\n",
       "  .colab-df-quickchart-complete:disabled:hover {\n",
       "    background-color: var(--disabled-bg-color);\n",
       "    fill: var(--disabled-fill-color);\n",
       "    box-shadow: none;\n",
       "  }\n",
       "\n",
       "  .colab-df-spinner {\n",
       "    border: 2px solid var(--fill-color);\n",
       "    border-color: transparent;\n",
       "    border-bottom-color: var(--fill-color);\n",
       "    animation:\n",
       "      spin 1s steps(1) infinite;\n",
       "  }\n",
       "\n",
       "  @keyframes spin {\n",
       "    0% {\n",
       "      border-color: transparent;\n",
       "      border-bottom-color: var(--fill-color);\n",
       "      border-left-color: var(--fill-color);\n",
       "    }\n",
       "    20% {\n",
       "      border-color: transparent;\n",
       "      border-left-color: var(--fill-color);\n",
       "      border-top-color: var(--fill-color);\n",
       "    }\n",
       "    30% {\n",
       "      border-color: transparent;\n",
       "      border-left-color: var(--fill-color);\n",
       "      border-top-color: var(--fill-color);\n",
       "      border-right-color: var(--fill-color);\n",
       "    }\n",
       "    40% {\n",
       "      border-color: transparent;\n",
       "      border-right-color: var(--fill-color);\n",
       "      border-top-color: var(--fill-color);\n",
       "    }\n",
       "    60% {\n",
       "      border-color: transparent;\n",
       "      border-right-color: var(--fill-color);\n",
       "    }\n",
       "    80% {\n",
       "      border-color: transparent;\n",
       "      border-right-color: var(--fill-color);\n",
       "      border-bottom-color: var(--fill-color);\n",
       "    }\n",
       "    90% {\n",
       "      border-color: transparent;\n",
       "      border-bottom-color: var(--fill-color);\n",
       "    }\n",
       "  }\n",
       "</style>\n",
       "\n",
       "  <script>\n",
       "    async function quickchart(key) {\n",
       "      const quickchartButtonEl =\n",
       "        document.querySelector('#' + key + ' button');\n",
       "      quickchartButtonEl.disabled = true;  // To prevent multiple clicks.\n",
       "      quickchartButtonEl.classList.add('colab-df-spinner');\n",
       "      try {\n",
       "        const charts = await google.colab.kernel.invokeFunction(\n",
       "            'suggestCharts', [key], {});\n",
       "      } catch (error) {\n",
       "        console.error('Error during call to suggestCharts:', error);\n",
       "      }\n",
       "      quickchartButtonEl.classList.remove('colab-df-spinner');\n",
       "      quickchartButtonEl.classList.add('colab-df-quickchart-complete');\n",
       "    }\n",
       "    (() => {\n",
       "      let quickchartButtonEl =\n",
       "        document.querySelector('#df-96f1aaf7-fe51-4315-aae8-ae5038442fde button');\n",
       "      quickchartButtonEl.style.display =\n",
       "        google.colab.kernel.accessAllowed ? 'block' : 'none';\n",
       "    })();\n",
       "  </script>\n",
       "</div>\n",
       "    </div>\n",
       "  </div>\n"
      ],
      "text/plain": [
       "      method      rmse\n",
       "0        SVD  0.961957\n",
       "1  userb_kNN  1.032770\n",
       "2  itemb_kNN  1.032770\n",
       "3        NCF  1.026815"
      ]
     },
     "execution_count": 21,
     "metadata": {},
     "output_type": "execute_result"
    }
   ],
   "source": [
    "import pandas as pd\n",
    "# table\n",
    "result_lict_Q3 = [\n",
    "    {'method': 'SVD', 'rmse': SVD_result},\n",
    "    {'method': 'userb_kNN', 'rmse': user_based_r_1},\n",
    "    {'method': 'itemb_kNN', 'rmse': item_based_r_1},\n",
    "    {'method': 'NCF', 'rmse': NCF_result},\n",
    "]\n",
    "\n",
    "result_df_Q3 = pd.DataFrame.from_dict(result_lict_Q3)\n",
    "\n",
    "result_df_Q3"
   ]
  },
  {
   "cell_type": "code",
   "execution_count": 22,
   "metadata": {
    "colab": {
     "base_uri": "https://localhost:8080/",
     "height": 473
    },
    "id": "IL6MmbhHQzn-",
    "outputId": "215c01b8-ff28-4562-8567-cd62ab746f7b"
   },
   "outputs": [
    {
     "data": {
      "text/plain": [
       "(0.6, 1.2)"
      ]
     },
     "execution_count": 22,
     "metadata": {},
     "output_type": "execute_result"
    },
    {
     "data": {
      "image/png": "[encoded data removed]",
      "text/plain": [
       "<Figure size 640x480 with 1 Axes>"
      ]
     },
     "metadata": {},
     "output_type": "display_data"
    }
   ],
   "source": [
    "# figure\n",
    "import seaborn as sns\n",
    "import matplotlib.pyplot as plt\n",
    "%matplotlib inline\n",
    "fig, ax = plt.subplots()\n",
    "sns.barplot(x=\"method\", y=\"rmse\", data=result_df_Q3)\n",
    "ax.set_ylim(0.6, 1.2)"
   ]
  },
  {
   "cell_type": "markdown",
   "metadata": {
    "id": "Gcp5nrwjQtU4"
   },
   "source": [
    "ttest for best result"
   ]
  },
  {
   "cell_type": "code",
   "execution_count": 25,
   "metadata": {
    "colab": {
     "base_uri": "https://localhost:8080/"
    },
    "id": "c7UKf1DnQs-q",
    "outputId": "114130ae-12b0-4969-f1f3-e81b3174d79d"
   },
   "outputs": [
    {
     "data": {
      "text/plain": [
       "TtestResult(statistic=7.986379623707242, pvalue=4.420710446863538e-05, df=8.0)"
      ]
     },
     "execution_count": 25,
     "metadata": {},
     "output_type": "execute_result"
    }
   ],
   "source": [
    "from scipy.stats import ttest_ind\n",
    "\n",
    "ttest_ind(NCF_result_1, SVD_result_1) # need modify to best two"
   ]
  },
  {
   "cell_type": "markdown",
   "metadata": {
    "id": "QxuheUVa5pDL"
   },
   "source": [
    "## content_based_recommendation"
   ]
  },
  {
   "cell_type": "markdown",
   "metadata": {
    "id": "_PzlR36n673s"
   },
   "source": [
    "1.Loading data"
   ]
  },
  {
   "cell_type": "code",
   "execution_count": null,
   "metadata": {
    "id": "vWZTYCwU535Q"
   },
   "outputs": [],
   "source": [
    "bookings_data = '/content/drive/MyDrive/data_stored/books_metadata_large.csv'\n",
    "ratings_data = '/content/drive/MyDrive/data_stored/interactions_small_modify.csv'\n",
    "bookings_df = pd.read_csv(bookings_data)\n",
    "ratings_df = data_rate"
   ]
  },
  {
   "cell_type": "code",
   "execution_count": null,
   "metadata": {
    "colab": {
     "base_uri": "https://localhost:8080/",
     "height": 423
    },
    "id": "bj5f3nyE7aYG",
    "outputId": "8784a1c7-8950-4374-ca56-595db0889dca"
   },
   "outputs": [
    {
     "data": {
      "application/vnd.google.colaboratory.intrinsic+json": {
       "summary": "{\n  \"name\": \"data_rate\",\n  \"rows\": 9683,\n  \"fields\": [\n    {\n      \"column\": \"user_id\",\n      \"properties\": {\n        \"dtype\": \"number\",\n        \"std\": 5795,\n        \"min\": 1,\n        \"max\": 19997,\n        \"num_unique_values\": 9683,\n        \"samples\": [\n          18224,\n          4187,\n          9448\n        ],\n        \"semantic_type\": \"\",\n        \"description\": \"\"\n      }\n    },\n    {\n      \"column\": \"book_id\",\n      \"properties\": {\n        \"dtype\": \"number\",\n        \"std\": 7631218,\n        \"min\": 234,\n        \"max\": 36365232,\n        \"num_unique_values\": 3855,\n        \"samples\": [\n          10354773,\n          695865,\n          99404\n        ],\n        \"semantic_type\": \"\",\n        \"description\": \"\"\n      }\n    },\n    {\n      \"column\": \"is_read\",\n      \"properties\": {\n        \"dtype\": \"boolean\",\n        \"num_unique_values\": 1,\n        \"samples\": [\n          true\n        ],\n        \"semantic_type\": \"\",\n        \"description\": \"\"\n      }\n    },\n    {\n      \"column\": \"rating\",\n      \"properties\": {\n        \"dtype\": \"number\",\n        \"std\": 0,\n        \"min\": 1,\n        \"max\": 5,\n        \"num_unique_values\": 5,\n        \"samples\": [\n          5\n        ],\n        \"semantic_type\": \"\",\n        \"description\": \"\"\n      }\n    }\n  ]\n}",
       "type": "dataframe",
       "variable_name": "data_rate"
      },
      "text/html": [
       "\n",
       "  <div id=\"df-958268ea-b6d3-4b36-a0e1-e4d9f5a7528d\" class=\"colab-df-container\">\n",
       "    <div>\n",
       "<style scoped>\n",
       "    .dataframe tbody tr th:only-of-type {\n",
       "        vertical-align: middle;\n",
       "    }\n",
       "\n",
       "    .dataframe tbody tr th {\n",
       "        vertical-align: top;\n",
       "    }\n",
       "\n",
       "    .dataframe thead th {\n",
       "        text-align: right;\n",
       "    }\n",
       "</style>\n",
       "<table border=\"1\" class=\"dataframe\">\n",
       "  <thead>\n",
       "    <tr style=\"text-align: right;\">\n",
       "      <th></th>\n",
       "      <th>user_id</th>\n",
       "      <th>book_id</th>\n",
       "      <th>is_read</th>\n",
       "      <th>rating</th>\n",
       "    </tr>\n",
       "  </thead>\n",
       "  <tbody>\n",
       "    <tr>\n",
       "      <th>0</th>\n",
       "      <td>1</td>\n",
       "      <td>1384</td>\n",
       "      <td>True</td>\n",
       "      <td>4</td>\n",
       "    </tr>\n",
       "    <tr>\n",
       "      <th>1</th>\n",
       "      <td>2</td>\n",
       "      <td>1376</td>\n",
       "      <td>True</td>\n",
       "      <td>4</td>\n",
       "    </tr>\n",
       "    <tr>\n",
       "      <th>2</th>\n",
       "      <td>3</td>\n",
       "      <td>30119</td>\n",
       "      <td>True</td>\n",
       "      <td>5</td>\n",
       "    </tr>\n",
       "    <tr>\n",
       "      <th>4</th>\n",
       "      <td>5</td>\n",
       "      <td>30119</td>\n",
       "      <td>True</td>\n",
       "      <td>3</td>\n",
       "    </tr>\n",
       "    <tr>\n",
       "      <th>5</th>\n",
       "      <td>6</td>\n",
       "      <td>240007</td>\n",
       "      <td>True</td>\n",
       "      <td>4</td>\n",
       "    </tr>\n",
       "    <tr>\n",
       "      <th>...</th>\n",
       "      <td>...</td>\n",
       "      <td>...</td>\n",
       "      <td>...</td>\n",
       "      <td>...</td>\n",
       "    </tr>\n",
       "    <tr>\n",
       "      <th>19978</th>\n",
       "      <td>19979</td>\n",
       "      <td>1519</td>\n",
       "      <td>True</td>\n",
       "      <td>4</td>\n",
       "    </tr>\n",
       "    <tr>\n",
       "      <th>19982</th>\n",
       "      <td>19983</td>\n",
       "      <td>19016323</td>\n",
       "      <td>True</td>\n",
       "      <td>2</td>\n",
       "    </tr>\n",
       "    <tr>\n",
       "      <th>19983</th>\n",
       "      <td>19984</td>\n",
       "      <td>1595454</td>\n",
       "      <td>True</td>\n",
       "      <td>5</td>\n",
       "    </tr>\n",
       "    <tr>\n",
       "      <th>19994</th>\n",
       "      <td>19995</td>\n",
       "      <td>23919</td>\n",
       "      <td>True</td>\n",
       "      <td>4</td>\n",
       "    </tr>\n",
       "    <tr>\n",
       "      <th>19996</th>\n",
       "      <td>19997</td>\n",
       "      <td>12914</td>\n",
       "      <td>True</td>\n",
       "      <td>5</td>\n",
       "    </tr>\n",
       "  </tbody>\n",
       "</table>\n",
       "<p>9683 rows × 4 columns</p>\n",
       "</div>\n",
       "    <div class=\"colab-df-buttons\">\n",
       "\n",
       "  <div class=\"colab-df-container\">\n",
       "    <button class=\"colab-df-convert\" onclick=\"convertToInteractive('df-958268ea-b6d3-4b36-a0e1-e4d9f5a7528d')\"\n",
       "            title=\"Convert this dataframe to an interactive table.\"\n",
       "            style=\"display:none;\">\n",
       "\n",
       "  <svg xmlns=\"http://www.w3.org/2000/svg\" height=\"24px\" viewBox=\"0 -960 960 960\">\n",
       "    <path d=\"M120-120v-720h720v720H120Zm60-500h600v-160H180v160Zm220 220h160v-160H400v160Zm0 220h160v-160H400v160ZM180-400h160v-160H180v160Zm440 0h160v-160H620v160ZM180-180h160v-160H180v160Zm440 0h160v-160H620v160Z\"/>\n",
       "  </svg>\n",
       "    </button>\n",
       "\n",
       "  <style>\n",
       "    .colab-df-container {\n",
       "      display:flex;\n",
       "      gap: 12px;\n",
       "    }\n",
       "\n",
       "    .colab-df-convert {\n",
       "      background-color: #E8F0FE;\n",
       "      border: none;\n",
       "      border-radius: 50%;\n",
       "      cursor: pointer;\n",
       "      display: none;\n",
       "      fill: #1967D2;\n",
       "      height: 32px;\n",
       "      padding: 0 0 0 0;\n",
       "      width: 32px;\n",
       "    }\n",
       "\n",
       "    .colab-df-convert:hover {\n",
       "      background-color: #E2EBFA;\n",
       "      box-shadow: 0px 1px 2px rgba(60, 64, 67, 0.3), 0px 1px 3px 1px rgba(60, 64, 67, 0.15);\n",
       "      fill: #174EA6;\n",
       "    }\n",
       "\n",
       "    .colab-df-buttons div {\n",
       "      margin-bottom: 4px;\n",
       "    }\n",
       "\n",
       "    [theme=dark] .colab-df-convert {\n",
       "      background-color: #3B4455;\n",
       "      fill: #D2E3FC;\n",
       "    }\n",
       "\n",
       "    [theme=dark] .colab-df-convert:hover {\n",
       "      background-color: #434B5C;\n",
       "      box-shadow: 0px 1px 3px 1px rgba(0, 0, 0, 0.15);\n",
       "      filter: drop-shadow(0px 1px 2px rgba(0, 0, 0, 0.3));\n",
       "      fill: #FFFFFF;\n",
       "    }\n",
       "  </style>\n",
       "\n",
       "    <script>\n",
       "      const buttonEl =\n",
       "        document.querySelector('#df-958268ea-b6d3-4b36-a0e1-e4d9f5a7528d button.colab-df-convert');\n",
       "      buttonEl.style.display =\n",
       "        google.colab.kernel.accessAllowed ? 'block' : 'none';\n",
       "\n",
       "      async function convertToInteractive(key) {\n",
       "        const element = document.querySelector('#df-958268ea-b6d3-4b36-a0e1-e4d9f5a7528d');\n",
       "        const dataTable =\n",
       "          await google.colab.kernel.invokeFunction('convertToInteractive',\n",
       "                                                    [key], {});\n",
       "        if (!dataTable) return;\n",
       "\n",
       "        const docLinkHtml = 'Like what you see? Visit the ' +\n",
       "          '<a target=\"_blank\" href=https://colab.research.google.com/notebooks/data_table.ipynb>data table notebook</a>'\n",
       "          + ' to learn more about interactive tables.';\n",
       "        element.innerHTML = '';\n",
       "        dataTable['output_type'] = 'display_data';\n",
       "        await google.colab.output.renderOutput(dataTable, element);\n",
       "        const docLink = document.createElement('div');\n",
       "        docLink.innerHTML = docLinkHtml;\n",
       "        element.appendChild(docLink);\n",
       "      }\n",
       "    </script>\n",
       "  </div>\n",
       "\n",
       "\n",
       "<div id=\"df-36ca1516-e906-4c5d-8d02-c24eda49f93b\">\n",
       "  <button class=\"colab-df-quickchart\" onclick=\"quickchart('df-36ca1516-e906-4c5d-8d02-c24eda49f93b')\"\n",
       "            title=\"Suggest charts\"\n",
       "            style=\"display:none;\">\n",
       "\n",
       "<svg xmlns=\"http://www.w3.org/2000/svg\" height=\"24px\"viewBox=\"0 0 24 24\"\n",
       "     width=\"24px\">\n",
       "    <g>\n",
       "        <path d=\"M19 3H5c-1.1 0-2 .9-2 2v14c0 1.1.9 2 2 2h14c1.1 0 2-.9 2-2V5c0-1.1-.9-2-2-2zM9 17H7v-7h2v7zm4 0h-2V7h2v10zm4 0h-2v-4h2v4z\"/>\n",
       "    </g>\n",
       "</svg>\n",
       "  </button>\n",
       "\n",
       "<style>\n",
       "  .colab-df-quickchart {\n",
       "      --bg-color: #E8F0FE;\n",
       "      --fill-color: #1967D2;\n",
       "      --hover-bg-color: #E2EBFA;\n",
       "      --hover-fill-color: #174EA6;\n",
       "      --disabled-fill-color: #AAA;\n",
       "      --disabled-bg-color: #DDD;\n",
       "  }\n",
       "\n",
       "  [theme=dark] .colab-df-quickchart {\n",
       "      --bg-color: #3B4455;\n",
       "      --fill-color: #D2E3FC;\n",
       "      --hover-bg-color: #434B5C;\n",
       "      --hover-fill-color: #FFFFFF;\n",
       "      --disabled-bg-color: #3B4455;\n",
       "      --disabled-fill-color: #666;\n",
       "  }\n",
       "\n",
       "  .colab-df-quickchart {\n",
       "    background-color: var(--bg-color);\n",
       "    border: none;\n",
       "    border-radius: 50%;\n",
       "    cursor: pointer;\n",
       "    display: none;\n",
       "    fill: var(--fill-color);\n",
       "    height: 32px;\n",
       "    padding: 0;\n",
       "    width: 32px;\n",
       "  }\n",
       "\n",
       "  .colab-df-quickchart:hover {\n",
       "    background-color: var(--hover-bg-color);\n",
       "    box-shadow: 0 1px 2px rgba(60, 64, 67, 0.3), 0 1px 3px 1px rgba(60, 64, 67, 0.15);\n",
       "    fill: var(--button-hover-fill-color);\n",
       "  }\n",
       "\n",
       "  .colab-df-quickchart-complete:disabled,\n",
       "  .colab-df-quickchart-complete:disabled:hover {\n",
       "    background-color: var(--disabled-bg-color);\n",
       "    fill: var(--disabled-fill-color);\n",
       "    box-shadow: none;\n",
       "  }\n",
       "\n",
       "  .colab-df-spinner {\n",
       "    border: 2px solid var(--fill-color);\n",
       "    border-color: transparent;\n",
       "    border-bottom-color: var(--fill-color);\n",
       "    animation:\n",
       "      spin 1s steps(1) infinite;\n",
       "  }\n",
       "\n",
       "  @keyframes spin {\n",
       "    0% {\n",
       "      border-color: transparent;\n",
       "      border-bottom-color: var(--fill-color);\n",
       "      border-left-color: var(--fill-color);\n",
       "    }\n",
       "    20% {\n",
       "      border-color: transparent;\n",
       "      border-left-color: var(--fill-color);\n",
       "      border-top-color: var(--fill-color);\n",
       "    }\n",
       "    30% {\n",
       "      border-color: transparent;\n",
       "      border-left-color: var(--fill-color);\n",
       "      border-top-color: var(--fill-color);\n",
       "      border-right-color: var(--fill-color);\n",
       "    }\n",
       "    40% {\n",
       "      border-color: transparent;\n",
       "      border-right-color: var(--fill-color);\n",
       "      border-top-color: var(--fill-color);\n",
       "    }\n",
       "    60% {\n",
       "      border-color: transparent;\n",
       "      border-right-color: var(--fill-color);\n",
       "    }\n",
       "    80% {\n",
       "      border-color: transparent;\n",
       "      border-right-color: var(--fill-color);\n",
       "      border-bottom-color: var(--fill-color);\n",
       "    }\n",
       "    90% {\n",
       "      border-color: transparent;\n",
       "      border-bottom-color: var(--fill-color);\n",
       "    }\n",
       "  }\n",
       "</style>\n",
       "\n",
       "  <script>\n",
       "    async function quickchart(key) {\n",
       "      const quickchartButtonEl =\n",
       "        document.querySelector('#' + key + ' button');\n",
       "      quickchartButtonEl.disabled = true;  // To prevent multiple clicks.\n",
       "      quickchartButtonEl.classList.add('colab-df-spinner');\n",
       "      try {\n",
       "        const charts = await google.colab.kernel.invokeFunction(\n",
       "            'suggestCharts', [key], {});\n",
       "      } catch (error) {\n",
       "        console.error('Error during call to suggestCharts:', error);\n",
       "      }\n",
       "      quickchartButtonEl.classList.remove('colab-df-spinner');\n",
       "      quickchartButtonEl.classList.add('colab-df-quickchart-complete');\n",
       "    }\n",
       "    (() => {\n",
       "      let quickchartButtonEl =\n",
       "        document.querySelector('#df-36ca1516-e906-4c5d-8d02-c24eda49f93b button');\n",
       "      quickchartButtonEl.style.display =\n",
       "        google.colab.kernel.accessAllowed ? 'block' : 'none';\n",
       "    })();\n",
       "  </script>\n",
       "</div>\n",
       "    </div>\n",
       "  </div>\n"
      ],
      "text/plain": [
       "       user_id   book_id  is_read  rating\n",
       "0            1      1384     True       4\n",
       "1            2      1376     True       4\n",
       "2            3     30119     True       5\n",
       "4            5     30119     True       3\n",
       "5            6    240007     True       4\n",
       "...        ...       ...      ...     ...\n",
       "19978    19979      1519     True       4\n",
       "19982    19983  19016323     True       2\n",
       "19983    19984   1595454     True       5\n",
       "19994    19995     23919     True       4\n",
       "19996    19997     12914     True       5\n",
       "\n",
       "[9683 rows x 4 columns]"
      ]
     },
     "execution_count": 15,
     "metadata": {},
     "output_type": "execute_result"
    }
   ],
   "source": [
    "ratings_df"
   ]
  },
  {
   "cell_type": "code",
   "execution_count": null,
   "metadata": {
    "colab": {
     "base_uri": "https://localhost:8080/"
    },
    "id": "smorEcVN7pFF",
    "outputId": "221acd40-dd4f-42ef-e30c-f68b037b1761"
   },
   "outputs": [
    {
     "data": {
      "text/plain": [
       "user_id    0\n",
       "book_id    0\n",
       "is_read    0\n",
       "rating     0\n",
       "dtype: int64"
      ]
     },
     "execution_count": 16,
     "metadata": {},
     "output_type": "execute_result"
    }
   ],
   "source": [
    "# Let's check for missing values\n",
    "ratings_df.isna().sum()"
   ]
  },
  {
   "cell_type": "code",
   "execution_count": null,
   "metadata": {
    "colab": {
     "base_uri": "https://localhost:8080/",
     "height": 965
    },
    "id": "0Z4YkLRg72yn",
    "outputId": "d8c4db13-2325-430f-f95e-f349749c60fb"
   },
   "outputs": [
    {
     "name": "stdout",
     "output_type": "stream",
     "text": [
      "bookings_df Shape: (36514, 29)\n"
     ]
    },
    {
     "data": {
      "application/vnd.google.colaboratory.intrinsic+json": {
       "type": "dataframe",
       "variable_name": "bookings_df"
      },
      "text/html": [
       "\n",
       "  <div id=\"df-816cd0c5-97cc-4df9-bb5f-ff7acd60dbe3\" class=\"colab-df-container\">\n",
       "    <div>\n",
       "<style scoped>\n",
       "    .dataframe tbody tr th:only-of-type {\n",
       "        vertical-align: middle;\n",
       "    }\n",
       "\n",
       "    .dataframe tbody tr th {\n",
       "        vertical-align: top;\n",
       "    }\n",
       "\n",
       "    .dataframe thead th {\n",
       "        text-align: right;\n",
       "    }\n",
       "</style>\n",
       "<table border=\"1\" class=\"dataframe\">\n",
       "  <thead>\n",
       "    <tr style=\"text-align: right;\">\n",
       "      <th></th>\n",
       "      <th>isbn</th>\n",
       "      <th>text_reviews_count</th>\n",
       "      <th>series</th>\n",
       "      <th>country_code</th>\n",
       "      <th>language_code</th>\n",
       "      <th>popular_shelves</th>\n",
       "      <th>asin</th>\n",
       "      <th>is_ebook</th>\n",
       "      <th>average_rating</th>\n",
       "      <th>kindle_asin</th>\n",
       "      <th>...</th>\n",
       "      <th>publication_month</th>\n",
       "      <th>edition_information</th>\n",
       "      <th>publication_year</th>\n",
       "      <th>url</th>\n",
       "      <th>image_url</th>\n",
       "      <th>book_id</th>\n",
       "      <th>ratings_count</th>\n",
       "      <th>work_id</th>\n",
       "      <th>title</th>\n",
       "      <th>title_without_series</th>\n",
       "    </tr>\n",
       "  </thead>\n",
       "  <tbody>\n",
       "    <tr>\n",
       "      <th>0</th>\n",
       "      <td>NaN</td>\n",
       "      <td>1</td>\n",
       "      <td>[]</td>\n",
       "      <td>US</td>\n",
       "      <td>eng</td>\n",
       "      <td>[{'count': '8', 'name': 'to-read'}, {'count': ...</td>\n",
       "      <td>NaN</td>\n",
       "      <td>False</td>\n",
       "      <td>3.83</td>\n",
       "      <td>NaN</td>\n",
       "      <td>...</td>\n",
       "      <td>11.0</td>\n",
       "      <td>NaN</td>\n",
       "      <td>1887.0</td>\n",
       "      <td>https://www.goodreads.com/book/show/16037549-v...</td>\n",
       "      <td>https://images.gr-assets.com/books/1348176637m...</td>\n",
       "      <td>16037549</td>\n",
       "      <td>3</td>\n",
       "      <td>5212748</td>\n",
       "      <td>Vision of Sir Launfal and Other Poems</td>\n",
       "      <td>Vision of Sir Launfal and Other Poems</td>\n",
       "    </tr>\n",
       "    <tr>\n",
       "      <th>1</th>\n",
       "      <td>0811223981</td>\n",
       "      <td>2</td>\n",
       "      <td>[]</td>\n",
       "      <td>US</td>\n",
       "      <td>NaN</td>\n",
       "      <td>[{'count': '100', 'name': 'to-read'}, {'count'...</td>\n",
       "      <td>NaN</td>\n",
       "      <td>False</td>\n",
       "      <td>3.83</td>\n",
       "      <td>B00U2WY9U8</td>\n",
       "      <td>...</td>\n",
       "      <td>4.0</td>\n",
       "      <td>NaN</td>\n",
       "      <td>2015.0</td>\n",
       "      <td>https://www.goodreads.com/book/show/22466716-f...</td>\n",
       "      <td>https://images.gr-assets.com/books/1404958407m...</td>\n",
       "      <td>22466716</td>\n",
       "      <td>37</td>\n",
       "      <td>41905435</td>\n",
       "      <td>Fairy Tales: Dramolettes</td>\n",
       "      <td>Fairy Tales: Dramolettes</td>\n",
       "    </tr>\n",
       "    <tr>\n",
       "      <th>2</th>\n",
       "      <td>0374428115</td>\n",
       "      <td>7</td>\n",
       "      <td>[]</td>\n",
       "      <td>US</td>\n",
       "      <td>NaN</td>\n",
       "      <td>[{'count': '32', 'name': 'to-read'}, {'count':...</td>\n",
       "      <td>NaN</td>\n",
       "      <td>False</td>\n",
       "      <td>4.38</td>\n",
       "      <td>NaN</td>\n",
       "      <td>...</td>\n",
       "      <td>7.0</td>\n",
       "      <td>NaN</td>\n",
       "      <td>2008.0</td>\n",
       "      <td>https://www.goodreads.com/book/show/926662.Gro...</td>\n",
       "      <td>https://s.gr-assets.com/assets/nophoto/book/11...</td>\n",
       "      <td>926662</td>\n",
       "      <td>45</td>\n",
       "      <td>911665</td>\n",
       "      <td>Growltiger's Last Stand and Other Poems</td>\n",
       "      <td>Growltiger's Last Stand and Other Poems</td>\n",
       "    </tr>\n",
       "    <tr>\n",
       "      <th>3</th>\n",
       "      <td>0156182890</td>\n",
       "      <td>12</td>\n",
       "      <td>[]</td>\n",
       "      <td>US</td>\n",
       "      <td>NaN</td>\n",
       "      <td>[{'count': '554', 'name': 'to-read'}, {'count'...</td>\n",
       "      <td>NaN</td>\n",
       "      <td>False</td>\n",
       "      <td>3.71</td>\n",
       "      <td>B00IWTRB1W</td>\n",
       "      <td>...</td>\n",
       "      <td>3.0</td>\n",
       "      <td>NaN</td>\n",
       "      <td>1964.0</td>\n",
       "      <td>https://www.goodreads.com/book/show/926667.The...</td>\n",
       "      <td>https://images.gr-assets.com/books/1382939971m...</td>\n",
       "      <td>926667</td>\n",
       "      <td>115</td>\n",
       "      <td>995066</td>\n",
       "      <td>The Cocktail Party</td>\n",
       "      <td>The Cocktail Party</td>\n",
       "    </tr>\n",
       "    <tr>\n",
       "      <th>4</th>\n",
       "      <td>1942004192</td>\n",
       "      <td>4</td>\n",
       "      <td>[]</td>\n",
       "      <td>US</td>\n",
       "      <td>eng</td>\n",
       "      <td>[{'count': '228', 'name': 'to-read'}, {'count'...</td>\n",
       "      <td>NaN</td>\n",
       "      <td>False</td>\n",
       "      <td>5.00</td>\n",
       "      <td>NaN</td>\n",
       "      <td>...</td>\n",
       "      <td>12.0</td>\n",
       "      <td>First</td>\n",
       "      <td>2015.0</td>\n",
       "      <td>https://www.goodreads.com/book/show/29065952-l...</td>\n",
       "      <td>https://images.gr-assets.com/books/1455198396m...</td>\n",
       "      <td>29065952</td>\n",
       "      <td>9</td>\n",
       "      <td>49294781</td>\n",
       "      <td>Louder Than Everything You Love</td>\n",
       "      <td>Louder Than Everything You Love</td>\n",
       "    </tr>\n",
       "    <tr>\n",
       "      <th>...</th>\n",
       "      <td>...</td>\n",
       "      <td>...</td>\n",
       "      <td>...</td>\n",
       "      <td>...</td>\n",
       "      <td>...</td>\n",
       "      <td>...</td>\n",
       "      <td>...</td>\n",
       "      <td>...</td>\n",
       "      <td>...</td>\n",
       "      <td>...</td>\n",
       "      <td>...</td>\n",
       "      <td>...</td>\n",
       "      <td>...</td>\n",
       "      <td>...</td>\n",
       "      <td>...</td>\n",
       "      <td>...</td>\n",
       "      <td>...</td>\n",
       "      <td>...</td>\n",
       "      <td>...</td>\n",
       "      <td>...</td>\n",
       "      <td>...</td>\n",
       "    </tr>\n",
       "    <tr>\n",
       "      <th>36509</th>\n",
       "      <td>NaN</td>\n",
       "      <td>1</td>\n",
       "      <td>[]</td>\n",
       "      <td>US</td>\n",
       "      <td>eng</td>\n",
       "      <td>[{'count': '2', 'name': 'poetry'}, {'count': '...</td>\n",
       "      <td>B004CYF8NY</td>\n",
       "      <td>True</td>\n",
       "      <td>5.00</td>\n",
       "      <td>NaN</td>\n",
       "      <td>...</td>\n",
       "      <td>NaN</td>\n",
       "      <td>NaN</td>\n",
       "      <td>NaN</td>\n",
       "      <td>https://www.goodreads.com/book/show/9874488-ta...</td>\n",
       "      <td>https://s.gr-assets.com/assets/nophoto/book/11...</td>\n",
       "      <td>9874488</td>\n",
       "      <td>1</td>\n",
       "      <td>14766173</td>\n",
       "      <td>Take Out from the Writer's Café</td>\n",
       "      <td>Take Out from the Writer's Café</td>\n",
       "    </tr>\n",
       "    <tr>\n",
       "      <th>36510</th>\n",
       "      <td>NaN</td>\n",
       "      <td>1</td>\n",
       "      <td>['714239']</td>\n",
       "      <td>US</td>\n",
       "      <td>NaN</td>\n",
       "      <td>[{'count': '1158', 'name': 'to-read'}, {'count...</td>\n",
       "      <td>B002LIT2S0</td>\n",
       "      <td>True</td>\n",
       "      <td>3.65</td>\n",
       "      <td>B004UK2JO6</td>\n",
       "      <td>...</td>\n",
       "      <td>NaN</td>\n",
       "      <td>NaN</td>\n",
       "      <td>NaN</td>\n",
       "      <td>https://www.goodreads.com/book/show/7657489-a-...</td>\n",
       "      <td>https://s.gr-assets.com/assets/nophoto/book/11...</td>\n",
       "      <td>7657489</td>\n",
       "      <td>3</td>\n",
       "      <td>854054</td>\n",
       "      <td>A Book of Nonsense</td>\n",
       "      <td>A Book of Nonsense</td>\n",
       "    </tr>\n",
       "    <tr>\n",
       "      <th>36511</th>\n",
       "      <td>0879230789</td>\n",
       "      <td>1</td>\n",
       "      <td>[]</td>\n",
       "      <td>US</td>\n",
       "      <td>NaN</td>\n",
       "      <td>[{'count': '3', 'name': 'poetry'}]</td>\n",
       "      <td>NaN</td>\n",
       "      <td>False</td>\n",
       "      <td>3.50</td>\n",
       "      <td>NaN</td>\n",
       "      <td>...</td>\n",
       "      <td>NaN</td>\n",
       "      <td>NaN</td>\n",
       "      <td>NaN</td>\n",
       "      <td>https://www.goodreads.com/book/show/3762261-su...</td>\n",
       "      <td>https://s.gr-assets.com/assets/nophoto/book/11...</td>\n",
       "      <td>3762261</td>\n",
       "      <td>2</td>\n",
       "      <td>3806167</td>\n",
       "      <td>Sunbelly (Number 2 in the First Godine Poetry ...</td>\n",
       "      <td>Sunbelly (Number 2 in the First Godine Poetry ...</td>\n",
       "    </tr>\n",
       "    <tr>\n",
       "      <th>36512</th>\n",
       "      <td>NaN</td>\n",
       "      <td>4</td>\n",
       "      <td>[]</td>\n",
       "      <td>US</td>\n",
       "      <td>spa</td>\n",
       "      <td>[{'count': '247044', 'name': 'to-read'}, {'cou...</td>\n",
       "      <td>NaN</td>\n",
       "      <td>False</td>\n",
       "      <td>3.73</td>\n",
       "      <td>B008H3RGCW</td>\n",
       "      <td>...</td>\n",
       "      <td>NaN</td>\n",
       "      <td>NaN</td>\n",
       "      <td>2013.0</td>\n",
       "      <td>https://www.goodreads.com/book/show/23452091-o...</td>\n",
       "      <td>https://images.gr-assets.com/books/1414353152m...</td>\n",
       "      <td>23452091</td>\n",
       "      <td>55</td>\n",
       "      <td>3356006</td>\n",
       "      <td>Odisea</td>\n",
       "      <td>Odisea</td>\n",
       "    </tr>\n",
       "    <tr>\n",
       "      <th>36513</th>\n",
       "      <td>0765197456</td>\n",
       "      <td>6</td>\n",
       "      <td>[]</td>\n",
       "      <td>US</td>\n",
       "      <td>NaN</td>\n",
       "      <td>[{'count': '37', 'name': 'to-read'}, {'count':...</td>\n",
       "      <td>NaN</td>\n",
       "      <td>False</td>\n",
       "      <td>4.00</td>\n",
       "      <td>NaN</td>\n",
       "      <td>...</td>\n",
       "      <td>8.0</td>\n",
       "      <td>NaN</td>\n",
       "      <td>1996.0</td>\n",
       "      <td>https://www.goodreads.com/book/show/2342551.Th...</td>\n",
       "      <td>https://s.gr-assets.com/assets/nophoto/book/11...</td>\n",
       "      <td>2342551</td>\n",
       "      <td>36</td>\n",
       "      <td>2349247</td>\n",
       "      <td>The Children's Classic Poetry Collection</td>\n",
       "      <td>The Children's Classic Poetry Collection</td>\n",
       "    </tr>\n",
       "  </tbody>\n",
       "</table>\n",
       "<p>36514 rows × 29 columns</p>\n",
       "</div>\n",
       "    <div class=\"colab-df-buttons\">\n",
       "\n",
       "  <div class=\"colab-df-container\">\n",
       "    <button class=\"colab-df-convert\" onclick=\"convertToInteractive('df-816cd0c5-97cc-4df9-bb5f-ff7acd60dbe3')\"\n",
       "            title=\"Convert this dataframe to an interactive table.\"\n",
       "            style=\"display:none;\">\n",
       "\n",
       "  <svg xmlns=\"http://www.w3.org/2000/svg\" height=\"24px\" viewBox=\"0 -960 960 960\">\n",
       "    <path d=\"M120-120v-720h720v720H120Zm60-500h600v-160H180v160Zm220 220h160v-160H400v160Zm0 220h160v-160H400v160ZM180-400h160v-160H180v160Zm440 0h160v-160H620v160ZM180-180h160v-160H180v160Zm440 0h160v-160H620v160Z\"/>\n",
       "  </svg>\n",
       "    </button>\n",
       "\n",
       "  <style>\n",
       "    .colab-df-container {\n",
       "      display:flex;\n",
       "      gap: 12px;\n",
       "    }\n",
       "\n",
       "    .colab-df-convert {\n",
       "      background-color: #E8F0FE;\n",
       "      border: none;\n",
       "      border-radius: 50%;\n",
       "      cursor: pointer;\n",
       "      display: none;\n",
       "      fill: #1967D2;\n",
       "      height: 32px;\n",
       "      padding: 0 0 0 0;\n",
       "      width: 32px;\n",
       "    }\n",
       "\n",
       "    .colab-df-convert:hover {\n",
       "      background-color: #E2EBFA;\n",
       "      box-shadow: 0px 1px 2px rgba(60, 64, 67, 0.3), 0px 1px 3px 1px rgba(60, 64, 67, 0.15);\n",
       "      fill: #174EA6;\n",
       "    }\n",
       "\n",
       "    .colab-df-buttons div {\n",
       "      margin-bottom: 4px;\n",
       "    }\n",
       "\n",
       "    [theme=dark] .colab-df-convert {\n",
       "      background-color: #3B4455;\n",
       "      fill: #D2E3FC;\n",
       "    }\n",
       "\n",
       "    [theme=dark] .colab-df-convert:hover {\n",
       "      background-color: #434B5C;\n",
       "      box-shadow: 0px 1px 3px 1px rgba(0, 0, 0, 0.15);\n",
       "      filter: drop-shadow(0px 1px 2px rgba(0, 0, 0, 0.3));\n",
       "      fill: #FFFFFF;\n",
       "    }\n",
       "  </style>\n",
       "\n",
       "    <script>\n",
       "      const buttonEl =\n",
       "        document.querySelector('#df-816cd0c5-97cc-4df9-bb5f-ff7acd60dbe3 button.colab-df-convert');\n",
       "      buttonEl.style.display =\n",
       "        google.colab.kernel.accessAllowed ? 'block' : 'none';\n",
       "\n",
       "      async function convertToInteractive(key) {\n",
       "        const element = document.querySelector('#df-816cd0c5-97cc-4df9-bb5f-ff7acd60dbe3');\n",
       "        const dataTable =\n",
       "          await google.colab.kernel.invokeFunction('convertToInteractive',\n",
       "                                                    [key], {});\n",
       "        if (!dataTable) return;\n",
       "\n",
       "        const docLinkHtml = 'Like what you see? Visit the ' +\n",
       "          '<a target=\"_blank\" href=https://colab.research.google.com/notebooks/data_table.ipynb>data table notebook</a>'\n",
       "          + ' to learn more about interactive tables.';\n",
       "        element.innerHTML = '';\n",
       "        dataTable['output_type'] = 'display_data';\n",
       "        await google.colab.output.renderOutput(dataTable, element);\n",
       "        const docLink = document.createElement('div');\n",
       "        docLink.innerHTML = docLinkHtml;\n",
       "        element.appendChild(docLink);\n",
       "      }\n",
       "    </script>\n",
       "  </div>\n",
       "\n",
       "\n",
       "<div id=\"df-e8b2fcb9-1991-40a8-8629-65821381eb4c\">\n",
       "  <button class=\"colab-df-quickchart\" onclick=\"quickchart('df-e8b2fcb9-1991-40a8-8629-65821381eb4c')\"\n",
       "            title=\"Suggest charts\"\n",
       "            style=\"display:none;\">\n",
       "\n",
       "<svg xmlns=\"http://www.w3.org/2000/svg\" height=\"24px\"viewBox=\"0 0 24 24\"\n",
       "     width=\"24px\">\n",
       "    <g>\n",
       "        <path d=\"M19 3H5c-1.1 0-2 .9-2 2v14c0 1.1.9 2 2 2h14c1.1 0 2-.9 2-2V5c0-1.1-.9-2-2-2zM9 17H7v-7h2v7zm4 0h-2V7h2v10zm4 0h-2v-4h2v4z\"/>\n",
       "    </g>\n",
       "</svg>\n",
       "  </button>\n",
       "\n",
       "<style>\n",
       "  .colab-df-quickchart {\n",
       "      --bg-color: #E8F0FE;\n",
       "      --fill-color: #1967D2;\n",
       "      --hover-bg-color: #E2EBFA;\n",
       "      --hover-fill-color: #174EA6;\n",
       "      --disabled-fill-color: #AAA;\n",
       "      --disabled-bg-color: #DDD;\n",
       "  }\n",
       "\n",
       "  [theme=dark] .colab-df-quickchart {\n",
       "      --bg-color: #3B4455;\n",
       "      --fill-color: #D2E3FC;\n",
       "      --hover-bg-color: #434B5C;\n",
       "      --hover-fill-color: #FFFFFF;\n",
       "      --disabled-bg-color: #3B4455;\n",
       "      --disabled-fill-color: #666;\n",
       "  }\n",
       "\n",
       "  .colab-df-quickchart {\n",
       "    background-color: var(--bg-color);\n",
       "    border: none;\n",
       "    border-radius: 50%;\n",
       "    cursor: pointer;\n",
       "    display: none;\n",
       "    fill: var(--fill-color);\n",
       "    height: 32px;\n",
       "    padding: 0;\n",
       "    width: 32px;\n",
       "  }\n",
       "\n",
       "  .colab-df-quickchart:hover {\n",
       "    background-color: var(--hover-bg-color);\n",
       "    box-shadow: 0 1px 2px rgba(60, 64, 67, 0.3), 0 1px 3px 1px rgba(60, 64, 67, 0.15);\n",
       "    fill: var(--button-hover-fill-color);\n",
       "  }\n",
       "\n",
       "  .colab-df-quickchart-complete:disabled,\n",
       "  .colab-df-quickchart-complete:disabled:hover {\n",
       "    background-color: var(--disabled-bg-color);\n",
       "    fill: var(--disabled-fill-color);\n",
       "    box-shadow: none;\n",
       "  }\n",
       "\n",
       "  .colab-df-spinner {\n",
       "    border: 2px solid var(--fill-color);\n",
       "    border-color: transparent;\n",
       "    border-bottom-color: var(--fill-color);\n",
       "    animation:\n",
       "      spin 1s steps(1) infinite;\n",
       "  }\n",
       "\n",
       "  @keyframes spin {\n",
       "    0% {\n",
       "      border-color: transparent;\n",
       "      border-bottom-color: var(--fill-color);\n",
       "      border-left-color: var(--fill-color);\n",
       "    }\n",
       "    20% {\n",
       "      border-color: transparent;\n",
       "      border-left-color: var(--fill-color);\n",
       "      border-top-color: var(--fill-color);\n",
       "    }\n",
       "    30% {\n",
       "      border-color: transparent;\n",
       "      border-left-color: var(--fill-color);\n",
       "      border-top-color: var(--fill-color);\n",
       "      border-right-color: var(--fill-color);\n",
       "    }\n",
       "    40% {\n",
       "      border-color: transparent;\n",
       "      border-right-color: var(--fill-color);\n",
       "      border-top-color: var(--fill-color);\n",
       "    }\n",
       "    60% {\n",
       "      border-color: transparent;\n",
       "      border-right-color: var(--fill-color);\n",
       "    }\n",
       "    80% {\n",
       "      border-color: transparent;\n",
       "      border-right-color: var(--fill-color);\n",
       "      border-bottom-color: var(--fill-color);\n",
       "    }\n",
       "    90% {\n",
       "      border-color: transparent;\n",
       "      border-bottom-color: var(--fill-color);\n",
       "    }\n",
       "  }\n",
       "</style>\n",
       "\n",
       "  <script>\n",
       "    async function quickchart(key) {\n",
       "      const quickchartButtonEl =\n",
       "        document.querySelector('#' + key + ' button');\n",
       "      quickchartButtonEl.disabled = true;  // To prevent multiple clicks.\n",
       "      quickchartButtonEl.classList.add('colab-df-spinner');\n",
       "      try {\n",
       "        const charts = await google.colab.kernel.invokeFunction(\n",
       "            'suggestCharts', [key], {});\n",
       "      } catch (error) {\n",
       "        console.error('Error during call to suggestCharts:', error);\n",
       "      }\n",
       "      quickchartButtonEl.classList.remove('colab-df-spinner');\n",
       "      quickchartButtonEl.classList.add('colab-df-quickchart-complete');\n",
       "    }\n",
       "    (() => {\n",
       "      let quickchartButtonEl =\n",
       "        document.querySelector('#df-e8b2fcb9-1991-40a8-8629-65821381eb4c button');\n",
       "      quickchartButtonEl.style.display =\n",
       "        google.colab.kernel.accessAllowed ? 'block' : 'none';\n",
       "    })();\n",
       "  </script>\n",
       "</div>\n",
       "    </div>\n",
       "  </div>\n"
      ],
      "text/plain": [
       "             isbn  text_reviews_count      series country_code language_code  \\\n",
       "0             NaN                   1          []           US           eng   \n",
       "1      0811223981                   2          []           US           NaN   \n",
       "2      0374428115                   7          []           US           NaN   \n",
       "3      0156182890                  12          []           US           NaN   \n",
       "4      1942004192                   4          []           US           eng   \n",
       "...           ...                 ...         ...          ...           ...   \n",
       "36509         NaN                   1          []           US           eng   \n",
       "36510         NaN                   1  ['714239']           US           NaN   \n",
       "36511  0879230789                   1          []           US           NaN   \n",
       "36512         NaN                   4          []           US           spa   \n",
       "36513  0765197456                   6          []           US           NaN   \n",
       "\n",
       "                                         popular_shelves        asin  \\\n",
       "0      [{'count': '8', 'name': 'to-read'}, {'count': ...         NaN   \n",
       "1      [{'count': '100', 'name': 'to-read'}, {'count'...         NaN   \n",
       "2      [{'count': '32', 'name': 'to-read'}, {'count':...         NaN   \n",
       "3      [{'count': '554', 'name': 'to-read'}, {'count'...         NaN   \n",
       "4      [{'count': '228', 'name': 'to-read'}, {'count'...         NaN   \n",
       "...                                                  ...         ...   \n",
       "36509  [{'count': '2', 'name': 'poetry'}, {'count': '...  B004CYF8NY   \n",
       "36510  [{'count': '1158', 'name': 'to-read'}, {'count...  B002LIT2S0   \n",
       "36511                 [{'count': '3', 'name': 'poetry'}]         NaN   \n",
       "36512  [{'count': '247044', 'name': 'to-read'}, {'cou...         NaN   \n",
       "36513  [{'count': '37', 'name': 'to-read'}, {'count':...         NaN   \n",
       "\n",
       "       is_ebook  average_rating kindle_asin  ... publication_month  \\\n",
       "0         False            3.83         NaN  ...              11.0   \n",
       "1         False            3.83  B00U2WY9U8  ...               4.0   \n",
       "2         False            4.38         NaN  ...               7.0   \n",
       "3         False            3.71  B00IWTRB1W  ...               3.0   \n",
       "4         False            5.00         NaN  ...              12.0   \n",
       "...         ...             ...         ...  ...               ...   \n",
       "36509      True            5.00         NaN  ...               NaN   \n",
       "36510      True            3.65  B004UK2JO6  ...               NaN   \n",
       "36511     False            3.50         NaN  ...               NaN   \n",
       "36512     False            3.73  B008H3RGCW  ...               NaN   \n",
       "36513     False            4.00         NaN  ...               8.0   \n",
       "\n",
       "      edition_information publication_year  \\\n",
       "0                     NaN           1887.0   \n",
       "1                     NaN           2015.0   \n",
       "2                     NaN           2008.0   \n",
       "3                     NaN           1964.0   \n",
       "4                   First           2015.0   \n",
       "...                   ...              ...   \n",
       "36509                 NaN              NaN   \n",
       "36510                 NaN              NaN   \n",
       "36511                 NaN              NaN   \n",
       "36512                 NaN           2013.0   \n",
       "36513                 NaN           1996.0   \n",
       "\n",
       "                                                     url  \\\n",
       "0      https://www.goodreads.com/book/show/16037549-v...   \n",
       "1      https://www.goodreads.com/book/show/22466716-f...   \n",
       "2      https://www.goodreads.com/book/show/926662.Gro...   \n",
       "3      https://www.goodreads.com/book/show/926667.The...   \n",
       "4      https://www.goodreads.com/book/show/29065952-l...   \n",
       "...                                                  ...   \n",
       "36509  https://www.goodreads.com/book/show/9874488-ta...   \n",
       "36510  https://www.goodreads.com/book/show/7657489-a-...   \n",
       "36511  https://www.goodreads.com/book/show/3762261-su...   \n",
       "36512  https://www.goodreads.com/book/show/23452091-o...   \n",
       "36513  https://www.goodreads.com/book/show/2342551.Th...   \n",
       "\n",
       "                                               image_url   book_id  \\\n",
       "0      https://images.gr-assets.com/books/1348176637m...  16037549   \n",
       "1      https://images.gr-assets.com/books/1404958407m...  22466716   \n",
       "2      https://s.gr-assets.com/assets/nophoto/book/11...    926662   \n",
       "3      https://images.gr-assets.com/books/1382939971m...    926667   \n",
       "4      https://images.gr-assets.com/books/1455198396m...  29065952   \n",
       "...                                                  ...       ...   \n",
       "36509  https://s.gr-assets.com/assets/nophoto/book/11...   9874488   \n",
       "36510  https://s.gr-assets.com/assets/nophoto/book/11...   7657489   \n",
       "36511  https://s.gr-assets.com/assets/nophoto/book/11...   3762261   \n",
       "36512  https://images.gr-assets.com/books/1414353152m...  23452091   \n",
       "36513  https://s.gr-assets.com/assets/nophoto/book/11...   2342551   \n",
       "\n",
       "       ratings_count   work_id  \\\n",
       "0                  3   5212748   \n",
       "1                 37  41905435   \n",
       "2                 45    911665   \n",
       "3                115    995066   \n",
       "4                  9  49294781   \n",
       "...              ...       ...   \n",
       "36509              1  14766173   \n",
       "36510              3    854054   \n",
       "36511              2   3806167   \n",
       "36512             55   3356006   \n",
       "36513             36   2349247   \n",
       "\n",
       "                                                   title  \\\n",
       "0                  Vision of Sir Launfal and Other Poems   \n",
       "1                               Fairy Tales: Dramolettes   \n",
       "2                Growltiger's Last Stand and Other Poems   \n",
       "3                                     The Cocktail Party   \n",
       "4                        Louder Than Everything You Love   \n",
       "...                                                  ...   \n",
       "36509                    Take Out from the Writer's Café   \n",
       "36510                                 A Book of Nonsense   \n",
       "36511  Sunbelly (Number 2 in the First Godine Poetry ...   \n",
       "36512                                             Odisea   \n",
       "36513           The Children's Classic Poetry Collection   \n",
       "\n",
       "                                    title_without_series  \n",
       "0                  Vision of Sir Launfal and Other Poems  \n",
       "1                               Fairy Tales: Dramolettes  \n",
       "2                Growltiger's Last Stand and Other Poems  \n",
       "3                                     The Cocktail Party  \n",
       "4                        Louder Than Everything You Love  \n",
       "...                                                  ...  \n",
       "36509                    Take Out from the Writer's Café  \n",
       "36510                                 A Book of Nonsense  \n",
       "36511  Sunbelly (Number 2 in the First Godine Poetry ...  \n",
       "36512                                             Odisea  \n",
       "36513           The Children's Classic Poetry Collection  \n",
       "\n",
       "[36514 rows x 29 columns]"
      ]
     },
     "execution_count": 17,
     "metadata": {},
     "output_type": "execute_result"
    }
   ],
   "source": [
    "print('bookings_df Shape:',bookings_df.shape)\n",
    "bookings_df"
   ]
  },
  {
   "cell_type": "code",
   "execution_count": null,
   "metadata": {
    "colab": {
     "base_uri": "https://localhost:8080/"
    },
    "id": "0pL9lu-38Q7K",
    "outputId": "a5a47bed-c4d5-4c92-c186-fc113f27116a"
   },
   "outputs": [
    {
     "data": {
      "text/plain": [
       "isbn                     9980\n",
       "text_reviews_count          0\n",
       "series                      0\n",
       "country_code                0\n",
       "language_code           19462\n",
       "popular_shelves             0\n",
       "asin                    34644\n",
       "is_ebook                    0\n",
       "average_rating              0\n",
       "kindle_asin             26879\n",
       "similar_books               0\n",
       "description              7526\n",
       "format                   7025\n",
       "link                        0\n",
       "authors                     0\n",
       "publisher                6033\n",
       "num_pages                7505\n",
       "publication_day         14956\n",
       "isbn13                   8155\n",
       "publication_month       13020\n",
       "edition_information     33089\n",
       "publication_year         5816\n",
       "url                         0\n",
       "image_url                   0\n",
       "book_id                     0\n",
       "ratings_count               0\n",
       "work_id                     0\n",
       "title                       2\n",
       "title_without_series        2\n",
       "dtype: int64"
      ]
     },
     "execution_count": 18,
     "metadata": {},
     "output_type": "execute_result"
    }
   ],
   "source": [
    "bookings_df.isna().sum()"
   ]
  },
  {
   "cell_type": "code",
   "execution_count": null,
   "metadata": {
    "id": "yWFNP_u-A79C"
   },
   "outputs": [],
   "source": [
    "def _removeNonAscii(s):\n",
    "    return \"\".join(i for i in s if  ord(i)<128)\n",
    "    #print(type(s))\n",
    "    #return \"\".join([char for char in s if char not in string.punctuation])\n",
    "\n",
    "def remove_html(text):\n",
    "    html_pattern = re.compile('<.*?>')\n",
    "    return html_pattern.sub(r'', text)"
   ]
  },
  {
   "cell_type": "code",
   "execution_count": null,
   "metadata": {
    "colab": {
     "base_uri": "https://localhost:8080/"
    },
    "id": "vgp1ppBV9VQV",
    "outputId": "783dc76a-2f7b-4d96-f884-9927a0d76b57"
   },
   "outputs": [
    {
     "data": {
      "text/plain": [
       "0        Number 30 in a series of literary pamphlets pu...\n",
       "1        Fairy Tales gathers the unconventional verse d...\n",
       "2        Three poems describe the nighttime adventures ...\n",
       "3        A modern verse play about the search for meani...\n",
       "4        Louder Than Everything You Love is about trans...\n",
       "                               ...                        \n",
       "36509    Appetizers\\n*Poetry- Acrostic\\nWo(Man)- Diaman...\n",
       "36510    There was an Old Derry down Derry, who loved t...\n",
       "36511                                                     \n",
       "36512    'Muse, tell me of a man: a man of much resourc...\n",
       "36513    Gathers poems by William Blake, Emily Bronte, ...\n",
       "Name: cleaned, Length: 36514, dtype: object"
      ]
     },
     "execution_count": 20,
     "metadata": {},
     "output_type": "execute_result"
    }
   ],
   "source": [
    "#processing the movie overview\n",
    "bookings_df['description'] = bookings_df['description'].fillna('')\n",
    "bookings_df['cleaned'] = bookings_df['description'].apply(_removeNonAscii)\n",
    "# bookings_df['cleaned'] = bookings_df.cleaned.apply(func = remove_html)\n",
    "bookings_df['cleaned']"
   ]
  },
  {
   "cell_type": "code",
   "execution_count": null,
   "metadata": {
    "id": "bhw5wdXTBVmE"
   },
   "outputs": [],
   "source": [
    "from sentence_transformers import SentenceTransformer"
   ]
  },
  {
   "cell_type": "code",
   "execution_count": null,
   "metadata": {
    "colab": {
     "background_save": true,
     "referenced_widgets": [
      "a2c56535518247d49d114f5fb89756ee",
      "b142cb60ee404156b544a2275052fcab",
      "4101d198626848f987bbf5f8b87379a4",
      "e29317d6b4b64158939373832975f797",
      "a2150be9e2ba4770b03a7e8c11d6d37a",
      "1a4e5fd3eb8c4c7ebf0ea8704935dacd",
      "b928e1b75c7a410caf84c6e7ce66fa8a",
      "b1a5e16cda4b4255bef8b64417b8a239",
      "bbe74228cf1c46348c0e5c331b2c563e",
      "0f46fa3ef885433f9e6aa3912acacd17",
      "939e08e6caf249f5af1823ab988e3263"
     ]
    },
    "id": "saC89dzbBfbC",
    "outputId": "28543e8f-afd0-4c7a-d082-bae2460537e7"
   },
   "outputs": [
    {
     "name": "stderr",
     "output_type": "stream",
     "text": [
      "/usr/local/lib/python3.10/dist-packages/huggingface_hub/utils/_token.py:88: UserWarning: \n",
      "The secret `HF_TOKEN` does not exist in your Colab secrets.\n",
      "To authenticate with the Hugging Face Hub, create a token in your settings tab (https://huggingface.co/settings/tokens), set it as secret in your Google Colab and restart your session.\n",
      "You will be able to reuse this secret in all of your notebooks.\n",
      "Please note that authentication is recommended but still optional to access public models or datasets.\n",
      "  warnings.warn(\n"
     ]
    },
    {
     "data": {
      "application/vnd.jupyter.widget-view+json": {
       "model_id": "a2c56535518247d49d114f5fb89756ee",
       "version_major": 2,
       "version_minor": 0
      },
      "text/plain": [
       "modules.json:   0%|          | 0.00/349 [00:00<?, ?B/s]"
      ]
     },
     "metadata": {},
     "output_type": "display_data"
    },
    {
     "data": {
      "application/vnd.jupyter.widget-view+json": {
       "model_id": "b142cb60ee404156b544a2275052fcab",
       "version_major": 2,
       "version_minor": 0
      },
      "text/plain": [
       "config_sentence_transformers.json:   0%|          | 0.00/116 [00:00<?, ?B/s]"
      ]
     },
     "metadata": {},
     "output_type": "display_data"
    },
    {
     "data": {
      "application/vnd.jupyter.widget-view+json": {
       "model_id": "4101d198626848f987bbf5f8b87379a4",
       "version_major": 2,
       "version_minor": 0
      },
      "text/plain": [
       "README.md:   0%|          | 0.00/10.6k [00:00<?, ?B/s]"
      ]
     },
     "metadata": {},
     "output_type": "display_data"
    },
    {
     "data": {
      "application/vnd.jupyter.widget-view+json": {
       "model_id": "e29317d6b4b64158939373832975f797",
       "version_major": 2,
       "version_minor": 0
      },
      "text/plain": [
       "sentence_bert_config.json:   0%|          | 0.00/53.0 [00:00<?, ?B/s]"
      ]
     },
     "metadata": {},
     "output_type": "display_data"
    },
    {
     "data": {
      "application/vnd.jupyter.widget-view+json": {
       "model_id": "a2150be9e2ba4770b03a7e8c11d6d37a",
       "version_major": 2,
       "version_minor": 0
      },
      "text/plain": [
       "config.json:   0%|          | 0.00/571 [00:00<?, ?B/s]"
      ]
     },
     "metadata": {},
     "output_type": "display_data"
    },
    {
     "data": {
      "application/vnd.jupyter.widget-view+json": {
       "model_id": "1a4e5fd3eb8c4c7ebf0ea8704935dacd",
       "version_major": 2,
       "version_minor": 0
      },
      "text/plain": [
       "model.safetensors:   0%|          | 0.00/438M [00:00<?, ?B/s]"
      ]
     },
     "metadata": {},
     "output_type": "display_data"
    },
    {
     "data": {
      "application/vnd.jupyter.widget-view+json": {
       "model_id": "b928e1b75c7a410caf84c6e7ce66fa8a",
       "version_major": 2,
       "version_minor": 0
      },
      "text/plain": [
       "tokenizer_config.json:   0%|          | 0.00/363 [00:00<?, ?B/s]"
      ]
     },
     "metadata": {},
     "output_type": "display_data"
    },
    {
     "data": {
      "application/vnd.jupyter.widget-view+json": {
       "model_id": "b1a5e16cda4b4255bef8b64417b8a239",
       "version_major": 2,
       "version_minor": 0
      },
      "text/plain": [
       "vocab.txt:   0%|          | 0.00/232k [00:00<?, ?B/s]"
      ]
     },
     "metadata": {},
     "output_type": "display_data"
    },
    {
     "data": {
      "application/vnd.jupyter.widget-view+json": {
       "model_id": "bbe74228cf1c46348c0e5c331b2c563e",
       "version_major": 2,
       "version_minor": 0
      },
      "text/plain": [
       "tokenizer.json:   0%|          | 0.00/466k [00:00<?, ?B/s]"
      ]
     },
     "metadata": {},
     "output_type": "display_data"
    },
    {
     "data": {
      "application/vnd.jupyter.widget-view+json": {
       "model_id": "0f46fa3ef885433f9e6aa3912acacd17",
       "version_major": 2,
       "version_minor": 0
      },
      "text/plain": [
       "special_tokens_map.json:   0%|          | 0.00/239 [00:00<?, ?B/s]"
      ]
     },
     "metadata": {},
     "output_type": "display_data"
    },
    {
     "data": {
      "application/vnd.jupyter.widget-view+json": {
       "model_id": "939e08e6caf249f5af1823ab988e3263",
       "version_major": 2,
       "version_minor": 0
      },
      "text/plain": [
       "1_Pooling/config.json:   0%|          | 0.00/190 [00:00<?, ?B/s]"
      ]
     },
     "metadata": {},
     "output_type": "display_data"
    },
    {
     "ename": "KeyboardInterrupt",
     "evalue": "",
     "output_type": "error",
     "traceback": [
      "\u001b[0;31m---------------------------------------------------------------------------\u001b[0m",
      "\u001b[0;31mKeyboardInterrupt\u001b[0m                         Traceback (most recent call last)",
      "\u001b[0;32m<ipython-input-22-7a6fef843c32>\u001b[0m in \u001b[0;36m<cell line: 7>\u001b[0;34m()\u001b[0m\n\u001b[1;32m      5\u001b[0m \u001b[0msentences\u001b[0m \u001b[0;34m=\u001b[0m \u001b[0mbookings_df\u001b[0m\u001b[0;34m[\u001b[0m\u001b[0;34m'cleaned'\u001b[0m\u001b[0;34m]\u001b[0m\u001b[0;34m.\u001b[0m\u001b[0mvalues\u001b[0m\u001b[0;34m\u001b[0m\u001b[0;34m\u001b[0m\u001b[0m\n\u001b[1;32m      6\u001b[0m \u001b[0mmodel\u001b[0m \u001b[0;34m=\u001b[0m \u001b[0mSentenceTransformer\u001b[0m\u001b[0;34m(\u001b[0m\u001b[0;34m'sentence-transformers/all-mpnet-base-v2'\u001b[0m\u001b[0;34m)\u001b[0m\u001b[0;34m\u001b[0m\u001b[0;34m\u001b[0m\u001b[0m\n\u001b[0;32m----> 7\u001b[0;31m \u001b[0msentence_embeddings\u001b[0m \u001b[0;34m=\u001b[0m \u001b[0mmodel\u001b[0m\u001b[0;34m.\u001b[0m\u001b[0mencode\u001b[0m\u001b[0;34m(\u001b[0m\u001b[0msentences\u001b[0m\u001b[0;34m)\u001b[0m\u001b[0;34m\u001b[0m\u001b[0;34m\u001b[0m\u001b[0m\n\u001b[0m\u001b[1;32m      8\u001b[0m \u001b[0msentence_embeddings\u001b[0m\u001b[0;34m[\u001b[0m\u001b[0;36m0\u001b[0m\u001b[0;34m]\u001b[0m\u001b[0;34m\u001b[0m\u001b[0;34m\u001b[0m\u001b[0m\n",
      "\u001b[0;32m/usr/local/lib/python3.10/dist-packages/sentence_transformers/SentenceTransformer.py\u001b[0m in \u001b[0;36mencode\u001b[0;34m(self, sentences, prompt_name, prompt, batch_size, show_progress_bar, output_value, precision, convert_to_numpy, convert_to_tensor, device, normalize_embeddings)\u001b[0m\n\u001b[1;32m    369\u001b[0m \u001b[0;34m\u001b[0m\u001b[0m\n\u001b[1;32m    370\u001b[0m             \u001b[0;32mwith\u001b[0m \u001b[0mtorch\u001b[0m\u001b[0;34m.\u001b[0m\u001b[0mno_grad\u001b[0m\u001b[0;34m(\u001b[0m\u001b[0;34m)\u001b[0m\u001b[0;34m:\u001b[0m\u001b[0;34m\u001b[0m\u001b[0;34m\u001b[0m\u001b[0m\n\u001b[0;32m--> 371\u001b[0;31m                 \u001b[0mout_features\u001b[0m \u001b[0;34m=\u001b[0m \u001b[0mself\u001b[0m\u001b[0;34m.\u001b[0m\u001b[0mforward\u001b[0m\u001b[0;34m(\u001b[0m\u001b[0mfeatures\u001b[0m\u001b[0;34m)\u001b[0m\u001b[0;34m\u001b[0m\u001b[0;34m\u001b[0m\u001b[0m\n\u001b[0m\u001b[1;32m    372\u001b[0m                 out_features[\"sentence_embedding\"] = truncate_embeddings(\n\u001b[1;32m    373\u001b[0m                     \u001b[0mout_features\u001b[0m\u001b[0;34m[\u001b[0m\u001b[0;34m\"sentence_embedding\"\u001b[0m\u001b[0;34m]\u001b[0m\u001b[0;34m,\u001b[0m \u001b[0mself\u001b[0m\u001b[0;34m.\u001b[0m\u001b[0mtruncate_dim\u001b[0m\u001b[0;34m\u001b[0m\u001b[0;34m\u001b[0m\u001b[0m\n",
      "\u001b[0;32m/usr/local/lib/python3.10/dist-packages/torch/nn/modules/container.py\u001b[0m in \u001b[0;36mforward\u001b[0;34m(self, input)\u001b[0m\n\u001b[1;32m    215\u001b[0m     \u001b[0;32mdef\u001b[0m \u001b[0mforward\u001b[0m\u001b[0;34m(\u001b[0m\u001b[0mself\u001b[0m\u001b[0;34m,\u001b[0m \u001b[0minput\u001b[0m\u001b[0;34m)\u001b[0m\u001b[0;34m:\u001b[0m\u001b[0;34m\u001b[0m\u001b[0;34m\u001b[0m\u001b[0m\n\u001b[1;32m    216\u001b[0m         \u001b[0;32mfor\u001b[0m \u001b[0mmodule\u001b[0m \u001b[0;32min\u001b[0m \u001b[0mself\u001b[0m\u001b[0;34m:\u001b[0m\u001b[0;34m\u001b[0m\u001b[0;34m\u001b[0m\u001b[0m\n\u001b[0;32m--> 217\u001b[0;31m             \u001b[0minput\u001b[0m \u001b[0;34m=\u001b[0m \u001b[0mmodule\u001b[0m\u001b[0;34m(\u001b[0m\u001b[0minput\u001b[0m\u001b[0;34m)\u001b[0m\u001b[0;34m\u001b[0m\u001b[0;34m\u001b[0m\u001b[0m\n\u001b[0m\u001b[1;32m    218\u001b[0m         \u001b[0;32mreturn\u001b[0m \u001b[0minput\u001b[0m\u001b[0;34m\u001b[0m\u001b[0;34m\u001b[0m\u001b[0m\n\u001b[1;32m    219\u001b[0m \u001b[0;34m\u001b[0m\u001b[0m\n",
      "\u001b[0;32m/usr/local/lib/python3.10/dist-packages/torch/nn/modules/module.py\u001b[0m in \u001b[0;36m_wrapped_call_impl\u001b[0;34m(self, *args, **kwargs)\u001b[0m\n\u001b[1;32m   1509\u001b[0m             \u001b[0;32mreturn\u001b[0m \u001b[0mself\u001b[0m\u001b[0;34m.\u001b[0m\u001b[0m_compiled_call_impl\u001b[0m\u001b[0;34m(\u001b[0m\u001b[0;34m*\u001b[0m\u001b[0margs\u001b[0m\u001b[0;34m,\u001b[0m \u001b[0;34m**\u001b[0m\u001b[0mkwargs\u001b[0m\u001b[0;34m)\u001b[0m  \u001b[0;31m# type: ignore[misc]\u001b[0m\u001b[0;34m\u001b[0m\u001b[0;34m\u001b[0m\u001b[0m\n\u001b[1;32m   1510\u001b[0m         \u001b[0;32melse\u001b[0m\u001b[0;34m:\u001b[0m\u001b[0;34m\u001b[0m\u001b[0;34m\u001b[0m\u001b[0m\n\u001b[0;32m-> 1511\u001b[0;31m             \u001b[0;32mreturn\u001b[0m \u001b[0mself\u001b[0m\u001b[0;34m.\u001b[0m\u001b[0m_call_impl\u001b[0m\u001b[0;34m(\u001b[0m\u001b[0;34m*\u001b[0m\u001b[0margs\u001b[0m\u001b[0;34m,\u001b[0m \u001b[0;34m**\u001b[0m\u001b[0mkwargs\u001b[0m\u001b[0;34m)\u001b[0m\u001b[0;34m\u001b[0m\u001b[0;34m\u001b[0m\u001b[0m\n\u001b[0m\u001b[1;32m   1512\u001b[0m \u001b[0;34m\u001b[0m\u001b[0m\n\u001b[1;32m   1513\u001b[0m     \u001b[0;32mdef\u001b[0m \u001b[0m_call_impl\u001b[0m\u001b[0;34m(\u001b[0m\u001b[0mself\u001b[0m\u001b[0;34m,\u001b[0m \u001b[0;34m*\u001b[0m\u001b[0margs\u001b[0m\u001b[0;34m,\u001b[0m \u001b[0;34m**\u001b[0m\u001b[0mkwargs\u001b[0m\u001b[0;34m)\u001b[0m\u001b[0;34m:\u001b[0m\u001b[0;34m\u001b[0m\u001b[0;34m\u001b[0m\u001b[0m\n",
      "\u001b[0;32m/usr/local/lib/python3.10/dist-packages/torch/nn/modules/module.py\u001b[0m in \u001b[0;36m_call_impl\u001b[0;34m(self, *args, **kwargs)\u001b[0m\n\u001b[1;32m   1518\u001b[0m                 \u001b[0;32mor\u001b[0m \u001b[0m_global_backward_pre_hooks\u001b[0m \u001b[0;32mor\u001b[0m \u001b[0m_global_backward_hooks\u001b[0m\u001b[0;34m\u001b[0m\u001b[0;34m\u001b[0m\u001b[0m\n\u001b[1;32m   1519\u001b[0m                 or _global_forward_hooks or _global_forward_pre_hooks):\n\u001b[0;32m-> 1520\u001b[0;31m             \u001b[0;32mreturn\u001b[0m \u001b[0mforward_call\u001b[0m\u001b[0;34m(\u001b[0m\u001b[0;34m*\u001b[0m\u001b[0margs\u001b[0m\u001b[0;34m,\u001b[0m \u001b[0;34m**\u001b[0m\u001b[0mkwargs\u001b[0m\u001b[0;34m)\u001b[0m\u001b[0;34m\u001b[0m\u001b[0;34m\u001b[0m\u001b[0m\n\u001b[0m\u001b[1;32m   1521\u001b[0m \u001b[0;34m\u001b[0m\u001b[0m\n\u001b[1;32m   1522\u001b[0m         \u001b[0;32mtry\u001b[0m\u001b[0;34m:\u001b[0m\u001b[0;34m\u001b[0m\u001b[0;34m\u001b[0m\u001b[0m\n",
      "\u001b[0;32m/usr/local/lib/python3.10/dist-packages/sentence_transformers/models/Transformer.py\u001b[0m in \u001b[0;36mforward\u001b[0;34m(self, features)\u001b[0m\n\u001b[1;32m     96\u001b[0m             \u001b[0mtrans_features\u001b[0m\u001b[0;34m[\u001b[0m\u001b[0;34m\"token_type_ids\"\u001b[0m\u001b[0;34m]\u001b[0m \u001b[0;34m=\u001b[0m \u001b[0mfeatures\u001b[0m\u001b[0;34m[\u001b[0m\u001b[0;34m\"token_type_ids\"\u001b[0m\u001b[0;34m]\u001b[0m\u001b[0;34m\u001b[0m\u001b[0;34m\u001b[0m\u001b[0m\n\u001b[1;32m     97\u001b[0m \u001b[0;34m\u001b[0m\u001b[0m\n\u001b[0;32m---> 98\u001b[0;31m         \u001b[0moutput_states\u001b[0m \u001b[0;34m=\u001b[0m \u001b[0mself\u001b[0m\u001b[0;34m.\u001b[0m\u001b[0mauto_model\u001b[0m\u001b[0;34m(\u001b[0m\u001b[0;34m**\u001b[0m\u001b[0mtrans_features\u001b[0m\u001b[0;34m,\u001b[0m \u001b[0mreturn_dict\u001b[0m\u001b[0;34m=\u001b[0m\u001b[0;32mFalse\u001b[0m\u001b[0;34m)\u001b[0m\u001b[0;34m\u001b[0m\u001b[0;34m\u001b[0m\u001b[0m\n\u001b[0m\u001b[1;32m     99\u001b[0m         \u001b[0moutput_tokens\u001b[0m \u001b[0;34m=\u001b[0m \u001b[0moutput_states\u001b[0m\u001b[0;34m[\u001b[0m\u001b[0;36m0\u001b[0m\u001b[0;34m]\u001b[0m\u001b[0;34m\u001b[0m\u001b[0;34m\u001b[0m\u001b[0m\n\u001b[1;32m    100\u001b[0m \u001b[0;34m\u001b[0m\u001b[0m\n",
      "\u001b[0;32m/usr/local/lib/python3.10/dist-packages/torch/nn/modules/module.py\u001b[0m in \u001b[0;36m_wrapped_call_impl\u001b[0;34m(self, *args, **kwargs)\u001b[0m\n\u001b[1;32m   1509\u001b[0m             \u001b[0;32mreturn\u001b[0m \u001b[0mself\u001b[0m\u001b[0;34m.\u001b[0m\u001b[0m_compiled_call_impl\u001b[0m\u001b[0;34m(\u001b[0m\u001b[0;34m*\u001b[0m\u001b[0margs\u001b[0m\u001b[0;34m,\u001b[0m \u001b[0;34m**\u001b[0m\u001b[0mkwargs\u001b[0m\u001b[0;34m)\u001b[0m  \u001b[0;31m# type: ignore[misc]\u001b[0m\u001b[0;34m\u001b[0m\u001b[0;34m\u001b[0m\u001b[0m\n\u001b[1;32m   1510\u001b[0m         \u001b[0;32melse\u001b[0m\u001b[0;34m:\u001b[0m\u001b[0;34m\u001b[0m\u001b[0;34m\u001b[0m\u001b[0m\n\u001b[0;32m-> 1511\u001b[0;31m             \u001b[0;32mreturn\u001b[0m \u001b[0mself\u001b[0m\u001b[0;34m.\u001b[0m\u001b[0m_call_impl\u001b[0m\u001b[0;34m(\u001b[0m\u001b[0;34m*\u001b[0m\u001b[0margs\u001b[0m\u001b[0;34m,\u001b[0m \u001b[0;34m**\u001b[0m\u001b[0mkwargs\u001b[0m\u001b[0;34m)\u001b[0m\u001b[0;34m\u001b[0m\u001b[0;34m\u001b[0m\u001b[0m\n\u001b[0m\u001b[1;32m   1512\u001b[0m \u001b[0;34m\u001b[0m\u001b[0m\n\u001b[1;32m   1513\u001b[0m     \u001b[0;32mdef\u001b[0m \u001b[0m_call_impl\u001b[0m\u001b[0;34m(\u001b[0m\u001b[0mself\u001b[0m\u001b[0;34m,\u001b[0m \u001b[0;34m*\u001b[0m\u001b[0margs\u001b[0m\u001b[0;34m,\u001b[0m \u001b[0;34m**\u001b[0m\u001b[0mkwargs\u001b[0m\u001b[0;34m)\u001b[0m\u001b[0;34m:\u001b[0m\u001b[0;34m\u001b[0m\u001b[0;34m\u001b[0m\u001b[0m\n",
      "\u001b[0;32m/usr/local/lib/python3.10/dist-packages/torch/nn/modules/module.py\u001b[0m in \u001b[0;36m_call_impl\u001b[0;34m(self, *args, **kwargs)\u001b[0m\n\u001b[1;32m   1518\u001b[0m                 \u001b[0;32mor\u001b[0m \u001b[0m_global_backward_pre_hooks\u001b[0m \u001b[0;32mor\u001b[0m \u001b[0m_global_backward_hooks\u001b[0m\u001b[0;34m\u001b[0m\u001b[0;34m\u001b[0m\u001b[0m\n\u001b[1;32m   1519\u001b[0m                 or _global_forward_hooks or _global_forward_pre_hooks):\n\u001b[0;32m-> 1520\u001b[0;31m             \u001b[0;32mreturn\u001b[0m \u001b[0mforward_call\u001b[0m\u001b[0;34m(\u001b[0m\u001b[0;34m*\u001b[0m\u001b[0margs\u001b[0m\u001b[0;34m,\u001b[0m \u001b[0;34m**\u001b[0m\u001b[0mkwargs\u001b[0m\u001b[0;34m)\u001b[0m\u001b[0;34m\u001b[0m\u001b[0;34m\u001b[0m\u001b[0m\n\u001b[0m\u001b[1;32m   1521\u001b[0m \u001b[0;34m\u001b[0m\u001b[0m\n\u001b[1;32m   1522\u001b[0m         \u001b[0;32mtry\u001b[0m\u001b[0;34m:\u001b[0m\u001b[0;34m\u001b[0m\u001b[0;34m\u001b[0m\u001b[0m\n",
      "\u001b[0;32m/usr/local/lib/python3.10/dist-packages/transformers/models/mpnet/modeling_mpnet.py\u001b[0m in \u001b[0;36mforward\u001b[0;34m(self, input_ids, attention_mask, position_ids, head_mask, inputs_embeds, output_attentions, output_hidden_states, return_dict, **kwargs)\u001b[0m\n\u001b[1;32m    546\u001b[0m         \u001b[0mhead_mask\u001b[0m \u001b[0;34m=\u001b[0m \u001b[0mself\u001b[0m\u001b[0;34m.\u001b[0m\u001b[0mget_head_mask\u001b[0m\u001b[0;34m(\u001b[0m\u001b[0mhead_mask\u001b[0m\u001b[0;34m,\u001b[0m \u001b[0mself\u001b[0m\u001b[0;34m.\u001b[0m\u001b[0mconfig\u001b[0m\u001b[0;34m.\u001b[0m\u001b[0mnum_hidden_layers\u001b[0m\u001b[0;34m)\u001b[0m\u001b[0;34m\u001b[0m\u001b[0;34m\u001b[0m\u001b[0m\n\u001b[1;32m    547\u001b[0m         \u001b[0membedding_output\u001b[0m \u001b[0;34m=\u001b[0m \u001b[0mself\u001b[0m\u001b[0;34m.\u001b[0m\u001b[0membeddings\u001b[0m\u001b[0;34m(\u001b[0m\u001b[0minput_ids\u001b[0m\u001b[0;34m=\u001b[0m\u001b[0minput_ids\u001b[0m\u001b[0;34m,\u001b[0m \u001b[0mposition_ids\u001b[0m\u001b[0;34m=\u001b[0m\u001b[0mposition_ids\u001b[0m\u001b[0;34m,\u001b[0m \u001b[0minputs_embeds\u001b[0m\u001b[0;34m=\u001b[0m\u001b[0minputs_embeds\u001b[0m\u001b[0;34m)\u001b[0m\u001b[0;34m\u001b[0m\u001b[0;34m\u001b[0m\u001b[0m\n\u001b[0;32m--> 548\u001b[0;31m         encoder_outputs = self.encoder(\n\u001b[0m\u001b[1;32m    549\u001b[0m             \u001b[0membedding_output\u001b[0m\u001b[0;34m,\u001b[0m\u001b[0;34m\u001b[0m\u001b[0;34m\u001b[0m\u001b[0m\n\u001b[1;32m    550\u001b[0m             \u001b[0mattention_mask\u001b[0m\u001b[0;34m=\u001b[0m\u001b[0mextended_attention_mask\u001b[0m\u001b[0;34m,\u001b[0m\u001b[0;34m\u001b[0m\u001b[0;34m\u001b[0m\u001b[0m\n",
      "\u001b[0;32m/usr/local/lib/python3.10/dist-packages/torch/nn/modules/module.py\u001b[0m in \u001b[0;36m_wrapped_call_impl\u001b[0;34m(self, *args, **kwargs)\u001b[0m\n\u001b[1;32m   1509\u001b[0m             \u001b[0;32mreturn\u001b[0m \u001b[0mself\u001b[0m\u001b[0;34m.\u001b[0m\u001b[0m_compiled_call_impl\u001b[0m\u001b[0;34m(\u001b[0m\u001b[0;34m*\u001b[0m\u001b[0margs\u001b[0m\u001b[0;34m,\u001b[0m \u001b[0;34m**\u001b[0m\u001b[0mkwargs\u001b[0m\u001b[0;34m)\u001b[0m  \u001b[0;31m# type: ignore[misc]\u001b[0m\u001b[0;34m\u001b[0m\u001b[0;34m\u001b[0m\u001b[0m\n\u001b[1;32m   1510\u001b[0m         \u001b[0;32melse\u001b[0m\u001b[0;34m:\u001b[0m\u001b[0;34m\u001b[0m\u001b[0;34m\u001b[0m\u001b[0m\n\u001b[0;32m-> 1511\u001b[0;31m             \u001b[0;32mreturn\u001b[0m \u001b[0mself\u001b[0m\u001b[0;34m.\u001b[0m\u001b[0m_call_impl\u001b[0m\u001b[0;34m(\u001b[0m\u001b[0;34m*\u001b[0m\u001b[0margs\u001b[0m\u001b[0;34m,\u001b[0m \u001b[0;34m**\u001b[0m\u001b[0mkwargs\u001b[0m\u001b[0;34m)\u001b[0m\u001b[0;34m\u001b[0m\u001b[0;34m\u001b[0m\u001b[0m\n\u001b[0m\u001b[1;32m   1512\u001b[0m \u001b[0;34m\u001b[0m\u001b[0m\n\u001b[1;32m   1513\u001b[0m     \u001b[0;32mdef\u001b[0m \u001b[0m_call_impl\u001b[0m\u001b[0;34m(\u001b[0m\u001b[0mself\u001b[0m\u001b[0;34m,\u001b[0m \u001b[0;34m*\u001b[0m\u001b[0margs\u001b[0m\u001b[0;34m,\u001b[0m \u001b[0;34m**\u001b[0m\u001b[0mkwargs\u001b[0m\u001b[0;34m)\u001b[0m\u001b[0;34m:\u001b[0m\u001b[0;34m\u001b[0m\u001b[0;34m\u001b[0m\u001b[0m\n",
      "\u001b[0;32m/usr/local/lib/python3.10/dist-packages/torch/nn/modules/module.py\u001b[0m in \u001b[0;36m_call_impl\u001b[0;34m(self, *args, **kwargs)\u001b[0m\n\u001b[1;32m   1518\u001b[0m                 \u001b[0;32mor\u001b[0m \u001b[0m_global_backward_pre_hooks\u001b[0m \u001b[0;32mor\u001b[0m \u001b[0m_global_backward_hooks\u001b[0m\u001b[0;34m\u001b[0m\u001b[0;34m\u001b[0m\u001b[0m\n\u001b[1;32m   1519\u001b[0m                 or _global_forward_hooks or _global_forward_pre_hooks):\n\u001b[0;32m-> 1520\u001b[0;31m             \u001b[0;32mreturn\u001b[0m \u001b[0mforward_call\u001b[0m\u001b[0;34m(\u001b[0m\u001b[0;34m*\u001b[0m\u001b[0margs\u001b[0m\u001b[0;34m,\u001b[0m \u001b[0;34m**\u001b[0m\u001b[0mkwargs\u001b[0m\u001b[0;34m)\u001b[0m\u001b[0;34m\u001b[0m\u001b[0;34m\u001b[0m\u001b[0m\n\u001b[0m\u001b[1;32m   1521\u001b[0m \u001b[0;34m\u001b[0m\u001b[0m\n\u001b[1;32m   1522\u001b[0m         \u001b[0;32mtry\u001b[0m\u001b[0;34m:\u001b[0m\u001b[0;34m\u001b[0m\u001b[0;34m\u001b[0m\u001b[0m\n",
      "\u001b[0;32m/usr/local/lib/python3.10/dist-packages/transformers/models/mpnet/modeling_mpnet.py\u001b[0m in \u001b[0;36mforward\u001b[0;34m(self, hidden_states, attention_mask, head_mask, output_attentions, output_hidden_states, return_dict, **kwargs)\u001b[0m\n\u001b[1;32m    336\u001b[0m                 \u001b[0mall_hidden_states\u001b[0m \u001b[0;34m=\u001b[0m \u001b[0mall_hidden_states\u001b[0m \u001b[0;34m+\u001b[0m \u001b[0;34m(\u001b[0m\u001b[0mhidden_states\u001b[0m\u001b[0;34m,\u001b[0m\u001b[0;34m)\u001b[0m\u001b[0;34m\u001b[0m\u001b[0;34m\u001b[0m\u001b[0m\n\u001b[1;32m    337\u001b[0m \u001b[0;34m\u001b[0m\u001b[0m\n\u001b[0;32m--> 338\u001b[0;31m             layer_outputs = layer_module(\n\u001b[0m\u001b[1;32m    339\u001b[0m                 \u001b[0mhidden_states\u001b[0m\u001b[0;34m,\u001b[0m\u001b[0;34m\u001b[0m\u001b[0;34m\u001b[0m\u001b[0m\n\u001b[1;32m    340\u001b[0m                 \u001b[0mattention_mask\u001b[0m\u001b[0;34m,\u001b[0m\u001b[0;34m\u001b[0m\u001b[0;34m\u001b[0m\u001b[0m\n",
      "\u001b[0;32m/usr/local/lib/python3.10/dist-packages/torch/nn/modules/module.py\u001b[0m in \u001b[0;36m_wrapped_call_impl\u001b[0;34m(self, *args, **kwargs)\u001b[0m\n\u001b[1;32m   1509\u001b[0m             \u001b[0;32mreturn\u001b[0m \u001b[0mself\u001b[0m\u001b[0;34m.\u001b[0m\u001b[0m_compiled_call_impl\u001b[0m\u001b[0;34m(\u001b[0m\u001b[0;34m*\u001b[0m\u001b[0margs\u001b[0m\u001b[0;34m,\u001b[0m \u001b[0;34m**\u001b[0m\u001b[0mkwargs\u001b[0m\u001b[0;34m)\u001b[0m  \u001b[0;31m# type: ignore[misc]\u001b[0m\u001b[0;34m\u001b[0m\u001b[0;34m\u001b[0m\u001b[0m\n\u001b[1;32m   1510\u001b[0m         \u001b[0;32melse\u001b[0m\u001b[0;34m:\u001b[0m\u001b[0;34m\u001b[0m\u001b[0;34m\u001b[0m\u001b[0m\n\u001b[0;32m-> 1511\u001b[0;31m             \u001b[0;32mreturn\u001b[0m \u001b[0mself\u001b[0m\u001b[0;34m.\u001b[0m\u001b[0m_call_impl\u001b[0m\u001b[0;34m(\u001b[0m\u001b[0;34m*\u001b[0m\u001b[0margs\u001b[0m\u001b[0;34m,\u001b[0m \u001b[0;34m**\u001b[0m\u001b[0mkwargs\u001b[0m\u001b[0;34m)\u001b[0m\u001b[0;34m\u001b[0m\u001b[0;34m\u001b[0m\u001b[0m\n\u001b[0m\u001b[1;32m   1512\u001b[0m \u001b[0;34m\u001b[0m\u001b[0m\n\u001b[1;32m   1513\u001b[0m     \u001b[0;32mdef\u001b[0m \u001b[0m_call_impl\u001b[0m\u001b[0;34m(\u001b[0m\u001b[0mself\u001b[0m\u001b[0;34m,\u001b[0m \u001b[0;34m*\u001b[0m\u001b[0margs\u001b[0m\u001b[0;34m,\u001b[0m \u001b[0;34m**\u001b[0m\u001b[0mkwargs\u001b[0m\u001b[0;34m)\u001b[0m\u001b[0;34m:\u001b[0m\u001b[0;34m\u001b[0m\u001b[0;34m\u001b[0m\u001b[0m\n",
      "\u001b[0;32m/usr/local/lib/python3.10/dist-packages/torch/nn/modules/module.py\u001b[0m in \u001b[0;36m_call_impl\u001b[0;34m(self, *args, **kwargs)\u001b[0m\n\u001b[1;32m   1518\u001b[0m                 \u001b[0;32mor\u001b[0m \u001b[0m_global_backward_pre_hooks\u001b[0m \u001b[0;32mor\u001b[0m \u001b[0m_global_backward_hooks\u001b[0m\u001b[0;34m\u001b[0m\u001b[0;34m\u001b[0m\u001b[0m\n\u001b[1;32m   1519\u001b[0m                 or _global_forward_hooks or _global_forward_pre_hooks):\n\u001b[0;32m-> 1520\u001b[0;31m             \u001b[0;32mreturn\u001b[0m \u001b[0mforward_call\u001b[0m\u001b[0;34m(\u001b[0m\u001b[0;34m*\u001b[0m\u001b[0margs\u001b[0m\u001b[0;34m,\u001b[0m \u001b[0;34m**\u001b[0m\u001b[0mkwargs\u001b[0m\u001b[0;34m)\u001b[0m\u001b[0;34m\u001b[0m\u001b[0;34m\u001b[0m\u001b[0m\n\u001b[0m\u001b[1;32m   1521\u001b[0m \u001b[0;34m\u001b[0m\u001b[0m\n\u001b[1;32m   1522\u001b[0m         \u001b[0;32mtry\u001b[0m\u001b[0;34m:\u001b[0m\u001b[0;34m\u001b[0m\u001b[0;34m\u001b[0m\u001b[0m\n",
      "\u001b[0;32m/usr/local/lib/python3.10/dist-packages/transformers/models/mpnet/modeling_mpnet.py\u001b[0m in \u001b[0;36mforward\u001b[0;34m(self, hidden_states, attention_mask, head_mask, position_bias, output_attentions, **kwargs)\u001b[0m\n\u001b[1;32m    295\u001b[0m         \u001b[0;34m**\u001b[0m\u001b[0mkwargs\u001b[0m\u001b[0;34m,\u001b[0m\u001b[0;34m\u001b[0m\u001b[0;34m\u001b[0m\u001b[0m\n\u001b[1;32m    296\u001b[0m     ):\n\u001b[0;32m--> 297\u001b[0;31m         self_attention_outputs = self.attention(\n\u001b[0m\u001b[1;32m    298\u001b[0m             \u001b[0mhidden_states\u001b[0m\u001b[0;34m,\u001b[0m\u001b[0;34m\u001b[0m\u001b[0;34m\u001b[0m\u001b[0m\n\u001b[1;32m    299\u001b[0m             \u001b[0mattention_mask\u001b[0m\u001b[0;34m,\u001b[0m\u001b[0;34m\u001b[0m\u001b[0;34m\u001b[0m\u001b[0m\n",
      "\u001b[0;32m/usr/local/lib/python3.10/dist-packages/torch/nn/modules/module.py\u001b[0m in \u001b[0;36m_wrapped_call_impl\u001b[0;34m(self, *args, **kwargs)\u001b[0m\n\u001b[1;32m   1509\u001b[0m             \u001b[0;32mreturn\u001b[0m \u001b[0mself\u001b[0m\u001b[0;34m.\u001b[0m\u001b[0m_compiled_call_impl\u001b[0m\u001b[0;34m(\u001b[0m\u001b[0;34m*\u001b[0m\u001b[0margs\u001b[0m\u001b[0;34m,\u001b[0m \u001b[0;34m**\u001b[0m\u001b[0mkwargs\u001b[0m\u001b[0;34m)\u001b[0m  \u001b[0;31m# type: ignore[misc]\u001b[0m\u001b[0;34m\u001b[0m\u001b[0;34m\u001b[0m\u001b[0m\n\u001b[1;32m   1510\u001b[0m         \u001b[0;32melse\u001b[0m\u001b[0;34m:\u001b[0m\u001b[0;34m\u001b[0m\u001b[0;34m\u001b[0m\u001b[0m\n\u001b[0;32m-> 1511\u001b[0;31m             \u001b[0;32mreturn\u001b[0m \u001b[0mself\u001b[0m\u001b[0;34m.\u001b[0m\u001b[0m_call_impl\u001b[0m\u001b[0;34m(\u001b[0m\u001b[0;34m*\u001b[0m\u001b[0margs\u001b[0m\u001b[0;34m,\u001b[0m \u001b[0;34m**\u001b[0m\u001b[0mkwargs\u001b[0m\u001b[0;34m)\u001b[0m\u001b[0;34m\u001b[0m\u001b[0;34m\u001b[0m\u001b[0m\n\u001b[0m\u001b[1;32m   1512\u001b[0m \u001b[0;34m\u001b[0m\u001b[0m\n\u001b[1;32m   1513\u001b[0m     \u001b[0;32mdef\u001b[0m \u001b[0m_call_impl\u001b[0m\u001b[0;34m(\u001b[0m\u001b[0mself\u001b[0m\u001b[0;34m,\u001b[0m \u001b[0;34m*\u001b[0m\u001b[0margs\u001b[0m\u001b[0;34m,\u001b[0m \u001b[0;34m**\u001b[0m\u001b[0mkwargs\u001b[0m\u001b[0;34m)\u001b[0m\u001b[0;34m:\u001b[0m\u001b[0;34m\u001b[0m\u001b[0;34m\u001b[0m\u001b[0m\n",
      "\u001b[0;32m/usr/local/lib/python3.10/dist-packages/torch/nn/modules/module.py\u001b[0m in \u001b[0;36m_call_impl\u001b[0;34m(self, *args, **kwargs)\u001b[0m\n\u001b[1;32m   1518\u001b[0m                 \u001b[0;32mor\u001b[0m \u001b[0m_global_backward_pre_hooks\u001b[0m \u001b[0;32mor\u001b[0m \u001b[0m_global_backward_hooks\u001b[0m\u001b[0;34m\u001b[0m\u001b[0;34m\u001b[0m\u001b[0m\n\u001b[1;32m   1519\u001b[0m                 or _global_forward_hooks or _global_forward_pre_hooks):\n\u001b[0;32m-> 1520\u001b[0;31m             \u001b[0;32mreturn\u001b[0m \u001b[0mforward_call\u001b[0m\u001b[0;34m(\u001b[0m\u001b[0;34m*\u001b[0m\u001b[0margs\u001b[0m\u001b[0;34m,\u001b[0m \u001b[0;34m**\u001b[0m\u001b[0mkwargs\u001b[0m\u001b[0;34m)\u001b[0m\u001b[0;34m\u001b[0m\u001b[0;34m\u001b[0m\u001b[0m\n\u001b[0m\u001b[1;32m   1521\u001b[0m \u001b[0;34m\u001b[0m\u001b[0m\n\u001b[1;32m   1522\u001b[0m         \u001b[0;32mtry\u001b[0m\u001b[0;34m:\u001b[0m\u001b[0;34m\u001b[0m\u001b[0;34m\u001b[0m\u001b[0m\n",
      "\u001b[0;32m/usr/local/lib/python3.10/dist-packages/transformers/models/mpnet/modeling_mpnet.py\u001b[0m in \u001b[0;36mforward\u001b[0;34m(self, hidden_states, attention_mask, head_mask, position_bias, output_attentions, **kwargs)\u001b[0m\n\u001b[1;32m    236\u001b[0m         \u001b[0;34m**\u001b[0m\u001b[0mkwargs\u001b[0m\u001b[0;34m,\u001b[0m\u001b[0;34m\u001b[0m\u001b[0;34m\u001b[0m\u001b[0m\n\u001b[1;32m    237\u001b[0m     ):\n\u001b[0;32m--> 238\u001b[0;31m         self_outputs = self.attn(\n\u001b[0m\u001b[1;32m    239\u001b[0m             \u001b[0mhidden_states\u001b[0m\u001b[0;34m,\u001b[0m\u001b[0;34m\u001b[0m\u001b[0;34m\u001b[0m\u001b[0m\n\u001b[1;32m    240\u001b[0m             \u001b[0mattention_mask\u001b[0m\u001b[0;34m,\u001b[0m\u001b[0;34m\u001b[0m\u001b[0;34m\u001b[0m\u001b[0m\n",
      "\u001b[0;32m/usr/local/lib/python3.10/dist-packages/torch/nn/modules/module.py\u001b[0m in \u001b[0;36m_wrapped_call_impl\u001b[0;34m(self, *args, **kwargs)\u001b[0m\n\u001b[1;32m   1509\u001b[0m             \u001b[0;32mreturn\u001b[0m \u001b[0mself\u001b[0m\u001b[0;34m.\u001b[0m\u001b[0m_compiled_call_impl\u001b[0m\u001b[0;34m(\u001b[0m\u001b[0;34m*\u001b[0m\u001b[0margs\u001b[0m\u001b[0;34m,\u001b[0m \u001b[0;34m**\u001b[0m\u001b[0mkwargs\u001b[0m\u001b[0;34m)\u001b[0m  \u001b[0;31m# type: ignore[misc]\u001b[0m\u001b[0;34m\u001b[0m\u001b[0;34m\u001b[0m\u001b[0m\n\u001b[1;32m   1510\u001b[0m         \u001b[0;32melse\u001b[0m\u001b[0;34m:\u001b[0m\u001b[0;34m\u001b[0m\u001b[0;34m\u001b[0m\u001b[0m\n\u001b[0;32m-> 1511\u001b[0;31m             \u001b[0;32mreturn\u001b[0m \u001b[0mself\u001b[0m\u001b[0;34m.\u001b[0m\u001b[0m_call_impl\u001b[0m\u001b[0;34m(\u001b[0m\u001b[0;34m*\u001b[0m\u001b[0margs\u001b[0m\u001b[0;34m,\u001b[0m \u001b[0;34m**\u001b[0m\u001b[0mkwargs\u001b[0m\u001b[0;34m)\u001b[0m\u001b[0;34m\u001b[0m\u001b[0;34m\u001b[0m\u001b[0m\n\u001b[0m\u001b[1;32m   1512\u001b[0m \u001b[0;34m\u001b[0m\u001b[0m\n\u001b[1;32m   1513\u001b[0m     \u001b[0;32mdef\u001b[0m \u001b[0m_call_impl\u001b[0m\u001b[0;34m(\u001b[0m\u001b[0mself\u001b[0m\u001b[0;34m,\u001b[0m \u001b[0;34m*\u001b[0m\u001b[0margs\u001b[0m\u001b[0;34m,\u001b[0m \u001b[0;34m**\u001b[0m\u001b[0mkwargs\u001b[0m\u001b[0;34m)\u001b[0m\u001b[0;34m:\u001b[0m\u001b[0;34m\u001b[0m\u001b[0;34m\u001b[0m\u001b[0m\n",
      "\u001b[0;32m/usr/local/lib/python3.10/dist-packages/torch/nn/modules/module.py\u001b[0m in \u001b[0;36m_call_impl\u001b[0;34m(self, *args, **kwargs)\u001b[0m\n\u001b[1;32m   1518\u001b[0m                 \u001b[0;32mor\u001b[0m \u001b[0m_global_backward_pre_hooks\u001b[0m \u001b[0;32mor\u001b[0m \u001b[0m_global_backward_hooks\u001b[0m\u001b[0;34m\u001b[0m\u001b[0;34m\u001b[0m\u001b[0m\n\u001b[1;32m   1519\u001b[0m                 or _global_forward_hooks or _global_forward_pre_hooks):\n\u001b[0;32m-> 1520\u001b[0;31m             \u001b[0;32mreturn\u001b[0m \u001b[0mforward_call\u001b[0m\u001b[0;34m(\u001b[0m\u001b[0;34m*\u001b[0m\u001b[0margs\u001b[0m\u001b[0;34m,\u001b[0m \u001b[0;34m**\u001b[0m\u001b[0mkwargs\u001b[0m\u001b[0;34m)\u001b[0m\u001b[0;34m\u001b[0m\u001b[0;34m\u001b[0m\u001b[0m\n\u001b[0m\u001b[1;32m   1521\u001b[0m \u001b[0;34m\u001b[0m\u001b[0m\n\u001b[1;32m   1522\u001b[0m         \u001b[0;32mtry\u001b[0m\u001b[0;34m:\u001b[0m\u001b[0;34m\u001b[0m\u001b[0;34m\u001b[0m\u001b[0m\n",
      "\u001b[0;32m/usr/local/lib/python3.10/dist-packages/transformers/models/mpnet/modeling_mpnet.py\u001b[0m in \u001b[0;36mforward\u001b[0;34m(self, hidden_states, attention_mask, head_mask, position_bias, output_attentions, **kwargs)\u001b[0m\n\u001b[1;32m    190\u001b[0m             \u001b[0mattention_probs\u001b[0m \u001b[0;34m=\u001b[0m \u001b[0mattention_probs\u001b[0m \u001b[0;34m*\u001b[0m \u001b[0mhead_mask\u001b[0m\u001b[0;34m\u001b[0m\u001b[0;34m\u001b[0m\u001b[0m\n\u001b[1;32m    191\u001b[0m \u001b[0;34m\u001b[0m\u001b[0m\n\u001b[0;32m--> 192\u001b[0;31m         \u001b[0mc\u001b[0m \u001b[0;34m=\u001b[0m \u001b[0mtorch\u001b[0m\u001b[0;34m.\u001b[0m\u001b[0mmatmul\u001b[0m\u001b[0;34m(\u001b[0m\u001b[0mattention_probs\u001b[0m\u001b[0;34m,\u001b[0m \u001b[0mv\u001b[0m\u001b[0;34m)\u001b[0m\u001b[0;34m\u001b[0m\u001b[0;34m\u001b[0m\u001b[0m\n\u001b[0m\u001b[1;32m    193\u001b[0m \u001b[0;34m\u001b[0m\u001b[0m\n\u001b[1;32m    194\u001b[0m         \u001b[0mc\u001b[0m \u001b[0;34m=\u001b[0m \u001b[0mc\u001b[0m\u001b[0;34m.\u001b[0m\u001b[0mpermute\u001b[0m\u001b[0;34m(\u001b[0m\u001b[0;36m0\u001b[0m\u001b[0;34m,\u001b[0m \u001b[0;36m2\u001b[0m\u001b[0;34m,\u001b[0m \u001b[0;36m1\u001b[0m\u001b[0;34m,\u001b[0m \u001b[0;36m3\u001b[0m\u001b[0;34m)\u001b[0m\u001b[0;34m.\u001b[0m\u001b[0mcontiguous\u001b[0m\u001b[0;34m(\u001b[0m\u001b[0;34m)\u001b[0m\u001b[0;34m\u001b[0m\u001b[0;34m\u001b[0m\u001b[0m\n",
      "\u001b[0;31mKeyboardInterrupt\u001b[0m: "
     ]
    }
   ],
   "source": [
    "# It will take a few minutes to download the pre-trained model at first time,you can try different models in https://www.sbert.net/docs/pretrained_models.html\n",
    "from sentence_transformers import SentenceTransformer\n",
    "#sentences = [\"This is an example sentence\", \"Each sentence is converted\"]\n",
    "\n",
    "sentences = bookings_df['cleaned'].values\n",
    "model = SentenceTransformer('sentence-transformers/all-mpnet-base-v2')\n",
    "sentence_embeddings = model.encode(sentences)\n",
    "sentence_embeddings[0]"
   ]
  },
  {
   "cell_type": "markdown",
   "metadata": {
    "id": "arvJmrSODwCG"
   },
   "source": [
    "Use user id = 10 as a new user to give rating and build a user profile for it"
   ]
  },
  {
   "cell_type": "code",
   "execution_count": null,
   "metadata": {
    "colab": {
     "background_save": true
    },
    "id": "Mn17kPHAD6sw"
   },
   "outputs": [],
   "source": [
    "user_rating_df = ratings_df[ratings_df['userId'] == 10]\n",
    "user_preference_df = user_rating_df.sample(frac=0.20, random_state=2)\n",
    "user_preference_df = user_preference_df.reset_index(drop=True)\n",
    "user_preference_df"
   ]
  },
  {
   "cell_type": "code",
   "execution_count": null,
   "metadata": {
    "colab": {
     "background_save": true
    },
    "id": "pnN9krUwEGRe"
   },
   "outputs": [],
   "source": [
    "book_we_vector = pd.DataFrame(np.vstack(sentence_embeddings))\n",
    "we_feature_list = book_we_vector.columns.values\n",
    "book_we_vector"
   ]
  },
  {
   "cell_type": "code",
   "execution_count": null,
   "metadata": {
    "colab": {
     "background_save": true
    },
    "id": "kp-9uh6vEZ3M"
   },
   "outputs": [],
   "source": [
    "book_we_vector['book_id'] = book_we_vector['book_id']\n",
    "\n",
    "\n",
    "user_book_rating_df = pd.merge(user_preference_df, book_we_vector)\n",
    "user_book_rating_df"
   ]
  },
  {
   "cell_type": "code",
   "execution_count": null,
   "metadata": {
    "colab": {
     "background_save": true
    },
    "id": "l2W3pwR8Emqb"
   },
   "outputs": [],
   "source": [
    "# Maintain the Word-embeddings information\n",
    "user_book_df = user_book_rating_df.copy(deep=True)\n",
    "user_book_df = user_book_df[we_feature_list]\n",
    "user_book_df"
   ]
  },
  {
   "cell_type": "code",
   "execution_count": null,
   "metadata": {
    "colab": {
     "background_save": true
    },
    "id": "s9qPP5bkE2Ez"
   },
   "outputs": [],
   "source": [
    "rating_weight = [1/len(user_preference_df)]*len(user_preference_df)\n",
    "user_profile = user_book_df.T.dot(rating_weight)\n",
    "user_profile"
   ]
  },
  {
   "cell_type": "markdown",
   "metadata": {
    "id": "GGFShGscE9gz"
   },
   "source": [
    "the result of the recommendation based on the user 10 profile to calculate the similarity"
   ]
  },
  {
   "cell_type": "code",
   "execution_count": null,
   "metadata": {
    "colab": {
     "background_save": true
    },
    "id": "qjUQ9LgNFWwn"
   },
   "outputs": [],
   "source": [
    "# cosine similarity\n",
    "from sklearn.metrics.pairwise import cosine_similarity"
   ]
  },
  {
   "cell_type": "code",
   "execution_count": null,
   "metadata": {
    "colab": {
     "background_save": true
    },
    "id": "GEKxWIMbE7mx"
   },
   "outputs": [],
   "source": [
    "# Compute the cosine similarity\n",
    "\n",
    "u_v = user_profile.values\n",
    "u_v_matrix =  [u_v]\n",
    "\n",
    "recommendation_table =  cosine_similarity(u_v_matrix, sentence_embeddings)\n",
    "recommendation_table_df = bookings_df[['book_id', 'title']].copy(deep=True)\n",
    "recommendation_table_df['similarity'] = recommendation_table[0]\n",
    "recommendation_table_df\n",
    "\n",
    "rec_result_plot_based_case_2 = recommendation_table_df.sort_values(by=['similarity'], ascending=False)\n",
    "rec_result_plot_based_case_2.head(10)"
   ]
  }
 ],
 "metadata": {
  "colab": {
   "provenance": []
  },
  "kernelspec": {
   "display_name": "Python 3 (ipykernel)",
   "language": "python",
   "name": "python3"
  },
  "language_info": {
   "codemirror_mode": {
    "name": "ipython",
    "version": 3
   },
   "file_extension": ".py",
   "mimetype": "text/x-python",
   "name": "python",
   "nbconvert_exporter": "python",
   "pygments_lexer": "ipython3",
   "version": "3.11.8"
  }
 },
 "nbformat": 4,
 "nbformat_minor": 4
}
