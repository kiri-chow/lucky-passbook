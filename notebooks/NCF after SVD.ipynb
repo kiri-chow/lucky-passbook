{
 "cells": [
  {
   "cell_type": "markdown",
   "id": "3b53b281-b728-46ed-af6b-433f9fcbd5f6",
   "metadata": {},
   "source": [
    "# Load Data"
   ]
  },
  {
   "cell_type": "code",
   "execution_count": 1,
   "id": "5998910b-b81a-4d86-b77d-b352b310d23f",
   "metadata": {},
   "outputs": [
    {
     "name": "stdout",
     "output_type": "stream",
     "text": [
      "len(trainset.raw_ratings)=311390, len(testset)=51709\n"
     ]
    }
   ],
   "source": [
    "from recom_system.algorithms.preprocessing import get_ratings_datasets\n",
    "\n",
    "\n",
    "trainset, testset = get_ratings_datasets(train_size=0.8, drop_zero=True)\n",
    "print(f'{len(trainset.raw_ratings)=}, {len(testset)=}')\n"
   ]
  },
  {
   "cell_type": "markdown",
   "id": "a0589bdf-f533-40a9-abc1-257f8fd5d503",
   "metadata": {},
   "source": [
    "# Build Model"
   ]
  },
  {
   "cell_type": "code",
   "execution_count": 2,
   "id": "0df69190-4172-48e7-8755-85274ad3a86f",
   "metadata": {},
   "outputs": [
    {
     "name": "stderr",
     "output_type": "stream",
     "text": [
      "2024-04-24 22:42:31.296126: I tensorflow/core/platform/cpu_feature_guard.cc:210] This TensorFlow binary is optimized to use available CPU instructions in performance-critical operations.\n",
      "To enable the following instructions: AVX2 FMA, in other operations, rebuild TensorFlow with the appropriate compiler flags.\n",
      "2024-04-24 22:42:32.041236: W tensorflow/compiler/tf2tensorrt/utils/py_utils.cc:38] TF-TRT Warning: Could not find TensorRT\n"
     ]
    },
    {
     "name": "stdout",
     "output_type": "stream",
     "text": [
      "CPU times: user 904 ms, sys: 121 µs, total: 904 ms\n",
      "Wall time: 904 ms\n"
     ]
    },
    {
     "data": {
      "text/plain": [
       "<recom_system.algorithms.models.svd_nn.SvdNCF at 0x7d7e669fc510>"
      ]
     },
     "execution_count": 2,
     "metadata": {},
     "output_type": "execute_result"
    }
   ],
   "source": [
    "from recom_system.algorithms.models.svd_nn import SvdNCF\n",
    "\n",
    "\n",
    "svdncf = SvdNCF(svd_params={'n_factors': 10, 'n_epochs': 20},\n",
    "                ncf_params={'in_features': 20, 'out_features': 1},\n",
    ")\n",
    "%time svdncf.fit(trainset.build_full_trainset())"
   ]
  },
  {
   "cell_type": "code",
   "execution_count": 3,
   "id": "a3fa7e6a-cb56-4176-8833-162c70c32d7e",
   "metadata": {},
   "outputs": [
    {
     "name": "stderr",
     "output_type": "stream",
     "text": [
      "1/20: 100%|████████████████████████████████| 3893/3893 [00:11<00:00, 329.42it/s]\n",
      "2/20: 100%|████████████████████████████████| 3893/3893 [00:11<00:00, 336.60it/s]\n",
      "3/20: 100%|████████████████████████████████| 3893/3893 [00:11<00:00, 343.54it/s]\n",
      "4/20: 100%|████████████████████████████████| 3893/3893 [00:11<00:00, 345.16it/s]\n",
      "5/20: 100%|████████████████████████████████| 3893/3893 [00:11<00:00, 342.38it/s]\n",
      "6/20: 100%|████████████████████████████████| 3893/3893 [00:11<00:00, 351.39it/s]\n",
      "7/20: 100%|████████████████████████████████| 3893/3893 [00:11<00:00, 347.19it/s]\n",
      "8/20: 100%|████████████████████████████████| 3893/3893 [00:11<00:00, 349.64it/s]\n",
      "9/20: 100%|████████████████████████████████| 3893/3893 [00:11<00:00, 340.80it/s]\n",
      "10/20: 100%|███████████████████████████████| 3893/3893 [00:11<00:00, 345.61it/s]\n",
      "11/20: 100%|███████████████████████████████| 3893/3893 [00:11<00:00, 343.22it/s]\n",
      "12/20: 100%|███████████████████████████████| 3893/3893 [00:11<00:00, 346.08it/s]\n",
      "13/20: 100%|███████████████████████████████| 3893/3893 [00:11<00:00, 352.50it/s]\n",
      "14/20: 100%|███████████████████████████████| 3893/3893 [00:11<00:00, 341.63it/s]\n",
      "15/20: 100%|███████████████████████████████| 3893/3893 [00:11<00:00, 346.75it/s]\n",
      "16/20: 100%|███████████████████████████████| 3893/3893 [00:11<00:00, 332.71it/s]\n",
      "17/20: 100%|███████████████████████████████| 3893/3893 [00:17<00:00, 227.46it/s]\n",
      "18/20: 100%|███████████████████████████████| 3893/3893 [00:16<00:00, 236.33it/s]\n",
      "19/20: 100%|███████████████████████████████| 3893/3893 [00:17<00:00, 220.10it/s]\n",
      "20/20: 100%|███████████████████████████████| 3893/3893 [00:16<00:00, 236.16it/s]\n"
     ]
    }
   ],
   "source": [
    "import torch\n",
    "\n",
    "optimizer = torch.optim.Adam(svdncf.ncf.parameters(), lr=1e-3, weight_decay=1e-4)\n",
    "loss_func = torch.nn.MSELoss()\n",
    "\n",
    "losses = svdncf.train(optimizer, loss_func, epochs=20)"
   ]
  },
  {
   "cell_type": "code",
   "execution_count": null,
   "id": "75f61b7f-0143-4b36-8cea-96312837b8ce",
   "metadata": {},
   "outputs": [],
   "source": []
  },
  {
   "cell_type": "code",
   "execution_count": 4,
   "id": "aa39996d-ca71-4c61-bcc2-8960f4ed45f1",
   "metadata": {},
   "outputs": [
    {
     "data": {
      "text/plain": [
       "Text(0, 0.5, 'mse')"
      ]
     },
     "execution_count": 4,
     "metadata": {},
     "output_type": "execute_result"
    },
    {
     "data": {
      "image/png": "[encoded data removed]",
      "text/plain": [
       "<Figure size 640x480 with 1 Axes>"
      ]
     },
     "metadata": {},
     "output_type": "display_data"
    }
   ],
   "source": [
    "from matplotlib import pyplot as plt\n",
    "\n",
    "train_loss, test_loss = zip(*losses)\n",
    "plt.plot(range(len(train_loss)), train_loss, label='train loss')\n",
    "plt.plot(range(len(test_loss)), test_loss, label='test loss')\n",
    "plt.title('Learning Curve')\n",
    "plt.xlabel('epoch')\n",
    "plt.ylabel('mse')"
   ]
  },
  {
   "cell_type": "code",
   "execution_count": 6,
   "id": "20319c53-b17a-4fef-949c-dc8bb748098d",
   "metadata": {},
   "outputs": [
    {
     "data": {
      "text/plain": [
       "('./svd.pkl', './ncf.pt')"
      ]
     },
     "execution_count": 6,
     "metadata": {},
     "output_type": "execute_result"
    }
   ],
   "source": [
    "import pickle\n",
    "import os\n",
    "import torch\n",
    "\n",
    "\n",
    "def save_model(model, path):\n",
    "    svd = model.svd\n",
    "    ncf = model.ncf\n",
    "    path_svd = os.path.join(path, 'svd.pkl')\n",
    "    path_ncf = os.path.join(path, 'ncf.pt')\n",
    "\n",
    "    with open(path_svd, 'wb') as f:\n",
    "        pickle.dump(svd, f)\n",
    "    torch.save(ncf.state_dict(), path_ncf)\n",
    "    return (path_svd, path_ncf)\n",
    "\n",
    "save_model(svdncf, '.')"
   ]
  },
  {
   "cell_type": "markdown",
   "id": "6cbd7d52-814a-4849-8142-e138ebab3d16",
   "metadata": {},
   "source": [
    "# Test"
   ]
  },
  {
   "cell_type": "code",
   "execution_count": 2,
   "id": "29db6e64-f910-4d03-a365-fb3a0574e90a",
   "metadata": {},
   "outputs": [
    {
     "name": "stderr",
     "output_type": "stream",
     "text": [
      "2024-04-24 23:03:36.961700: I tensorflow/core/platform/cpu_feature_guard.cc:210] This TensorFlow binary is optimized to use available CPU instructions in performance-critical operations.\n",
      "To enable the following instructions: AVX2 FMA, in other operations, rebuild TensorFlow with the appropriate compiler flags.\n",
      "2024-04-24 23:03:37.731450: W tensorflow/compiler/tf2tensorrt/utils/py_utils.cc:38] TF-TRT Warning: Could not find TensorRT\n"
     ]
    }
   ],
   "source": [
    "from recom_system.algorithms.models.svd_nn import SvdNCF\n",
    "\n",
    "svdncf = SvdNCF.load('.')"
   ]
  },
  {
   "cell_type": "code",
   "execution_count": 16,
   "id": "6746b4b9-230d-446c-a078-a3c2bf2e6e32",
   "metadata": {},
   "outputs": [
    {
     "data": {
      "text/plain": [
       "{'rmse': 0.8533428325075073,\n",
       " 'ndcg@10': 0.9927735543250672,\n",
       " 'precision@20': 0.7470016824246439,\n",
       " 'recall@20': 0.7974929037555882}"
      ]
     },
     "execution_count": 16,
     "metadata": {},
     "output_type": "execute_result"
    }
   ],
   "source": [
    "from recom_system.algorithms.metrics import evaluate\n",
    "\n",
    "results_svdncf = evaluate(svdncf, testset, ['rmse', 'ndcg@10', 'precision@20', 'recall@20'])\n",
    "results_svdncf"
   ]
  },
  {
   "cell_type": "markdown",
   "id": "20d6de8d-617f-4d42-bdb0-f7b2a8e23ddc",
   "metadata": {},
   "source": [
    "# Train A Classifier"
   ]
  },
  {
   "cell_type": "code",
   "execution_count": 5,
   "id": "16397f28-9656-497e-a550-4101e4d93c20",
   "metadata": {},
   "outputs": [
    {
     "name": "stdout",
     "output_type": "stream",
     "text": [
      "CPU times: user 833 ms, sys: 4.01 ms, total: 837 ms\n",
      "Wall time: 837 ms\n"
     ]
    },
    {
     "data": {
      "text/plain": [
       "<recom_system.algorithms.models.svd_nn.SvdNCFClf at 0x75a2d66e2b50>"
      ]
     },
     "execution_count": 5,
     "metadata": {},
     "output_type": "execute_result"
    }
   ],
   "source": [
    "from recom_system.algorithms.models.svd_nn import SvdNCFClf\n",
    "\n",
    "snclf = SvdNCFClf(svd_params={'n_factors': 10, 'n_epochs': 20},\n",
    "                    ncf_params={'in_features': 20, 'out_features': 1}, biased=False)\n",
    "%time snclf.fit(trainset.build_full_trainset())"
   ]
  },
  {
   "cell_type": "code",
   "execution_count": 6,
   "id": "9a1b0ebd-dad1-470f-b524-ce7bd3c88726",
   "metadata": {},
   "outputs": [
    {
     "name": "stderr",
     "output_type": "stream",
     "text": [
      "1/20: 100%|████████████████████████████████| 3893/3893 [00:15<00:00, 256.92it/s]\n",
      "2/20: 100%|████████████████████████████████| 3893/3893 [00:15<00:00, 249.93it/s]\n",
      "3/20: 100%|████████████████████████████████| 3893/3893 [00:15<00:00, 244.54it/s]\n",
      "4/20: 100%|████████████████████████████████| 3893/3893 [00:15<00:00, 247.84it/s]\n",
      "5/20: 100%|████████████████████████████████| 3893/3893 [00:15<00:00, 249.23it/s]\n",
      "6/20: 100%|████████████████████████████████| 3893/3893 [00:15<00:00, 254.99it/s]\n",
      "7/20: 100%|████████████████████████████████| 3893/3893 [00:14<00:00, 261.14it/s]\n",
      "8/20: 100%|████████████████████████████████| 3893/3893 [00:14<00:00, 261.92it/s]\n",
      "9/20: 100%|████████████████████████████████| 3893/3893 [00:14<00:00, 265.48it/s]\n",
      "10/20: 100%|███████████████████████████████| 3893/3893 [00:15<00:00, 259.44it/s]\n",
      "11/20: 100%|███████████████████████████████| 3893/3893 [00:15<00:00, 256.67it/s]\n",
      "12/20: 100%|███████████████████████████████| 3893/3893 [00:14<00:00, 263.26it/s]\n",
      "13/20: 100%|███████████████████████████████| 3893/3893 [00:16<00:00, 240.50it/s]\n",
      "14/20: 100%|███████████████████████████████| 3893/3893 [00:15<00:00, 245.59it/s]\n",
      "15/20: 100%|███████████████████████████████| 3893/3893 [00:15<00:00, 247.26it/s]\n",
      "16/20: 100%|███████████████████████████████| 3893/3893 [00:15<00:00, 247.85it/s]\n",
      "17/20: 100%|███████████████████████████████| 3893/3893 [00:15<00:00, 251.27it/s]\n",
      "18/20: 100%|███████████████████████████████| 3893/3893 [00:15<00:00, 252.67it/s]\n",
      "19/20: 100%|███████████████████████████████| 3893/3893 [00:15<00:00, 253.68it/s]\n",
      "20/20: 100%|███████████████████████████████| 3893/3893 [00:15<00:00, 255.04it/s]\n"
     ]
    }
   ],
   "source": [
    "import torch\n",
    "\n",
    "optimizer = torch.optim.Adam(snclf.ncf.parameters(), lr=1e-3, weight_decay=1e-4)\n",
    "loss_func = torch.nn.MSELoss()\n",
    "\n",
    "losses = snclf.train(optimizer, loss_func, epochs=20)"
   ]
  },
  {
   "cell_type": "code",
   "execution_count": 7,
   "id": "40eeed4a-bf28-47de-bf21-856a94db7b76",
   "metadata": {},
   "outputs": [
    {
     "data": {
      "text/plain": [
       "{'ndcg@10': 0.9926825940658304,\n",
       " 'precision@20': 0.7470097843140046,\n",
       " 'recall@20': 0.7975005337834039}"
      ]
     },
     "execution_count": 7,
     "metadata": {},
     "output_type": "execute_result"
    }
   ],
   "source": [
    "from recom_system.algorithms.metrics import evaluate\n",
    "\n",
    "results_snclf = evaluate(snclf, testset, ['ndcg@10', 'precision@20', 'recall@20'])\n",
    "results_snclf"
   ]
  },
  {
   "cell_type": "code",
   "execution_count": null,
   "id": "4736378c-9a44-436b-be4a-9eb4aa0c245a",
   "metadata": {},
   "outputs": [],
   "source": []
  }
 ],
 "metadata": {
  "kernelspec": {
   "display_name": "Python 3 (ipykernel)",
   "language": "python",
   "name": "python3"
  },
  "language_info": {
   "codemirror_mode": {
    "name": "ipython",
    "version": 3
   },
   "file_extension": ".py",
   "mimetype": "text/x-python",
   "name": "python",
   "nbconvert_exporter": "python",
   "pygments_lexer": "ipython3",
   "version": "3.11.8"
  }
 },
 "nbformat": 4,
 "nbformat_minor": 5
}
